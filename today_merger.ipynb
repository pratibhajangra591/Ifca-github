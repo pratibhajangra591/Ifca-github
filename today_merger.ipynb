{
 "cells": [
  {
   "cell_type": "code",
   "execution_count": 22,
   "metadata": {},
   "outputs": [
    {
     "name": "stdout",
     "output_type": "stream",
     "text": [
      "PDF 0.00015564593976245\n",
      "h= 17.843\n",
      "g= 17.915\n",
      "PDF= 1.556e-04\n",
      "Merger Rate= 2.6633 Gpc^-3 yr^-1\n"
     ]
    }
   ],
   "source": [
    "import numpy as np\n",
    "import matplotlib.pyplot as plt\n",
    "import math\n",
    "import seaborn as sns\n",
    "\n",
    "\n",
    "k=3.9e6          # a constant with units of Gpc^{-3} yr^{-3/37}\n",
    "t_0=13.78e9      # in units of years\n",
    "t=13.38e9        # in units of years , let t=t_0 (i.e. calcluating the merger rate today)\n",
    "\n",
    "f_pbh=4.3e-3\n",
    "f=(0.85*f_pbh)               #f_pbh=f/0.85 ie. f=0.85*f_pbh\n",
    "σ_eq=0.005\n",
    " \n",
    "    \n",
    "T=((t/t_0)**(-34/37))\n",
    "    \n",
    "def h(m_1,m_2):\n",
    "    return (((m_1*m_2)**(3/37))*((m_1+m_2)**(36/37)))\n",
    "\n",
    "def g(f):\n",
    "    return (((f**2) + (σ_eq**2))**(-21/74))\n",
    "\n",
    "def PDF(m_1,m_2):\n",
    "    return  (((P(m_1)/m_1)+(P(m_2)/m_2))*(np.minimum((P(m_1)/m_1),(P(m_2)/m_2))))\n",
    "\n",
    "\n",
    "def merger_rate(m_1,m_2):\n",
    "    return (k*T*(f**2)*g(f)*PDF(m_1,m_2)*h(m_1,m_2))\n",
    "   \n",
    "    \n",
    "# Calculation of the 1d merger rate for Power Law PDF    \n",
    "α = 1.6\n",
    "M=5\n",
    "def P(m): #Powerlaw PBH mass distribution\n",
    "    return (((α-1)/M)*((m/M)**(-α)))\n",
    "\n",
    "\n",
    "print(\"PDF\",PDF(8,6))\n",
    "print(\"h=\",'%0.3f'%h(8,6))\n",
    "print(\"g=\",'%0.3f'%g(0.85*f_pbh))\n",
    "print(\"PDF=\",'%0.3e'%PDF(8,6))\n",
    "print(\"Merger Rate=\",'%0.4f'%merger_rate(8,6),\"Gpc^-3 yr^-1\" )"
   ]
  },
  {
   "cell_type": "code",
   "execution_count": 25,
   "metadata": {},
   "outputs": [
    {
     "data": {
      "image/png": "[encoded data removed]",
      "text/plain": [
       "<Figure size 576x432 with 2 Axes>"
      ]
     },
     "metadata": {
      "needs_background": "light"
     },
     "output_type": "display_data"
    }
   ],
   "source": [
    "m_1 = np.geomspace(5, 100, 10)\n",
    "m_2 = np.geomspace(5, 100, 10)\n",
    "\n",
    "\n",
    "\n",
    "Δ_1_arr=np.zeros(len(m_1)-1)\n",
    "for i in range(len(m_1)-1):         \n",
    "    a=(m_1[i+1] - m_1[i])\n",
    "    b=((m_1[i+1] + m_1[i])/2)\n",
    "    Δ_1_arr[i]=(a/b)\n",
    "    \n",
    "\n",
    "\n",
    "Δ=Δ_1_arr[0]\n",
    "\n",
    "    \n",
    "m_1_arr=np.zeros(len(m_1)-1)\n",
    "for i in range(len(m_1)-1):          #calculation of x_c and y_c.\n",
    "    m_1_arr[i]=(m_1[i]+m_1[i+1])/2\n",
    "    \n",
    " \n",
    "    \n",
    "m_2_arr=np.zeros(len(m_2)-1)\n",
    "for i in range(len(m_2)-1):\n",
    "    m_2_arr[i]=(m_2[i]+m_2[i+1])/2    #calculation of x_c and y_c.\n",
    "    \n",
    "    \n",
    "    \n",
    "M_1,M_2=np.meshgrid(m_1_arr,m_2_arr)\n",
    "\n",
    "\n",
    "plt.figure(figsize=(8,6))\n",
    "\n",
    "Merger_12=(merger_rate(M_1,M_2)*(Δ**2))\n",
    "\n",
    "\n",
    "\n",
    "# Can be great to plot only a half matrix\n",
    "mask = np.zeros_like(Merger_12)  #created an array of shape Merger_12 with all the elements in it being 0.\n",
    "mask[np.tril_indices_from(mask)] = True   # Generate a mask for the lower triangle.\n",
    "\n",
    "with sns.axes_style(\"darkgrid\"):\n",
    "    ax = sns.heatmap(Merger_12, mask=mask, square=True,  cmap=\"winter\", cbar=True, center=0)\n",
    "    ax.invert_yaxis()\n",
    "    plt.xlabel('$M_{1}\\hspace{0.5}[M_{☉}]$')\n",
    "    plt.ylabel('$M_{2}\\hspace{0.5}[M_{☉}]$')\n",
    "    plt.show()    "
   ]
  },
  {
   "cell_type": "code",
   "execution_count": null,
   "metadata": {},
   "outputs": [],
   "source": []
  }
 ],
 "metadata": {
  "kernelspec": {
   "display_name": "Python 3",
   "language": "python",
   "name": "python3"
  },
  "language_info": {
   "codemirror_mode": {
    "name": "ipython",
    "version": 3
   },
   "file_extension": ".py",
   "mimetype": "text/x-python",
   "name": "python",
   "nbconvert_exporter": "python",
   "pygments_lexer": "ipython3",
   "version": "3.8.5"
  }
 },
 "nbformat": 4,
 "nbformat_minor": 4
}
