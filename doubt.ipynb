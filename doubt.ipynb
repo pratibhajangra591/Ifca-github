{
 "cells": [
  {
   "cell_type": "code",
   "execution_count": 3,
   "id": "739f3372-01ad-4448-8565-b0339b6587f7",
   "metadata": {},
   "outputs": [
    {
     "name": "stdout",
     "output_type": "stream",
     "text": [
      "\u000b",
      "\n",
      "m_1 = [0.02, 0.03, 0.06, 0.1, 0.2, 0.3, 0.6, 1, 2, 3, 5, 9, 15, 26, 45, 78] M☉\n",
      "\u000b",
      "\n",
      "Δ_1 = [0.0111651, 0.01937612, 0.03362569, 0.05835466, 0.10126977, 0.17574547, 0.30499199, 0.52928885, 0.91853783, 1.59404786, 2.76634068, 4.80075972, 8.33132886, 14.45834503, 25.09128432, 43.54388745]\n"
     ]
    }
   ],
   "source": [
    "import numpy as np\n",
    "\n",
    "bin_centres = np.geomspace(2e-2, 78, 16)\n",
    "bin_edges = np.sqrt(bin_centres[:-1]*bin_centres[1:])\n",
    "\n",
    "\n",
    "ratio = bin_edges[1]/bin_edges[0] \n",
    "bin_edges = np.append(bin_edges[0]/ratio, bin_edges) \n",
    "bin_edges = np.append(bin_edges, bin_edges[-1]*ratio) \n",
    "\n",
    "\n",
    "deltas = np.diff(bin_edges)\n",
    "\n",
    "\n",
    "\n",
    "\n",
    "Δ_1_list = deltas.tolist()\n",
    "Δ_2_list = deltas.tolist()\n",
    "\n",
    "\n",
    "\n",
    "m_1 = np.geomspace(2e-2, 78, 16)\n",
    "m_2 = np.geomspace(2e-2, 78, 16)\n",
    "\n",
    "\n",
    "m_1_list = m_1.tolist()\n",
    "m_2_list = m_2.tolist()   \n",
    "\n",
    "\n",
    "\n",
    "m_1_list = list(map(lambda x: float(format(x, '.2f')), m_1_list))   \n",
    "m_2_list = list(map(lambda x: float(format(x, '.2f')), m_2_list)) \n",
    " \n",
    " \n",
    "    \n",
    "    \n",
    "m_1_list = [0.02, 0.03, 0.06, 0.1, 0.2, 0.3, 0.6, 1, 2, 3, 5, 9, 15, 26, 45, 78]  \n",
    "m_2_list = [0.02, 0.03, 0.06, 0.1, 0.2, 0.3, 0.6, 1, 2, 3, 5, 9, 15, 26, 45, 78] \n",
    "\n",
    "\n",
    "Δ_1_list = list(map(lambda x: float(format(x, '.8f')),  Δ_1_list))   \n",
    "Δ_2_list = list(map(lambda x: float(format(x, '.8f')),  Δ_2_list)) \n",
    "    \n",
    "\n",
    "print('\\v')\n",
    "print(\"m_1 =\", m_1_list, \"M☉\")\n",
    "print('\\v')\n",
    "print(\"Δ_1 =\", Δ_1_list)\n",
    "\n",
    "\n"
   ]
  },
  {
   "cell_type": "code",
   "execution_count": 4,
   "id": "cb947aa1-41d5-4c12-a06f-adcce4695a5f",
   "metadata": {},
   "outputs": [
    {
     "name": "stdout",
     "output_type": "stream",
     "text": [
      "\u000b",
      "\n",
      "x_label = ['$2 \\\\times 10^{-2}$' '$3 \\\\times 10^{-2}$' '$6 \\\\times 10^{-2}$'\n",
      " '$10^{-1}$' '$2 \\\\times 10^{-1}$' '$3 \\\\times 10^{-1}$'\n",
      " '$6 \\\\times 10^{-1}$' '$1$' '$2$' '$3$' '$5$' '$9$' '$15$' '$26$' '$45$'\n",
      " '$78$']\n"
     ]
    }
   ],
   "source": [
    "\n",
    "def sciformat_3(x):\n",
    "    n = np.floor(np.log10(x))\n",
    "    m = x*(10.0**(-n))\n",
    "    str1 = \"\"\n",
    "    if (n in [0, 1]):\n",
    "        return r'$%d$'%(x,)\n",
    "    elif (m > 1.001):\n",
    "        str1 = r'$%d \\times ' % (m,)\n",
    "        str2 = r'10^{%d}$' % n\n",
    "    else:\n",
    "        str2 = r'$10^{%d}$' % n\n",
    "    return str1 + str2\n",
    "\n",
    "xlabel_list = np.zeros(len(m_1_list), dtype ='U100')\n",
    "ylabel_list = np.zeros(len(m_2_list), dtype ='U100')\n",
    "\n",
    "for i, x in enumerate(m_1_list):\n",
    "    xlabel_list[i] = sciformat_3(x)\n",
    "    \n",
    "for i, x in enumerate(m_2_list):\n",
    "    ylabel_list[i] = sciformat_3(x)\n",
    "    \n",
    "print('\\v')\n",
    "print(\"x_label =\", xlabel_list)\n"
   ]
  },
  {
   "cell_type": "code",
   "execution_count": null,
   "id": "95084d21-fc5d-4098-8922-53016254b109",
   "metadata": {},
   "outputs": [],
   "source": []
  }
 ],
 "metadata": {
  "kernelspec": {
   "display_name": "Python 3 (ipykernel)",
   "language": "python",
   "name": "python3"
  },
  "language_info": {
   "codemirror_mode": {
    "name": "ipython",
    "version": 3
   },
   "file_extension": ".py",
   "mimetype": "text/x-python",
   "name": "python",
   "nbconvert_exporter": "python",
   "pygments_lexer": "ipython3",
   "version": "3.9.12"
  }
 },
 "nbformat": 4,
 "nbformat_minor": 5
}
