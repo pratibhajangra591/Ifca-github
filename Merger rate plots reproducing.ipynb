{
 "cells": [
  {
   "cell_type": "code",
   "execution_count": 25,
   "metadata": {},
   "outputs": [
    {
     "name": "stdout",
     "output_type": "stream",
     "text": [
      "Merger rate, R_12= 13.477021085521548 Gpc^-3 yr^_1\n"
     ]
    }
   ],
   "source": [
    "import matplotlib.pyplot as plt\n",
    "import numpy as np\n",
    "import seaborn as sns\n",
    "\n",
    "\n",
    "\n",
    "k=3.9e6          # a constant with units of Gpc^{-3} yr^{-3/37}\n",
    "t_0=13.78e9      # in units of years\n",
    "t=13.38e9        # in units of years , let t=t_0 (i.e. calcluatiing the merger rate today)\n",
    "\n",
    "f_pbh=4.3e-3\n",
    "f=0.85*f_pbh               #f_pbh=f/0.85 ie. f=0.85*f_pbh\n",
    "σ_eq=0.005\n",
    "α=1.6\n",
    "M=5                        #in units of M☉\n",
    "   \n",
    "    \n",
    "    \n",
    "\n",
    "def P(m):               #Powerlaw PBH mass distribution\n",
    "    return (((α-1)/M)*((m/M)**(-α)))\n",
    "\n",
    "def minimum(a, b):\n",
    "    if np.any(a <= b):\n",
    "        return a\n",
    "    else:\n",
    "        return b     \n",
    "\n",
    "\n",
    "def R_12(m_1,m_2):\n",
    "    return (k*((t/t_0)**(-34/37))*(f**2)*(((f**2)+(σ_eq**2))**(-21/74))*minimum((P(m_1)/m_1),(P(m_2)/m_2))\n",
    "            *((P(m_1)/m_1)+(P(m_2)/m_2))* ((m_1*m_2)**(3/37))* ((m_1+m_2)**(36/37)))\n",
    "\n",
    "\n",
    "print(\"Merger rate, R_12=\",R_12(5,5),'Gpc^-3 yr^_1')\n",
    "\n"
   ]
  },
  {
   "cell_type": "code",
   "execution_count": 50,
   "metadata": {},
   "outputs": [
    {
     "data": {
      "image/png": "[encoded data removed]",
      "text/plain": [
       "<Figure size 576x432 with 2 Axes>"
      ]
     },
     "metadata": {
      "needs_background": "light"
     },
     "output_type": "display_data"
    }
   ],
   "source": [
    "dm_1=10\n",
    "dm_2=10\n",
    "\n",
    "\n",
    "Δ=2\n",
    "\n",
    "\n",
    "m_1 = np.arange(6, 1000+dm_1, dm_1)\n",
    "m_2 = np.arange(6, 1000+dm_2, dm_2)\n",
    "\n",
    "M_1, M_2 = np.meshgrid(m_1, m_2,indexing='ij')\n",
    "M_1_list=M_1.tolist()\n",
    "M_2_list=M_2.tolist()\n",
    "\n",
    "\n",
    "M_list=M_1_list+M_2_list\n",
    "\n",
    "M_arr= np.asarray(M_list)\n",
    "\n",
    "\n",
    "\n",
    "x_list=np.zeros(len(M_arr)-1)\n",
    "y_list=np.zeros(len(M_arr)-1)\n",
    "\n",
    "for i in range(len(M_arr)-1):          #calculation of x_c and y_c.\n",
    "    x=(M_arr[i,0]+M_arr[i+1,0])/2\n",
    "    y=(M_arr[i,1]+M_arr[i+1,1])/2\n",
    "    x_list[i]=x  #x_c\n",
    "    y_list[i]=y  #y_c\n",
    "    i=+1\n",
    "\n",
    "y_arr=np.asarray(y_list)\n",
    "x_arr=np.asarray(x_list)\n",
    "X,Y=np.meshgrid(x_arr, y_arr,indexing='ij')  #grid of x_c and y_c.\n",
    "\n",
    "\n",
    "plt.figure(figsize=(8,6))\n",
    "\n",
    "Merger_12=(R_12(X,Y)*(Δ**2))\n",
    "\n",
    "# Can be great to plot only a half matrix\n",
    "mask = np.zeros_like(Merger_12)  #created an array of shape Merger_12 with all the elements in it being 0.\n",
    "mask[np.tril_indices_from(mask)] = True   # Generate a mask for the lower triangle.\n",
    "\n",
    "with sns.axes_style(\"darkgrid\"):\n",
    "    ax = sns.heatmap(Merger_12, mask=mask, square=True,  cmap=\"YlGnBu\", cbar=True, center=0)\n",
    "    ax.invert_yaxis()\n",
    "    plt.xlabel('$M_{1}\\hspace{0.5}[M_{☉}]$')\n",
    "    plt.ylabel('$M_{2}\\hspace{0.5}[M_{☉}]$')\n",
    "    plt.show()"
   ]
  },
  {
   "cell_type": "code",
   "execution_count": null,
   "metadata": {},
   "outputs": [],
   "source": [
    "\n"
   ]
  },
  {
   "cell_type": "code",
   "execution_count": null,
   "metadata": {},
   "outputs": [],
   "source": [
    "\n"
   ]
  },
  {
   "cell_type": "code",
   "execution_count": null,
   "metadata": {},
   "outputs": [],
   "source": []
  },
  {
   "cell_type": "code",
   "execution_count": null,
   "metadata": {},
   "outputs": [],
   "source": []
  },
  {
   "cell_type": "code",
   "execution_count": null,
   "metadata": {},
   "outputs": [],
   "source": []
  }
 ],
 "metadata": {
  "kernelspec": {
   "display_name": "Python 3",
   "language": "python",
   "name": "python3"
  },
  "language_info": {
   "codemirror_mode": {
    "name": "ipython",
    "version": 3
   },
   "file_extension": ".py",
   "mimetype": "text/x-python",
   "name": "python",
   "nbconvert_exporter": "python",
   "pygments_lexer": "ipython3",
   "version": "3.8.5"
  }
 },
 "nbformat": 4,
 "nbformat_minor": 4
}
