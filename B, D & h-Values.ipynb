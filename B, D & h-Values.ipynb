{
 "cells": [
  {
   "cell_type": "code",
   "execution_count": 1,
   "metadata": {},
   "outputs": [
    {
     "name": "stdout",
     "output_type": "stream",
     "text": [
      "B_min= 3.0672e-14\n",
      "D_min= 1.0488e+00\n",
      "I= (0.07437853987174875, 3.411597851499218e-11)\n",
      "h_min= 1.5496e+03\n"
     ]
    }
   ],
   "source": [
    "# Since B is dimensionless then we can choose the constants in M☉, Gpc and yr \n",
    "# and do the calculations.\n",
    "\n",
    "\n",
    "\n",
    "import numpy as np\n",
    "import matplotlib.pyplot as plt\n",
    "from scipy.integrate import quad\n",
    "import math\n",
    "\n",
    "\n",
    "#All constants are taken from the Chinese research paper \n",
    "# \"Merger Rate Distribution of Primordial-Black-Hole Binaries\".\n",
    "\n",
    "#Calculation of minimum B and D-values for a binary with mass m_1=5M☉, m_2=5M☉ \n",
    "#& m_b=(m_1+m_2)≤100M☉. \n",
    "\n",
    "#To calculate the minimum B and D-values, all the minimum values of the constants are used as given by the \n",
    "#the  above mentioned paper.\n",
    "\n",
    "\n",
    "# M_solar ≡ M☉ = 1.989e30       #in units of kg\n",
    "\n",
    "π=np.pi\n",
    "Δ=0.001\n",
    "σ_eq=0.005\n",
    "G=4.4911e-42            #in units of M☉^-1 Gpc^3 yr^-2\n",
    "c=3.07e-10              #in units of Gpc yr^-1\n",
    "ρ_eq=3.1811e30          #in units of M☉ Gpc^-3 with ρ_eq=2.15368e-16 kg m^-3\n",
    "t=13.78e9               #in units of yrscorresponding to t_0=13.78Gyr\n",
    "\n",
    "\n",
    "\n",
    "m_1=5                   #in units of M☉ & m_1≥ 5M☉ with m_1≡M_1PBH\n",
    "m_2=5                   #in units of M☉  & m_2≥ 5M☉ with  m_2≡M_2PBH\n",
    "m_b=(m_1+m_2)           #in units of M☉  & (m_1+m_2)≤ 100M☉ with m_b≡M_b\n",
    "\n",
    "f=8.5e-5                #10^-4 ≤ f_pbh ≤ 10^-2  &   f_pbh=f/0.85 ie. f=0.85*f_pbh\n",
    "\n",
    "alpha=1.6\n",
    "M=5                     #in units of M☉\n",
    "\n",
    "def P(m):               #Powerlaw PBH mass distribution\n",
    "    return (((alpha-1)/M)*((m/M)**(-alpha)))\n",
    "\n",
    "def f_i(m):\n",
    "    return (f*P(m))  \n",
    "\n",
    "def f_b(m_1,m_2):\n",
    "    return  (f_i(m_1)+f_i(m_2))\n",
    "\n",
    "A=(8.0663*(((8*π*ρ_eq)/3)**(4/21))*(((85*(G**3))/(3*(c**5)))**(1/7)))\n",
    "\n",
    "def B(m_1,m_2,m_b,t):      # B is dimensionless\n",
    "    return (A*((m_1*m_2*(m_b**(-1/3))*t)**(1/7))*((f**2+1.1998*(σ_eq**2))**(-1/2))*((f_b(m_1,m_2)*Δ)**(37/21)))\n",
    "\n",
    "\n",
    "print(\"B_min=\",'%0.4e'%B(m_1,m_2,m_b,t)) #For f≡f_min, f_b≡f_b_min and (m_1+m_2)≤100M☉\n",
    "\n",
    "\n",
    "def D(m_1,m_2,t):\n",
    "    return (((B(m_1,m_2,m_b,t)**(21/37)))/(f_b(m_1,m_2)*Δ))   #f_b=(f_i(m_1)+f_i(m_2))\n",
    "\n",
    "print(\"D_min=\",'%0.4e'%D(m_1,m_2,t))\n",
    "\n",
    "\n",
    "def integrand(m):\n",
    "     return (P(m)/m)\n",
    "\n",
    "I = quad(integrand, 5, 100)  # Taking limits of the PBH mass from 5M☉ to 100M☉ instead of \n",
    "                               # 0 to infinity.\n",
    "\n",
    "print(\"I=\",I)\n",
    "\n",
    "I_diff=(I[0]-I[1])\n",
    "\n",
    "n_T=f*ρ_eq*I_diff         #n_T=f*ρ_eq∫(P(m)/m)*dm \n",
    "\n",
    "def x̄(m_1,m_2):\n",
    "    return (((3*m_b)/(8*π*ρ_eq*f_b(m_1,m_2)*Δ))**(1/3))\n",
    "\n",
    "def h(m_1,m_2):\n",
    "    return (((4*π)/3)*(x̄(m_1,m_2)**(3))*n_T)\n",
    "\n",
    "print(\"h_min=\",'%0.4e'%h(m_1,m_2))"
   ]
  },
  {
   "cell_type": "code",
   "execution_count": 2,
   "metadata": {},
   "outputs": [
    {
     "name": "stdout",
     "output_type": "stream",
     "text": [
      "B_max= 4.5982e-15\n",
      "D_max= 1.4221e+00\n",
      "h_max= 6.1689e+04\n"
     ]
    }
   ],
   "source": [
    "#All constants are taken from the Chinese research paper \n",
    "# \"Merger Rate Distribution of Primordial-Black-Hole Binaries\".\n",
    "\n",
    "#Calculation of minimum B and D-values for a binary with mass m_1=50M☉, m_2=50M☉ \n",
    "#& m_b=(m_1+m_2)≤100M☉. \n",
    "\n",
    "\n",
    "\n",
    "m_1=50                  #in units of M☉ & M_1≥ 5M☉\n",
    "m_2=50                  #in units of M☉  & M_2≥ 5M☉\n",
    "m_b=(m_1+m_2)           #in units of M☉  & (M_1+M_2)≤ 100M☉\n",
    "\n",
    "f=8.5e-4                #10^-4 ≤ f_pbh ≤ 10^-2  &   f_pbh=f/0.85 ie. f=0.85*f_pbh\n",
    "  \n",
    "               \n",
    "\n",
    "print(\"B_max=\",'%0.4e'%B(m_1,m_2,m_b,t)) #For f≡f_max and (m_1+m_2)≤100M☉\n",
    "\n",
    "print(\"D_max=\",'%0.4e'%D(m_1,m_2,t))\n",
    "\n",
    "print(\"h_max=\",'%0.4e'%h(m_1,m_2))"
   ]
  },
  {
   "cell_type": "code",
   "execution_count": 3,
   "metadata": {},
   "outputs": [
    {
     "name": "stdout",
     "output_type": "stream",
     "text": [
      "B_max= 7.1625e-13\n",
      "D_max= 1.2429e+00\n",
      "h_max= 3.0715e+03\n"
     ]
    }
   ],
   "source": [
    "#All constants are taken from the Chinese research paper \n",
    "# \"Merger Rate Distribution of Primordial-Black-Hole Binaries\".\n",
    "\n",
    "#Calculation of minimum B and D-values for a binary with mass m_1=5M☉, m_2=95M☉ \n",
    "#& m_b=(m_1+m_2)≤100M☉. \n",
    "\n",
    "\n",
    "m_1=5                 #in units of M☉ & M_1≥ 5M☉\n",
    "m_2=95                  #in units of M☉  & M_2≥ 5M☉\n",
    "m_b=(m_1+m_2)           #in units of M☉  & (M_1+M_2)≤ 100M☉\n",
    "\n",
    "f=8.5e-4                #10^-4 ≤ f_pbh ≤ 10^-2  &   f_pbh=f/0.85 ie. f=0.85*f_pbh\n",
    " \n",
    "               \n",
    "\n",
    "print(\"B_max=\",'%0.4e'%B(m_1,m_2,m_b,t)) #For f≡f_max and (m_1+m_2)≤100M☉\n",
    "\n",
    "print(\"D_max=\",'%0.4e'%D(m_1,m_2,t))\n",
    "\n",
    "print(\"h_max=\",'%0.4e'%h(m_1,m_2))"
   ]
  },
  {
   "cell_type": "code",
   "execution_count": null,
   "metadata": {},
   "outputs": [],
   "source": []
  },
  {
   "cell_type": "code",
   "execution_count": null,
   "metadata": {},
   "outputs": [],
   "source": []
  }
 ],
 "metadata": {
  "kernelspec": {
   "display_name": "Python 3",
   "language": "python",
   "name": "python3"
  },
  "language_info": {
   "codemirror_mode": {
    "name": "ipython",
    "version": 3
   },
   "file_extension": ".py",
   "mimetype": "text/x-python",
   "name": "python",
   "nbconvert_exporter": "python",
   "pygments_lexer": "ipython3",
   "version": "3.8.5"
  }
 },
 "nbformat": 4,
 "nbformat_minor": 4
}
