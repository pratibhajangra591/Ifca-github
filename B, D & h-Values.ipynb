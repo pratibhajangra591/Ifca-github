{
 "cells": [
  {
   "cell_type": "code",
   "execution_count": 1,
   "metadata": {},
   "outputs": [
    {
     "name": "stdout",
     "output_type": "stream",
     "text": [
      "B_min= 8.4638e-12\n",
      "D_min= 1.0391e+00\n",
      "h_min= 5.6321e-45\n"
     ]
    }
   ],
   "source": [
    "# Since B is dimensionless then we can choose the constants in M☉, Gpc and yr \n",
    "# and do the calculations.\n",
    "\n",
    "\n",
    "\n",
    "import numpy as np\n",
    "import matplotlib.pyplot as plt\n",
    "from scipy.integrate import odeint\n",
    "import math\n",
    "\n",
    "#All constants are taken from the Chinese research paper \n",
    "# \"Merger Rate Distribution of Primordial-Black-Hole Binaries\".\n",
    "\n",
    "#Calculation of minimum B and D-values for a binary with mass M_1=5M☉ and M_2=5M☉. \n",
    "\n",
    "#To calculate the minimum B and D-values, all the minimum values of the constants are used as given by the \n",
    "#the  above mentioned paper.\n",
    "\n",
    "\n",
    "# M_solar ≡ M☉ = 1.989e30       #in units of kg\n",
    "\n",
    "π=np.pi\n",
    "Δ=0.001\n",
    "σ_eq=0.005\n",
    "G=4.4911e-42            #in units of M☉^-1 Gpc^3 yr^-2\n",
    "c=3.07e-10              #in units of Gpc yr^-1\n",
    "ρ_eq=3.1811e30          #in units of M☉ Gpc^-3 with ρ_eq=2.15368e-16 kg m^-3\n",
    "t=13.78e9               #in units of yrscorresponding to t_0=13.78Gyr\n",
    "\n",
    "\n",
    "\n",
    "M_1=5                   #in units of M☉ & M_1≥ 5M☉\n",
    "M_2=5                   #in units of M☉  & M_2≥ 5M☉\n",
    "M_b=(M_1+M_2)           #in units of M☉  & (M_1+M_2)≤ 100M☉\n",
    "\n",
    "f=1e-3                  #1.3x10^-3 ≤ f_pbh ≤ 6.6x10^-3  &   f_pbh=f/0.85\n",
    "f_b=(f/2)                #using f_b = f_pbh/2   \n",
    "               \n",
    "\n",
    "\n",
    "A=(8.0663*((85/3)**(1/7))*(((8*π)/3)**(4/21))*((G**3/c**5)**(1/7))*(ρ_eq**(4/21)))\n",
    "\n",
    "def B(M_1,M_2,t):      # B is dimensionless\n",
    "    return (A*((M_1*M_2*(M_b**(-1/3))*t)**(1/7))*((f**2+1.1998*(σ_eq**2))**(-1/2))*((f_b*Δ)**(37/21)))\n",
    "\n",
    "\n",
    "print(\"B_min=\",'%0.4e'%B(M_1,M_2,t)) #For f≡f_min, f_b≡f_b_min and (M_1+M_2)≤100M☉\n",
    "\n",
    "\n",
    "def D(M_1,M_2,t,f_b):\n",
    "    return (((B(M_1,M_2,t)**(21/37)))/(f_b*Δ))\n",
    "\n",
    "print(\"D_min=\",'%0.4e'%D(M_1,M_2,t,f_b))\n",
    "\n",
    "\n",
    "\n",
    "n_T=f*ρ_eq          #n_T=f*ρ_eq∫(P(m)/m)*dm and using ∫(P(m)/m)*dm=1\n",
    "x̄=(3*M_b)/(8*π*ρ_eq*f_b*Δ)\n",
    "\n",
    "def h(x̄):\n",
    "    return (((4*π)/3)*(x̄**3)*n_T)\n",
    "\n",
    "print(\"h_min=\",'%0.4e'%h(x̄))"
   ]
  },
  {
   "cell_type": "code",
   "execution_count": 2,
   "metadata": {},
   "outputs": [
    {
     "name": "stdout",
     "output_type": "stream",
     "text": [
      "B_max= 2.1706e-10\n",
      "D_max= 1.1680e+00\n",
      "h_max= 1.7895e-43\n"
     ]
    }
   ],
   "source": [
    "M_1=50                  #in units of M☉ & M_1≥ 5M☉\n",
    "M_2=50                  #in units of M☉  & M_2≥ 5M☉\n",
    "M_b=(M_1+M_2)           #in units of M☉  & (M_1+M_2)≤ 100M☉\n",
    "\n",
    "f=5.61e-3                  #1.3x10^-3 ≤ f_pbh ≤ 6.6x10^-3  &   f_pbh=f/0.85\n",
    "f_b=(f/2)                #using f_b = f_pbh/2   \n",
    "               \n",
    "\n",
    "print(\"B_max=\",'%0.4e'%B(M_1,M_2,t)) #For f≡f_max, f_b≡f_b_max and (M_1+M_2)≤100M☉\n",
    "\n",
    "print(\"D_max=\",'%0.4e'%D(M_1,M_2,t,f_b))\n",
    "\n",
    "\n",
    "n_T=f*ρ_eq          #n_T=f*ρ_eq∫(P(m)/m)*dm and using ∫(P(m)/m)*dm=1\n",
    "x̄=(3*M_b)/(8*π*ρ_eq*f_b*Δ)\n",
    "\n",
    "print(\"h_max=\",'%0.4e'%h(x̄))"
   ]
  },
  {
   "cell_type": "code",
   "execution_count": 3,
   "metadata": {},
   "outputs": [
    {
     "name": "stdout",
     "output_type": "stream",
     "text": [
      "B_max= 1.7122e-10\n",
      "D_max= 1.0208e+00\n",
      "h_max= 1.7895e-43\n"
     ]
    }
   ],
   "source": [
    "M_1=5                 #in units of M☉ & M_1≥ 5M☉\n",
    "M_2=95                  #in units of M☉  & M_2≥ 5M☉\n",
    "M_b=(M_1+M_2)           #in units of M☉  & (M_1+M_2)≤ 100M☉\n",
    "\n",
    "f=5.61e-3                  #1.3x10^-3 ≤ f_pbh ≤ 6.6x10^-3  &   f_pbh=f/0.85\n",
    "f_b=(f/2)                #using f_b = f_pbh/2   \n",
    "               \n",
    "\n",
    "print(\"B_max=\",'%0.4e'%B(M_1,M_2,t)) #For f≡f_max, f_b≡f_b_max and (M_1+M_2)≤100M☉\n",
    "\n",
    "print(\"D_max=\",'%0.4e'%D(M_1,M_2,t,f_b))\n",
    "\n",
    "\n",
    "n_T=f*ρ_eq          #n_T=f*ρ_eq∫(P(m)/m)*dm and using ∫(P(m)/m)*dm=1\n",
    "x̄=(3*M_b)/(8*π*ρ_eq*f_b*Δ)\n",
    "\n",
    "print(\"h_max=\",'%0.4e'%h(x̄))"
   ]
  },
  {
   "cell_type": "code",
   "execution_count": null,
   "metadata": {},
   "outputs": [],
   "source": []
  }
 ],
 "metadata": {
  "kernelspec": {
   "display_name": "Python 3",
   "language": "python",
   "name": "python3"
  },
  "language_info": {
   "codemirror_mode": {
    "name": "ipython",
    "version": 3
   },
   "file_extension": ".py",
   "mimetype": "text/x-python",
   "name": "python",
   "nbconvert_exporter": "python",
   "pygments_lexer": "ipython3",
   "version": "3.8.5"
  }
 },
 "nbformat": 4,
 "nbformat_minor": 4
}
