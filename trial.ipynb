{
 "cells": [
  {
   "cell_type": "code",
   "execution_count": 1,
   "id": "a2e31570-736c-4088-86e9-b7c0bdbda37c",
   "metadata": {},
   "outputs": [
    {
     "name": "stdout",
     "output_type": "stream",
     "text": [
      "m_1 = [7, 10, 12, 15, 20, 25, 32, 41, 53, 68, 87] M☉\n",
      "Δ_1 = [ 1.76383421  2.26778684  2.91572593  3.74879049  4.81987348  6.19698019\n",
      "  7.96754596 10.24398767 13.17084129 16.9339388  21.77220702]\n"
     ]
    }
   ],
   "source": [
    "# m_j = m_2\n",
    "# m_i = m_1  and m_2< equal to m_1.\n",
    "\n",
    "import numpy as np\n",
    "import matplotlib.pyplot as plt\n",
    "import math\n",
    "from scipy.integrate import odeint\n",
    "from scipy.integrate import quad\n",
    "import seaborn as sns\n",
    "from matplotlib import rcParams\n",
    "\n",
    "\n",
    "\n",
    "plt.rcParams.update({\n",
    "  \"text.usetex\": True,\n",
    "  \"font.family\": \"serif\"\n",
    "})    \n",
    "\n",
    "\n",
    "π = np.pi\n",
    "G = 4.4959e-15            #in units of M☉^-1 pc^3 yr^-2\n",
    "c = 0.3068                #in units of pc yr^-1\n",
    "ρ_eq = 3.1812e3           #in units of M☉ pc^-3 with ρ_eq=2.15368e-16 kg m^-3\n",
    "pc = 3.0857e16            # in meters\n",
    "yr = 3.154e7              # in units of seconds\n",
    "t_eq = 1.59246e12/yr      # in units of seconds\n",
    "t_m = 13.78e9             #in units of yrs corresponding to t_0=13.78Gyr\n",
    "t_0 = 13.78e9             #in units of yrs corresponding to t_0=13.78Gyr\n",
    "\n",
    "σ_eq = 0.005\n",
    "ρ_m = 4e19                #ρ_m = 4e19 M☉ Gpc^-3\n",
    "\n",
    "\n",
    "\n",
    "\n",
    "m_min = 5  #in units of M☉\n",
    "\n",
    "m_1 = 7   #in units of M☉\n",
    "m_2 = 9    #in units of M☉\n",
    "\n",
    "\n",
    "\n",
    "y_1 = np.log(m_1)\n",
    "y_2 = np.log(m_2)\n",
    "dy = (y_2-y_1)\n",
    "\n",
    "\n",
    "y_list = np.zeros(11)\n",
    "\n",
    "for i in range(len(y_list)):\n",
    "    y_list[i] = (y_1 + (i*dy))\n",
    "    \n",
    "\n",
    "M_1_list = np.zeros(len(y_list))\n",
    "M_2_list = np.zeros(len(y_list))\n",
    "\n",
    "for i, y in enumerate(y_list):\n",
    "    M_1_list[i] = (np.ceil(np.exp(y)))\n",
    "    M_2_list[i] = (np.ceil(np.exp(y)))\n",
    "    \n",
    "\n",
    "            \n",
    "m_1_list = [int(M_1) for M_1 in M_1_list]\n",
    "m_2_list = [int(M_2) for M_2 in M_2_list]\n",
    "\n",
    "    \n",
    "Δ_1_list = np.zeros(len(y_list))\n",
    "Δ_2_list = np.zeros(len(y_list))\n",
    "\n",
    "for i, y in enumerate(y_list):\n",
    "    Δ_1_list[i] = np.exp(y + 0.5*dy) - np.exp(y - 0.5*dy)\n",
    "    Δ_2_list[i] = np.exp(y + 0.5*dy) - np.exp(y - 0.5*dy) \n",
    "\n",
    "    \n",
    "print(\"m_1 =\", m_1_list, \"M☉\")\n",
    "print(\"Δ_1 =\", Δ_1_list)\n",
    "\n",
    "\n",
    "\n"
   ]
  },
  {
   "cell_type": "code",
   "execution_count": 2,
   "id": "7fba572d-9159-4cc7-a0b2-7b4406d543ff",
   "metadata": {},
   "outputs": [],
   "source": [
    "# Probalility distribution of X of PBH binaries without and with halos for PBHs mass range of 5 M☉-100 M☉ .\n",
    "        \n",
    "def P_X( m_2, Δ_2,  X):\n",
    "    \n",
    "    def f_(m):\n",
    "        return f*P(m)\n",
    "\n",
    "    def f_b(m_1,m_2):\n",
    "        return  f_(m_1) + f_(m_2)\n",
    "\n",
    "    def λ(m_1, m_2, Δ_1, Δ_2, X):   #λ_0\n",
    "        return  X/(f_b(m_1,m_2) * np.sqrt(Δ_1*Δ_2))\n",
    "    \n",
    "    \n",
    "    def PDF(m):\n",
    "        return (P(m)/m)\n",
    "\n",
    "\n",
    "    I = quad(PDF, m_min, np.inf)             # Taking limits of the PBH mass from m_min M☉ to 100 M☉ instead of \n",
    "                                             # 0 to infinity.\n",
    "\n",
    "    n_T = f * ρ_eq * I[0]                #n_T=f*ρ_eq∫(P(m)/m)*dm \n",
    "\n",
    "    def x̄(m_1,m_2,Δ_1,Δ_2):\n",
    "        return (((3 * (m_1 + m_2))/(8 * π * ρ_eq * f_b(m_1,m_2) * np.sqrt(Δ_1 * Δ_2)))**(1/3))\n",
    "    \n",
    "    return  np.exp(-((4*π)/3)  * (x̄(m_1,m_2,Δ_1,Δ_2)**3) * n_T * X)\n",
    "        \n",
    "      "
   ]
  },
  {
   "cell_type": "code",
   "execution_count": 3,
   "id": "96a58f90-0ac1-4ffc-9e4b-c4a50dd36853",
   "metadata": {},
   "outputs": [
    {
     "ename": "ValueError",
     "evalue": "not enough values to unpack (expected 3, got 2)",
     "output_type": "error",
     "traceback": [
      "\u001b[0;31m---------------------------------------------------------------------------\u001b[0m",
      "\u001b[0;31mValueError\u001b[0m                                Traceback (most recent call last)",
      "Input \u001b[0;32mIn [3]\u001b[0m, in \u001b[0;36m<cell line: 29>\u001b[0;34m()\u001b[0m\n\u001b[1;32m     22\u001b[0m     \u001b[38;5;28;01mreturn\u001b[39;00m ((α\u001b[38;5;241m-\u001b[39m\u001b[38;5;241m1\u001b[39m)\u001b[38;5;241m/\u001b[39mM) \u001b[38;5;241m*\u001b[39m ((m\u001b[38;5;241m/\u001b[39mM)\u001b[38;5;241m*\u001b[39m\u001b[38;5;241m*\u001b[39m(\u001b[38;5;241m-\u001b[39mα))\n\u001b[1;32m     27\u001b[0m plt\u001b[38;5;241m.\u001b[39mfigure(figsize \u001b[38;5;241m=\u001b[39m (\u001b[38;5;241m7\u001b[39m,\u001b[38;5;241m4\u001b[39m))\n\u001b[0;32m---> 29\u001b[0m \u001b[38;5;28;01mfor\u001b[39;00m (m_2, Δ_2, X) \u001b[38;5;129;01min\u001b[39;00m \u001b[38;5;28menumerate\u001b[39m(\u001b[38;5;28mzip\u001b[39m(m_2, Δ_2, X)):\n\u001b[1;32m     30\u001b[0m     plt\u001b[38;5;241m.\u001b[39mplot(X, P_X(m_2, Δ_2,  X),\u001b[38;5;124m'\u001b[39m\u001b[38;5;124m'\u001b[39m)\n\u001b[1;32m     33\u001b[0m plt\u001b[38;5;241m.\u001b[39mxlabel(\u001b[38;5;124m'\u001b[39m\u001b[38;5;124m$X$\u001b[39m\u001b[38;5;124m'\u001b[39m, fontsize \u001b[38;5;241m=\u001b[39m \u001b[38;5;241m12\u001b[39m)\n",
      "\u001b[0;31mValueError\u001b[0m: not enough values to unpack (expected 3, got 2)"
     ]
    },
    {
     "data": {
      "text/plain": [
       "<Figure size 504x288 with 0 Axes>"
      ]
     },
     "metadata": {},
     "output_type": "display_data"
    }
   ],
   "source": [
    "m_1 = m_1_list[-1] \n",
    "\n",
    "Δ_1 = Δ_1_list[-1]\n",
    "\n",
    "m_2 = [m_2_list[0], m_2_list[3], m_2_list[5], m_2_list[7], m_2_list[-1]]\n",
    "\n",
    "Δ_2 = [Δ_2_list[0], Δ_2_list[3], Δ_2_list[5], Δ_2_list[7], Δ_2_list[-1]]\n",
    "\n",
    "\n",
    "X = np.geomspace(1e-5, 1, 1000000) \n",
    "\n",
    "\n",
    "\n",
    "\n",
    "f_pbh = 4.3e-3\n",
    "f = 0.85*f_pbh\n",
    "        \n",
    "          \n",
    "def P(m): #Powerlaw PBH mass distribution\n",
    "    α = 1.6\n",
    "    M = 5     #in units of M☉, for PBHs mass range of 5 M☉-100 M☉ .\n",
    "    return ((α-1)/M) * ((m/M)**(-α))\n",
    "\n",
    "\n",
    "\n",
    "\n",
    "plt.figure(figsize = (7,4))\n",
    "\n",
    "for (m_2, Δ_2, X) in enumerate(zip(m_2, Δ_2, X)):\n",
    "    plt.plot(X, P_X(m_2, Δ_2,  X),'')\n",
    "    \n",
    "    \n",
    "plt.xlabel('$X$', fontsize = 12)\n",
    "plt.ylabel('$P(X)$', fontsize = 12)\n",
    "plt.title('Power Law PDF', fontsize = 15)\n",
    "plt.show()"
   ]
  },
  {
   "cell_type": "code",
   "execution_count": 23,
   "id": "eb0b5264-a552-400b-ab51-69038aa3972b",
   "metadata": {},
   "outputs": [
    {
     "data": {
      "image/png": "[encoded data removed]",
      "text/plain": [
       "<Figure size 504x288 with 1 Axes>"
      ]
     },
     "metadata": {
      "needs_background": "light"
     },
     "output_type": "display_data"
    }
   ],
   "source": [
    "m_1 = m_1_list[0]\n",
    "\n",
    "m_2 = m_2_list[3]\n",
    "\n",
    "Δ_1 = Δ_1_list[0]\n",
    "\n",
    "Δ_2 = Δ_2_list[3]\n",
    "\n",
    "\n",
    "X = np.geomspace(1e-5, 1, 1000000) \n",
    "\n",
    "\n",
    "\n",
    "\n",
    "f_pbh = 4.3e-3\n",
    "f = 0.85*f_pbh\n",
    "        \n",
    "          \n",
    "def P(m): #Powerlaw PBH mass distribution\n",
    "    α = 1.6\n",
    "    M = 5     #in units of M☉, for PBHs mass range of 5 M☉-100 M☉ .\n",
    "    return ((α-1)/M) * ((m/M)**(-α))\n",
    "\n",
    "\n",
    "\n",
    "plt.figure(figsize = (7,4))\n",
    "plt.plot(X, P_X(m_1, m_2, Δ_1, Δ_2, t_m, X),'C0')\n",
    "plt.xlabel('$X$', fontsize = 12)\n",
    "plt.ylabel('$P(X)$', fontsize = 12)\n",
    "plt.title('Power Law PDF', fontsize = 15)\n",
    "plt.show()"
   ]
  },
  {
   "cell_type": "code",
   "execution_count": 24,
   "id": "c7515cf8-98e7-44ef-9145-9cc2ad03f749",
   "metadata": {},
   "outputs": [
    {
     "data": {
      "image/png": "[encoded data removed]",
      "text/plain": [
       "<Figure size 504x288 with 1 Axes>"
      ]
     },
     "metadata": {
      "needs_background": "light"
     },
     "output_type": "display_data"
    }
   ],
   "source": [
    "m_1 = m_1_list[0]\n",
    "\n",
    "m_2 = m_2_list[3]\n",
    "\n",
    "Δ_1 = Δ_1_list[0]\n",
    "\n",
    "Δ_2 = Δ_2_list[3]\n",
    "\n",
    "\n",
    "X = np.geomspace(1e-5, 1, 1000000) \n",
    "\n",
    "\n",
    "\n",
    "\n",
    "f_pbh = 4.3e-3\n",
    "f = 0.85*f_pbh\n",
    "        \n",
    "          \n",
    "def P(m): #Powerlaw PBH mass distribution\n",
    "    α = 1.6\n",
    "    M = 5     #in units of M☉, for PBHs mass range of 5 M☉-100 M☉ .\n",
    "    return ((α-1)/M) * ((m/M)**(-α))\n",
    "\n",
    "\n",
    "\n",
    "plt.figure(figsize = (7,4))\n",
    "plt.plot(X, P_X(m_1, m_2, Δ_1, Δ_2, t_m, X),'C0')\n",
    "plt.xlabel('$X$', fontsize = 12)\n",
    "plt.ylabel('$P(X)$', fontsize = 12)\n",
    "plt.title('Power Law PDF', fontsize = 15)\n",
    "plt.show()"
   ]
  },
  {
   "cell_type": "code",
   "execution_count": null,
   "id": "a4e0df39-0a0e-416a-b41b-fc9f67204387",
   "metadata": {},
   "outputs": [],
   "source": []
  }
 ],
 "metadata": {
  "kernelspec": {
   "display_name": "Python 3 (ipykernel)",
   "language": "python",
   "name": "python3"
  },
  "language_info": {
   "codemirror_mode": {
    "name": "ipython",
    "version": 3
   },
   "file_extension": ".py",
   "mimetype": "text/x-python",
   "name": "python",
   "nbconvert_exporter": "python",
   "pygments_lexer": "ipython3",
   "version": "3.9.12"
  }
 },
 "nbformat": 4,
 "nbformat_minor": 5
}
