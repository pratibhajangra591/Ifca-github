{
 "cells": [
  {
   "cell_type": "code",
   "execution_count": 2,
   "metadata": {},
   "outputs": [],
   "source": [
    "import numpy as np\n",
    "import matplotlib.pyplot as plt\n",
    "import math\n",
    "import seaborn as sns\n",
    "\n",
    "\n",
    "k=3.9e6          # a constant with units of Gpc^{-3} yr^{-3/37}\n",
    "t_0=13.78e9      # in units of years\n",
    "t=13.38e9        # in units of years , let t=t_0 (i.e. calcluating the merger rate today)\n",
    "\n",
    "f_pbh=4.3e-3\n",
    "f=(0.85*f_pbh)               #f_pbh=f/0.85 ie. f=0.85*f_pbh\n",
    "σ_eq=0.005\n",
    " \n",
    "    \n",
    "T=((t/t_0)**(-34/37))\n",
    "    \n",
    "def h(m_1,m_2):\n",
    "    return (((m_1*m_2)**(3/37))*((m_1+m_2)**(36/37)))\n",
    "\n",
    "def g(f):\n",
    "    return (((f**2) + (σ_eq**2))**(-21/74))\n",
    "\n",
    "def PDF(m_1,m_2):\n",
    "    return  (((P(m_1)/m_1)+(P(m_2)/m_2))*(np.minimum((P(m_1)/m_1),(P(m_2)/m_2))))\n",
    "\n",
    "\n",
    "def merger_rate(m_1,m_2,Δ):\n",
    "    return (k*T*(f**2)*g(f)*PDF(m_1,m_2)*h(m_1,m_2)*(Δ**2))\n",
    "   \n",
    "    \n",
    "# Calculation of the 1d merger rate for Power Law PDF    \n",
    "α = 1.6\n",
    "M=5\n",
    "def P(m): #Powerlaw PBH mass distribution\n",
    "    return (((α-1)/M)*((m/M)**(-α)))\n",
    "\n",
    "\n"
   ]
  },
  {
   "cell_type": "code",
   "execution_count": 5,
   "metadata": {},
   "outputs": [
    {
     "ename": "NameError",
     "evalue": "name 'Δ' is not defined",
     "output_type": "error",
     "traceback": [
      "\u001b[0;31m---------------------------------------------------------------------------\u001b[0m",
      "\u001b[0;31mNameError\u001b[0m                                 Traceback (most recent call last)",
      "\u001b[0;32m<ipython-input-5-1ceb2848c361>\u001b[0m in \u001b[0;36m<module>\u001b[0;34m\u001b[0m\n\u001b[1;32m     32\u001b[0m \u001b[0mplt\u001b[0m\u001b[0;34m.\u001b[0m\u001b[0mfigure\u001b[0m\u001b[0;34m(\u001b[0m\u001b[0mfigsize\u001b[0m\u001b[0;34m=\u001b[0m\u001b[0;34m(\u001b[0m\u001b[0;36m8\u001b[0m\u001b[0;34m,\u001b[0m\u001b[0;36m6\u001b[0m\u001b[0;34m)\u001b[0m\u001b[0;34m)\u001b[0m\u001b[0;34m\u001b[0m\u001b[0;34m\u001b[0m\u001b[0m\n\u001b[1;32m     33\u001b[0m \u001b[0;34m\u001b[0m\u001b[0m\n\u001b[0;32m---> 34\u001b[0;31m \u001b[0mMerger_12\u001b[0m\u001b[0;34m=\u001b[0m\u001b[0mmerger_rate\u001b[0m\u001b[0;34m(\u001b[0m\u001b[0mM_1\u001b[0m\u001b[0;34m,\u001b[0m\u001b[0mM_2\u001b[0m\u001b[0;34m,\u001b[0m\u001b[0mΔ\u001b[0m\u001b[0;34m)\u001b[0m\u001b[0;34m\u001b[0m\u001b[0;34m\u001b[0m\u001b[0m\n\u001b[0m\u001b[1;32m     35\u001b[0m \u001b[0;34m\u001b[0m\u001b[0m\n\u001b[1;32m     36\u001b[0m \u001b[0;34m\u001b[0m\u001b[0m\n",
      "\u001b[0;31mNameError\u001b[0m: name 'Δ' is not defined"
     ]
    },
    {
     "data": {
      "text/plain": [
       "<Figure size 576x432 with 0 Axes>"
      ]
     },
     "metadata": {},
     "output_type": "display_data"
    }
   ],
   "source": [
    "m_1=6\n",
    "m_2=8\n",
    "\n",
    "y_1=math.log(m_1)\n",
    "y_2=math.log(m_2)\n",
    "dy=(y_2-y_1)\n",
    "\n",
    "y_list=np.zeros(10)\n",
    "\n",
    "\n",
    "for i in range(len(y_list)):\n",
    "    y_list[i]= (y_1+(i*dy))\n",
    "    \n",
    "\n",
    "m_1_list=np.zeros(len(y_list))\n",
    "m_2_list=np.zeros(len(y_list))\n",
    "\n",
    "for i, y in enumerate(y_list):\n",
    "    m_1_list[i]=(math.ceil(math.exp(y)))\n",
    "    m_2_list[i]=(math.ceil(math.exp(y)))\n",
    "    \n",
    "Δ_list=np.zeros(len(y_list))   \n",
    "\n",
    "for i, y in enumerate(y_list):\n",
    "    Δ_list[i] = (math.exp(y+(0.5*dy)) - math.exp(y-(0.5*dy)))\n",
    "    \n",
    "\n",
    "    \n",
    "M_1,M_2=np.meshgrid(np.array(m_1_list),np.array(m_2_list))\n",
    "\n",
    "\n",
    "plt.figure(figsize=(8,6))\n",
    "\n",
    "Merger_12=merger_rate(M_1,M_2,Δ)\n",
    "\n",
    "\n",
    "# Can be great to plot only a half matrix\n",
    "mask = np.zeros_like(Merger_12)  #created an array of shape Merger_12 with all the elements in it being 0.\n",
    "mask[np.tril_indices_from(mask)] = True   # Generate a mask for the lower triangle.\n",
    "\n",
    "with sns.axes_style(\"darkgrid\"):\n",
    "        ax = sns.heatmap(Merger_12, mask=mask, square=True,  cmap=\"winter\", cbar=True, center=0)\n",
    "        ax.invert_yaxis()\n",
    "        plt.xlabel('$M_{1}\\hspace{0.5}[M_{☉}]$')\n",
    "        plt.ylabel('$M_{2}\\hspace{0.5}[M_{☉}]$')\n",
    "        plt.show()    "
   ]
  },
  {
   "cell_type": "code",
   "execution_count": null,
   "metadata": {},
   "outputs": [],
   "source": []
  },
  {
   "cell_type": "code",
   "execution_count": null,
   "metadata": {},
   "outputs": [],
   "source": []
  }
 ],
 "metadata": {
  "kernelspec": {
   "display_name": "Python 3",
   "language": "python",
   "name": "python3"
  },
  "language_info": {
   "codemirror_mode": {
    "name": "ipython",
    "version": 3
   },
   "file_extension": ".py",
   "mimetype": "text/x-python",
   "name": "python",
   "nbconvert_exporter": "python",
   "pygments_lexer": "ipython3",
   "version": "3.8.5"
  }
 },
 "nbformat": 4,
 "nbformat_minor": 4
}
