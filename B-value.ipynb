{
 "cells": [
  {
   "cell_type": "code",
   "execution_count": 1,
   "metadata": {},
   "outputs": [
    {
     "name": "stdout",
     "output_type": "stream",
     "text": [
      "B_min= 3.6809e-17\n",
      "D_min= 1.0839e+03\n"
     ]
    }
   ],
   "source": [
    "import numpy as np\n",
    "import matplotlib.pyplot as plt\n",
    "from scipy.integrate import odeint\n",
    "import math\n",
    "\n",
    "#All constants are taken from the Chinese research paper \n",
    "# \"Merger Rate Distribution of Primordial-Black-Hole Binaries\".\n",
    "\n",
    "#Calculation of minimum B and D-values for a binary with mass M_1=5M☉ and M_2=5M☉. \n",
    "\n",
    "#To calculate the minimum B and D-values, all the minimum values of the constants are used as given by the \n",
    "#the  above mentioned paper.\n",
    "\n",
    "\n",
    "# M_solar≡M☉\n",
    "\n",
    "π=np.pi\n",
    "Δ=0.001\n",
    "σ_eq=0.005\n",
    "G=6.67e-11             #in units of kg^-1 m^3 s^-2\n",
    "c=3e8                  #in units of m s^-1\n",
    "ρ_eq=2.15368e-16       #in units of kg m^-3\n",
    "M_solar=1.989e30       #in units of kg\n",
    "\n",
    "\n",
    "M_1=(5*M_solar)         #in units of kg  & M_1≥ 5M☉\n",
    "M_2=(5*M_solar)         #in units of kg  & M_2≥ 5M☉\n",
    "M_b=(M_1+M_2)           #in units of kg  & (M_1+M_2)≤ 100M☉\n",
    "\n",
    "f=1.02e-3            #1.3x10^-3 ≤ f_pbh ≤ 6.6x10^-3  &   f_pbh=f/0.85\n",
    "f_b=(f/2)            #using f_b = f_pbh/2   \n",
    "               \n",
    "t=1e-20              #in units of seconds corresponding to a redshift, z=10^20 (say)\n",
    "\n",
    "A=(8.0663*((85/3)**(1/7))*(((8*π)/3)**(4/21))*((G**3/c**5)**(1/7))*(ρ_eq**(4/21)))\n",
    "\n",
    "def B(M_1,M_2,t):      # B is dimensionless\n",
    "    return (A*((M_1*M_2*(M_b**(-1/3))*t)**(1/7))*((f**2+1.1998*(σ_eq**2))**(-1/2))*((f_b*Δ)**(37/21)))\n",
    "\n",
    "\n",
    "print(\"B_min=\",'%0.4e'%B(M_1,M_2,t)) #For f≡f_min, f_b≡f_b_min and (M_1+M_2)≤100M☉\n",
    "\n",
    "\n",
    "def D(M_1,M_2,t,f_b):\n",
    "    return (f_b*Δ*(B(M_1,M_2,t)**(-21/37)))\n",
    "\n",
    "\n",
    "print(\"D_min=\",'%0.4e'%D(M_1,M_2,t,f_b))"
   ]
  },
  {
   "cell_type": "code",
   "execution_count": 2,
   "metadata": {},
   "outputs": [
    {
     "name": "stdout",
     "output_type": "stream",
     "text": [
      "B_max= 9.8095e-10\n",
      "D_max= 8.5584e-01\n"
     ]
    }
   ],
   "source": [
    "#Calculation of maximium B and D-values for a binary with mass M_1=50M☉ and M_2=50M☉. \n",
    "\n",
    "#To calculate the maximum B and D-values, all the maximum values of the constants are used as given by the \n",
    "#the  above mentioned paper.\n",
    "\n",
    "M_1=(50*M_solar)          #in units of kg  & M_1≥ 5M☉\n",
    "M_2=(50*M_solar)          #in units of kg  & M_2≥ 5M☉\n",
    "M_b=(M_1+M_2)             #in units of kg  & (M_1+M_2)≤ 100M☉\n",
    "\n",
    "f=5.61e-3             #1.3x10^-3 ≤ f_pbh ≤ 6.6x10^-3  &   f_pbh=f/0.85\n",
    "f_b=6.6e-3            #using f_b = f_pbh/2 \n",
    "yr=3.15e7             #in units of seconds.\n",
    "t=13.78e9*yr           \n",
    "\n",
    "\n",
    "\n",
    "def B(M_1,M_2,t):      # B is dimensionless\n",
    "    return (A*((M_1*M_2*(M_b**(-1/3))*t)**(1/7))*((f**2+1.1998*(σ_eq**2))**(-1/2))*((f_b*Δ)**(37/21)))\n",
    "\n",
    "\n",
    "print(\"B_max=\",'%0.4e'%B(M_1,M_2,t)) #For f≡f_max, f_b≡f_b_max and (M_1+M_2)=100M☉\n",
    "\n",
    "def D(M_1,M_2,t,f_b):\n",
    "    return (f_b*Δ*(B(M_1,M_2,t)**(-21/37)))\n",
    "\n",
    "\n",
    "print(\"D_max=\",'%0.4e'%D(M_1,M_2,t,f_b))"
   ]
  },
  {
   "cell_type": "code",
   "execution_count": 3,
   "metadata": {},
   "outputs": [
    {
     "name": "stdout",
     "output_type": "stream",
     "text": [
      "B_max= 6.3348e-17\n",
      "D_max= 1.0308e+04\n"
     ]
    }
   ],
   "source": [
    "#Calculation of B-value for a binary with mass M_1=5M☉ and M_2=95M☉. \n",
    "\n",
    "#To calculate the maximum B and D-values, all the maximum values of the constants are used as given by the \n",
    "#the  above mentioned paper.\n",
    "\n",
    "M_1=(5*M_solar)     #in units of kg  & M_1≥ 5M☉\n",
    "M_2=(95*M_solar)    #in units of kg  & M_2≥ 5M☉\n",
    "M_b=(M_1+M_2)       #in units of kg  & (M_1+M_2)≤ 100M☉\n",
    "\n",
    "f=7.7647e3         # f_pbh = f/0.85  &   1.411x10^3 ≤ f ≤ 7.764x10^3\n",
    "f_b=6.6e-3         # using f_b = f_pbh  &   1.3x10^-3 ≤ f_pbh ≤ 6.6x10^-3\n",
    "t=1e10             #in units of seconds corresponding to a redshift, z=10^20 (say)\n",
    "\n",
    "\n",
    "\n",
    "def B(M_1,M_2,t):     # B is dimensionless\n",
    "    return (A*((M_1*M_2*(M_b**(-1/3))*t)**(1/7))*((f**2+1.1998*(σ_eq**2))**(-1/2))*((f_b*Δ)**(37/21)))\n",
    "\n",
    "\n",
    "print(\"B_max=\",'%0.4e'%B(M_1,M_2,t)) #For f≡f_max, f_b≡f_b_max and (M_1+M_2)=100M☉\n",
    "\n",
    "def D(M_1,M_2,t,f_b):\n",
    "    return (f_b*Δ*(B(M_1,M_2,t)**(-21/37)))\n",
    "\n",
    "\n",
    "print(\"D_max=\",'%0.4e'%D(M_1,M_2,t,f_b))"
   ]
  },
  {
   "cell_type": "code",
   "execution_count": null,
   "metadata": {},
   "outputs": [],
   "source": []
  }
 ],
 "metadata": {
  "kernelspec": {
   "display_name": "Python 3",
   "language": "python",
   "name": "python3"
  },
  "language_info": {
   "codemirror_mode": {
    "name": "ipython",
    "version": 3
   },
   "file_extension": ".py",
   "mimetype": "text/x-python",
   "name": "python",
   "nbconvert_exporter": "python",
   "pygments_lexer": "ipython3",
   "version": "3.8.5"
  }
 },
 "nbformat": 4,
 "nbformat_minor": 4
}
