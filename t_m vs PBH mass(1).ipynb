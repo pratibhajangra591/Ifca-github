{
 "cells": [
  {
   "cell_type": "code",
   "execution_count": 4,
   "id": "cd2643b0-3284-410d-bed2-93f11d6f5ac3",
   "metadata": {},
   "outputs": [
    {
     "name": "stdout",
     "output_type": "stream",
     "text": [
      "Evolving from  1000.0  to  1.0 r_isco  with initial eccentricity 0.99  with  Options: accretion = False, haloPhaseSpaceDescription = False, accuracy = 1.0e-08\n",
      "A termination event occurred.\n",
      " -> Evolution took 1.4473s\n",
      "Evolving from  1000.0  to  1.0 r_isco  with initial eccentricity 0.99  with  Options: accretion = False, haloPhaseSpaceDescription = False, accuracy = 1.0e-08\n",
      "A termination event occurred.\n",
      " -> Evolution took 1.4460s\n",
      "Evolving from  1000.0  to  1.0 r_isco  with initial eccentricity 0.99  with  Options: accretion = False, haloPhaseSpaceDescription = False, accuracy = 1.0e-08\n",
      "A termination event occurred.\n",
      " -> Evolution took 1.4645s\n",
      "Evolving from  1000.0  to  1.0 r_isco  with initial eccentricity 0.99  with  Options: accretion = False, haloPhaseSpaceDescription = False, accuracy = 1.0e-08\n",
      "A termination event occurred.\n",
      " -> Evolution took 1.7019s\n"
     ]
    },
    {
     "data": {
      "image/png": "[encoded data removed]",
      "text/plain": [
       "<Figure size 720x360 with 1 Axes>"
      ]
     },
     "metadata": {
      "needs_background": "light"
     },
     "output_type": "display_data"
    }
   ],
   "source": [
    "import numpy as np\n",
    "import matplotlib.pyplot as plt\n",
    "import imripy\n",
    "from imripy import merger_system as ms\n",
    "from scipy.interpolate import interp1d\n",
    "from matplotlib.ticker import FormatStrFormatter\n",
    "from scipy.optimize import curve_fit\n",
    "from numpy import diff\n",
    "\n",
    "plt.rcParams.update({\n",
    "  \"text.usetex\": True,\n",
    "  \"font.family\": \"serif\"\n",
    "})\n",
    "\n",
    "π = np.pi\n",
    "G = 4.4959e-15            #in units of M☉^-1 pc^3 yr^-2\n",
    "c = 0.3068                #in units of pc yr^-1\n",
    "ρ_eq = 3.1812e3           #in units of M☉ pc^-3 with ρ_eq=2.15368e-16 kg m^-3\n",
    "t_m = 13.78e9             #in units of yrs corresponding to t_0=13.78Gyr\n",
    "yr = 3.154e7              # in units of seconds\n",
    "t_eq = 1.59246e12/yr      # in units of yr\n",
    "M_solar = 1.989e30\n",
    "\n",
    "\n",
    "\n",
    "\n",
    "e0= 0.99\n",
    "\n",
    "r_spike = 1  # in parsecs, Choosen by choic\n",
    "    \n",
    "alpha = 9/4\n",
    " \n",
    "D_luminosity = 5e8              # The distance to the system from earth as 500 Mpc\n",
    "        \n",
    "m1_list = np.geomspace(1, 1e5, 4)  # in units of solar mass\n",
    "\n",
    "m2 = 1e-3 *  ms.solar_mass_to_pc\n",
    "\n",
    "\n",
    "    \n",
    "\n",
    "plt.figure(figsize = (10, 5))\n",
    "plt.rcParams['xtick.direction'] = 'in'\n",
    "plt.rcParams['ytick.direction'] = 'in'\n",
    "plt.tick_params(which='both', right=True, top=True)\n",
    "\n",
    "t_m_list = np.zeros(len(m1_list))\n",
    "\n",
    "for i, (m_1) in enumerate (m1_list):\n",
    "    \n",
    "    m_bar = m_1\n",
    "    \n",
    "    ρ_bar = (ρ_eq/2) * (t_eq**(3/2)) * ((2 * G * m_bar)**(3/4))\n",
    "    \n",
    "    rho_spike =  ρ_bar * (r_spike**(-alpha)) * ms.solar_mass_to_pc  \n",
    "    \n",
    "    spike = imripy.halo.Spike(rho_spike, r_spike, alpha)\n",
    " \n",
    "    m1 = m1_list[i]* ms.solar_mass_to_pc\n",
    "    \n",
    "    sp = ms.SystemProp(m1, m2, spike, D_luminosity)\n",
    "\n",
    "    a0= 1000 * sp.r_isco()\n",
    "\n",
    "    a_fin = sp.r_isco()      # Choosen equal to r_icso\n",
    "\n",
    "    R_fin = sp.r_isco()      # The final condition for the evolution\n",
    "\n",
    "    ev_ecc = imripy.inspiral.Classic.Evolve(sp, a0 , e0,  a_fin = R_fin)\n",
    "    \n",
    "    t_m_list[i] = ev_ecc.t[-1]/ms.year_to_pc\n",
    "    \n",
    "plt.loglog(m1_list, t_m_list, '')\n",
    "    \n",
    "\n",
    "    \n",
    "    \n",
    "\n",
    "plt.xlabel('$m_{1} \\, [M_{\\odot}]$', fontsize = 13)\n",
    "plt.ylabel('final merger time / yr', fontsize = 12)\n",
    "plt.title('a0 = 1000 r_isco and e0 = 0.99')\n",
    "plt.grid()\n",
    "plt.savefig('t_m vs m1.pdf', bbox_inches='tight')\n",
    "plt.show()"
   ]
  },
  {
   "cell_type": "code",
   "execution_count": null,
   "id": "afbd7b6d-37c5-4c0d-bc4b-63b0d99f7fe5",
   "metadata": {},
   "outputs": [],
   "source": []
  },
  {
   "cell_type": "code",
   "execution_count": null,
   "id": "9505602d-fbc9-4a9d-8e7a-b29c3181635a",
   "metadata": {},
   "outputs": [],
   "source": []
  },
  {
   "cell_type": "code",
   "execution_count": null,
   "id": "2f358f0f-e8f7-4b82-a5e5-e1ccb3c822ff",
   "metadata": {},
   "outputs": [],
   "source": []
  }
 ],
 "metadata": {
  "kernelspec": {
   "display_name": "Python 3 (ipykernel)",
   "language": "python",
   "name": "python3"
  },
  "language_info": {
   "codemirror_mode": {
    "name": "ipython",
    "version": 3
   },
   "file_extension": ".py",
   "mimetype": "text/x-python",
   "name": "python",
   "nbconvert_exporter": "python",
   "pygments_lexer": "ipython3",
   "version": "3.9.12"
  }
 },
 "nbformat": 4,
 "nbformat_minor": 5
}
