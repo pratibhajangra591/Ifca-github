{
 "cells": [
  {
   "cell_type": "code",
   "execution_count": 19,
   "metadata": {},
   "outputs": [
    {
     "name": "stdout",
     "output_type": "stream",
     "text": [
      "λ= 0.001 χ_max= 0.00021481954158323433\n",
      "λ= 0.002 χ_max= 0.00042268178975842484\n",
      "λ= 0.003 χ_max= 0.0006298340325857499\n",
      "λ= 0.004 χ_max= 0.0008358744453761434\n",
      "λ= 0.005 χ_max= 0.0009835073197520315\n",
      "λ= 0.006 χ_max= 0.001178542564384663\n",
      "λ= 0.007 χ_max= 0.0013735187388022973\n",
      "λ= 0.008 χ_max= 0.0015684845414566688\n"
     ]
    },
    {
     "data": {
      "image/png": "[encoded data removed]",
      "text/plain": [
       "<Figure size 432x288 with 1 Axes>"
      ]
     },
     "metadata": {
      "needs_background": "light"
     },
     "output_type": "display_data"
    }
   ],
   "source": [
    "import numpy as np\n",
    "import matplotlib.pyplot as plt\n",
    "from scipy.integrate import odeint\n",
    "λ=0.001\n",
    "while λ<0.009:\n",
    "    def f(u,s):\n",
    "        return [u[1], ((s*u[1]-u[0])/(s**2))-((u[0]*(s**2))/(λ*((u[0]**2+b**2)**(3/2))))]\n",
    "    separation0= [1e-12,1]\n",
    "    b=1e-6\n",
    "    ss=np.linspace(1e-12,4e-3,1000)  \n",
    "    us=odeint(f,separation0,ss)\n",
    "    separations= us[:,0]\n",
    "    As=ss/λ\n",
    "    Bs=separations/λ\n",
    "    Bs_max= (np.max(Bs))\n",
    "    a=Bs_max/2\n",
    "    def χ_max(λ):\n",
    "        return Bs_max*λ\n",
    "    χ_max=χ_max(λ)\n",
    "    print(\"λ=\",λ,\"χ_max=\",χ_max)\n",
    "    λ+=0.001\n",
    "\n",
    "    plt.plot(λ,χ_max,'')\n",
    "    plt.xlabel('λ')\n",
    "    plt.ylabel('χ_max')\n",
    "plt.show()"
   ]
  },
  {
   "cell_type": "code",
   "execution_count": null,
   "metadata": {},
   "outputs": [],
   "source": []
  },
  {
   "cell_type": "code",
   "execution_count": null,
   "metadata": {},
   "outputs": [],
   "source": []
  }
 ],
 "metadata": {
  "kernelspec": {
   "display_name": "Python 3",
   "language": "python",
   "name": "python3"
  },
  "language_info": {
   "codemirror_mode": {
    "name": "ipython",
    "version": 3
   },
   "file_extension": ".py",
   "mimetype": "text/x-python",
   "name": "python",
   "nbconvert_exporter": "python",
   "pygments_lexer": "ipython3",
   "version": "3.8.5"
  }
 },
 "nbformat": 4,
 "nbformat_minor": 4
}
