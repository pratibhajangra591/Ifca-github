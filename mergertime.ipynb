{
 "cells": [
  {
   "cell_type": "code",
   "execution_count": 2,
   "id": "3807f296-d077-4e85-bff5-4f2c26b74fdd",
   "metadata": {},
   "outputs": [],
   "source": [
    "# Merger rate for IMRIPY system when they throw away all of the dark matter before merging.\n",
    "\n",
    "import numpy as np\n",
    "import matplotlib.pyplot as plt\n",
    "import math\n",
    "from scipy.integrate import odeint\n",
    "from scipy.integrate import quad\n",
    "import seaborn as sns\n",
    "from matplotlib import rcParams\n",
    "from scipy.interpolate import InterpolatedUnivariateSpline\n",
    "plt.rcParams.update({\n",
    "  \"text.usetex\": True,\n",
    "  \"font.family\": \"serif\"\n",
    "})    \n",
    "\n",
    "\n",
    "π = np.pi\n",
    "G = 4.4959e-15            #in units of M☉^-1 pc^3 yr^-2\n",
    "c = 0.3068                #in units of pc yr^-1\n",
    "ρ_eq = 3.1812e3           #in units of M☉ pc^-3 with ρ_eq=2.15368e-16 kg m^-3\n",
    "pc = 3.0857e16            # in meters\n",
    "yr = 3.154e7              # in units of seconds\n",
    "t_eq = 1.59246e12/yr      # in units of seconds\n",
    "t_m = 13.78e9             #in units of yrs corresponding to t_0=13.78Gyr\n",
    "t_0 = 13.78e9             #in units of yrs corresponding to t_0=13.78Gyr\n",
    "\n",
    "σ_eq = 0.005\n",
    "ρ_m = 4e19                #ρ_m = 4e19 M☉ Gpc^-3\n",
    "\n",
    "\n",
    "m_1 = 7   #in units of M☉\n",
    "m_2 = 9  #in units of M☉\n",
    "\n",
    "y_1 = np.log(m_1)\n",
    "y_2 = np.log(m_2)\n",
    "dy = (y_2-y_1)\n",
    "\n",
    "\n",
    "y_list = np.zeros(11)\n",
    "\n",
    "for i in range(len(y_list)):\n",
    "    y_list[i] = (y_1 + (i*dy))\n",
    "    \n",
    "\n",
    "M_1_list = np.zeros(len(y_list))\n",
    "M_2_list = np.zeros(len(y_list))\n",
    "\n",
    "for i, y in enumerate(y_list):\n",
    "    M_1_list[i] = (np.ceil(np.exp(y)))\n",
    "    M_2_list[i] = (np.ceil(np.exp(y)))\n",
    "    \n",
    "\n",
    "            \n",
    "m_1_list = [int(M_1) for M_1 in M_1_list]\n",
    "m_2_list = [int(M_2) for M_2 in M_2_list]\n",
    "\n",
    "    \n",
    "Δ_1_list = np.zeros(len(y_list))\n",
    "Δ_2_list = np.zeros(len(y_list))\n",
    "\n",
    "for i, y in enumerate(y_list):\n",
    "    Δ_1_list[i] = np.exp(y + 0.5*dy) - np.exp(y - 0.5*dy)\n",
    "    Δ_2_list[i] = np.exp(y + 0.5*dy) - np.exp(y - 0.5*dy) \n",
    "    \n",
    "    \n",
    "        \n",
    "m_1 = 1        # m_1 = 1 solar mass\n",
    "a_i = 1e10     # in units of pc\n",
    "\n",
    "\n",
    "    "
   ]
  },
  {
   "cell_type": "code",
   "execution_count": 5,
   "id": "1a859a83-223d-4b47-a707-0f7e2b50ff1a",
   "metadata": {},
   "outputs": [
    {
     "data": {
      "image/png": "[encoded data removed]",
      "text/plain": [
       "<Figure size 432x288 with 1 Axes>"
      ]
     },
     "metadata": {
      "needs_background": "light"
     },
     "output_type": "display_data"
    }
   ],
   "source": [
    "plt.rcParams['font.family'] = 'serif'\n",
    "plt.rcParams['xtick.direction'] = 'out'\n",
    "plt.rcParams['ytick.direction'] = 'out'\n",
    "\n",
    "\n",
    "def merger_time_nohalos(m_2):  # assuming a_i = a_f and hence j_i = j_f .\n",
    "    \n",
    "    def j_i(m_1, m_2):\n",
    "        return  (((85/3) * (G**3) * m_1 * m_2 * (m_1 + m_2) * t_m)/((a_i**4) * (c**5)))**(1/7)\n",
    " \n",
    "    return  (((a_i**4) * (c**5))/((85/3) * (G**3) * m_1 * m_2 * (m_1 + m_2))) * (j_i(m_1, m_2)**7)\n",
    "\n",
    "#Or\n",
    "# def merger_time_nohalos(m_2):  # assuming a_i = a_f and hence j_i = j_f .\n",
    "    #return  t_m\n",
    "\n",
    "\n",
    "\n",
    "merger_time_nohalos_list = np.zeros(len(m_2_list))\n",
    "\n",
    "for i, m_2 in enumerate(m_2_list):\n",
    "    merger_time_nohalos_list[i] = merger_time_nohalos(m_2)\n",
    "\n",
    "plt.plot(m_2_list, merger_time_nohalos_list, 'C1')\n",
    "\n",
    "\n",
    "\n",
    "plt.xlabel('$m_{j}\\:[M_{\\odot}]$', fontsize = 17)\n",
    "plt.ylabel('Final Merger time $\\: [yr]$', fontsize = 17)\n",
    "plt.title('Power Law PDF, no halos', fontsize = 18)\n",
    "plt.show()     "
   ]
  },
  {
   "cell_type": "code",
   "execution_count": 6,
   "id": "a4b19d38-9d81-4063-bebb-2d0f8f870307",
   "metadata": {},
   "outputs": [
    {
     "data": {
      "image/png": "[encoded data removed]",
      "text/plain": [
       "<Figure size 432x288 with 1 Axes>"
      ]
     },
     "metadata": {
      "needs_background": "light"
     },
     "output_type": "display_data"
    }
   ],
   "source": [
    "def merger_time_withhalos(m_2):  # j_f = sqrt(a_i /a_f) * j_i\n",
    "    \n",
    "    def x(m_1, m_2):  # Let a_i = (0.0965 * λ *x)\n",
    "        return  (((3 * (m_1 + m_2 ) * a_i)/(8 * π * ρ_eq))**(1/4)) * ((0.0965)**(-1/4))\n",
    "    \n",
    "    def λ(m_1, m_2):\n",
    "        return (a_i / (0.0965 * x(m_1, m_2)))\n",
    "    \n",
    "    \n",
    "    def s(m_1, m_2): # S_dec of the binary decouple.\n",
    "        return ((0.03095*λ(m_1, m_2)+ 0.3425)*λ(m_1, m_2))\n",
    "    \n",
    "    \n",
    "    def t_dec(m_1, m_2):    # t_dec of the binary decouple.\n",
    "        return ((np.sqrt(3/(8*π*G*ρ_eq)))*(((2/3)*(s(m_1, m_2)-2)*np.sqrt(s(m_1, m_2)+1))+(4/3)))\n",
    "  \n",
    "    \n",
    "    def ρ_bar(m):\n",
    "        return ((ρ_eq/2)*(t_eq**(3/2))*((2*G*m)**(3/4))) \n",
    "    \n",
    "    \n",
    "    \n",
    "    def M_1halo(m_1, m_2):\n",
    "        return (((16*π)/3)*ρ_bar(m_1)*((2*G*m_1*(t_dec(m_1, m_2)**2))**(1/4)))\n",
    "    \n",
    "    \n",
    "    def M_2halo(m_1, m_2):\n",
    "        return (((16*π)/3)*ρ_bar(m_2)*((2*G*m_2*(t_dec(m_1, m_2)**2))**(1/4)))\n",
    "    \n",
    "\n",
    "    def M_binary_initial(m_1, m_2):\n",
    "        return (m_1 + m_2 + M_1halo(m_1, m_2) + M_2halo(m_1, m_2))\n",
    "      \n",
    "    def M_1(m_1, m_2):\n",
    "        return (m_1 + M_1halo(m_1, m_2))\n",
    "    \n",
    "    def M_2(m_1, m_2):\n",
    "        return (m_2 + M_2halo(m_1, m_2))\n",
    "    \n",
    "    #Schwarzchild Radius of the PBH.\n",
    "    def r_s(m): \n",
    "        return ((2*G*m)/(c**2)) \n",
    "\n",
    "\n",
    "    #r_turnaround of the dark matter halos, eq.(5) in \"WIMPs and stellar-mass primordial black holes are incompatible\"\n",
    "    def r_ta(m): \n",
    "        return ((2*G*m*(t_dec(m_1, m_2)**2))**(1/3))\n",
    "\n",
    "\n",
    "    # The binding energy, E_b of the dark matter halos calculated within r_s and r_ta for dark matter halo's density profile of ρ(r)∝ r^{-9/4}\n",
    "    def E_b(m): \n",
    "        return ((16*π*G*ρ_bar(m)*m*(((r_ta(m))**(-1/4))-((r_s(m))**(-1/4))))-((128/3)*G*(π**2)*(ρ_bar(m)**2)*(((r_ta(m))**(1/2))-((r_s(m))**(1/2)))))\n",
    "    \n",
    "    \n",
    "    def a_final(m_1,m_2):\n",
    "        return ((G* m_1 * m_2 * a_i)/((G * M_1(m_1, m_2) * M_2(m_1, m_2))-(2 * a_i *(E_b(m_1)+E_b(m_2)))))\n",
    "\n",
    "    \n",
    "    def j_i(m_1, m_2): # j_i corresponding to t_m.\n",
    "        return  (((85/3) * (G**3) * M_1(m_1, m_2) * M_2(m_1, m_2) * M_binary_initial(m_1, m_2) * t_m)/((a_i**4) * (c**5)))**(1/7)\n",
    " \n",
    "    \n",
    "    \n",
    "    def j_f(m_1, m_2):\n",
    "        return np.sqrt(a_i / a_final(m_1, m_2)) * j_i(m_1, m_2)\n",
    "    \n",
    "    \n",
    "    return  (((a_final(m_1, m_2)**4) * (c**5)) / ((85/3) * (G**3) * m_1 * m_2  * (m_1 + m_2))) * (j_f(m_1,m_2)**7)\n",
    "\n",
    "\n",
    "\n",
    "plt.rcParams['font.family'] = 'serif'\n",
    "plt.rcParams['xtick.direction'] = 'out'\n",
    "plt.rcParams['ytick.direction'] = 'out'\n",
    "\n",
    "\n",
    "merger_time_withhalos_list = np.zeros(len(m_2_list))\n",
    "\n",
    "for i, m_2 in enumerate(m_2_list):\n",
    "    merger_time_withhalos_list[i] = merger_time_withhalos(m_2)\n",
    "\n",
    "plt.plot(m_2_list, merger_time_withhalos_list, 'C4')\n",
    "\n",
    "\n",
    "\n",
    "plt.xlabel('$m_{j}\\:[M_{\\odot}]$', fontsize = 17)\n",
    "plt.ylabel('Final Merger time $\\: [yr]$', fontsize = 17)\n",
    "plt.title('Power Law PDF, with halos', fontsize = 18)\n",
    "plt.show()     "
   ]
  },
  {
   "cell_type": "code",
   "execution_count": 7,
   "id": "253c820a-98ff-45b1-900e-2a54636ab5ae",
   "metadata": {},
   "outputs": [
    {
     "data": {
      "image/png": "[encoded data removed]",
      "text/plain": [
       "<Figure size 432x288 with 1 Axes>"
      ]
     },
     "metadata": {
      "needs_background": "light"
     },
     "output_type": "display_data"
    }
   ],
   "source": [
    "plt.loglog(m_2_list, merger_time_withhalos_list, 'C4')\n",
    "plt.loglog(m_2_list, merger_time_nohalos_list, 'C1--')\n",
    "\n",
    "\n",
    "\n",
    "plt.legend([ \"with halos\", \"without halos\"])\n",
    "plt.xlabel('$m_{j}\\:[M_{\\odot}]$', fontsize = 17)\n",
    "plt.ylabel('Final Merger time $\\: [yr]$', fontsize = 17)\n",
    "plt.title('Power Law PDF, no halos', fontsize = 18)\n",
    "plt.savefig('timePWRLaw.pdf', bbox_inches = 'tight')\n",
    "plt.show() "
   ]
  },
  {
   "cell_type": "code",
   "execution_count": 13,
   "id": "04778f20-d205-4e05-bb28-3c95f3170d52",
   "metadata": {},
   "outputs": [
    {
     "name": "stdout",
     "output_type": "stream",
     "text": [
      "j_i = 0.03839352463606161\n",
      "t_m = 13780000000.00157\n",
      "j_i = 0.03839352463606161\n",
      "t_m = 13780000000.00157\n",
      "j_i = 0.03839352463606161\n",
      "t_m = 13780000000.00157\n",
      "j_i = 0.03839352463606161\n",
      "t_m = 13780000000.00157\n",
      "j_i = 0.03839352463606161\n",
      "t_m = 13780000000.00157\n",
      "j_i = 0.03839352463606161\n",
      "t_m = 13780000000.00157\n",
      "j_i = 0.03839352463606161\n",
      "t_m = 13780000000.00157\n",
      "j_i = 0.03839352463606161\n",
      "t_m = 13780000000.00157\n",
      "j_i = 0.03839352463606161\n",
      "t_m = 13780000000.00157\n",
      "j_i = 0.03839352463606161\n",
      "t_m = 13780000000.00157\n",
      "j_i = 0.03839352463606161\n",
      "t_m = 13780000000.00157\n"
     ]
    },
    {
     "data": {
      "image/png": "[encoded data removed]",
      "text/plain": [
       "<Figure size 504x288 with 1 Axes>"
      ]
     },
     "metadata": {
      "needs_background": "light"
     },
     "output_type": "display_data"
    }
   ],
   "source": [
    "def merger_time_imripy(m_2):\n",
    "    \n",
    "    beta = 0.75\n",
    "    gamma  =  0.65\n",
    "    delta = -0.89\n",
    "    a_i_ref = (1e4 * 0.04606)   # in units of pc\n",
    "    m1_ref = 1      # in units of solar mass.\n",
    "    m2_ref = 1e-3   # in units of solar mass.\n",
    "    \n",
    "    \n",
    "    file = np.load('tmofj0.npz')\n",
    "    ji_ref_list = file['arr_0']\n",
    "    tm_ref_list = file['arr_1']\n",
    "\n",
    "\n",
    "    # right now tm_ref_list contains 40 points in the list. \n",
    "    j_i_ref =  InterpolatedUnivariateSpline(tm_ref_list, ji_ref_list, k = 1) # j_i = g(t_m)\n",
    "    \n",
    "    j_i =  j_i_ref(t_m)\n",
    "    \n",
    "    tm_ref = InterpolatedUnivariateSpline( ji_ref_list, tm_ref_list, k = 1) # t_m = f(j_i)\n",
    "    print(\"j_i =\", j_i_ref(t_m))\n",
    "    print(\"t_m =\", tm_ref(j_i))\n",
    "    return tm_ref(j_i) * ((a_i / a_i_ref)**(beta)) * ((m_1/m1_ref)**(gamma)) * ((m_2 / m2_ref)**(delta))\n",
    "\n",
    "\n",
    "\n",
    "merger_time_imripy_list = np.zeros(len(m_2_list))\n",
    "\n",
    "for i, m_2 in enumerate(m_2_list):\n",
    "    merger_time_imripy_list[i] = merger_time_imripy(m_2)\n",
    "\n",
    "\n",
    "    \n",
    "    \n",
    "plt.figure(figsize=(7,4))    \n",
    "    \n",
    "plt.plot(m_2_list, merger_time_imripy_list, 'C4')\n",
    "plt.xlabel('$m_{j}\\:[M_{\\odot}]$', fontsize = 17)\n",
    "plt.ylabel('Merger time $\\: [yr]$', fontsize = 17)\n",
    "plt.title('IMRIPY systems with halos kept intact', fontsize = 18)\n",
    "plt.show()     "
   ]
  },
  {
   "cell_type": "code",
   "execution_count": 14,
   "id": "d37a452c-9d42-46da-b4f1-6664bca12236",
   "metadata": {},
   "outputs": [
    {
     "data": {
      "image/png": "[encoded data removed]",
      "text/plain": [
       "<Figure size 432x288 with 1 Axes>"
      ]
     },
     "metadata": {
      "needs_background": "light"
     },
     "output_type": "display_data"
    }
   ],
   "source": [
    "plt.loglog(m_2_list, merger_time_withhalos_list, 'C4')\n",
    "plt.loglog(m_2_list, merger_time_imripy_list, 'k:')\n",
    "plt.loglog(m_2_list, merger_time_nohalos_list, 'C1--')\n",
    "plt.legend([\"Binaries without halos\",  \"IMRIPY systems\", \"Binaries with halos\"], loc = 'center right')\n",
    "plt.xlabel('$m_{j}\\:[M_{\\odot}]$', fontsize = 17)\n",
    "plt.ylabel('Merger time $\\: [yr]$', fontsize = 17)\n",
    "plt.title('$m_{i} = 1 \\, \\mathrm{M_{\\odot}}$', fontsize = 18)\n",
    "plt.savefig('mergertime.pdf', bbox_inches = 'tight')\n",
    "plt.show()  "
   ]
  },
  {
   "cell_type": "code",
   "execution_count": null,
   "id": "c2d59f7a-4da2-4094-9dda-1d8bccedf347",
   "metadata": {},
   "outputs": [],
   "source": []
  },
  {
   "cell_type": "code",
   "execution_count": 10,
   "id": "23f38a74-c4b7-4b2e-a1c0-7caaf16f30d9",
   "metadata": {},
   "outputs": [
    {
     "name": "stdout",
     "output_type": "stream",
     "text": [
      "j_i = 342.25483276399143\n",
      "t_m = 1.8493713016845644e+29\n"
     ]
    }
   ],
   "source": [
    "file = np.load('tmofj0.npz')\n",
    "ji_ref_list = file['arr_0']\n",
    "tm_ref_list = file['arr_1']\n",
    "\n",
    "\n",
    "    # right now tm_ref_list contains 40 points in the list. \n",
    "j_i_ref =  InterpolatedUnivariateSpline(tm_ref_list, ji_ref_list, k = 2) # j_i = g(t_m)\n",
    "    \n",
    "ji = j_i_ref(13.78e9)\n",
    "\n",
    "   \n",
    "tm_ref = InterpolatedUnivariateSpline( ji_ref_list, tm_ref_list, k = 2) # t_m = f(j_i)\n",
    "  \n",
    "    \n",
    "tm = tm_ref(ji)\n",
    "\n",
    "\n",
    "print(\"j_i =\", ji)\n",
    "print(\"t_m =\", tm)\n"
   ]
  },
  {
   "cell_type": "code",
   "execution_count": 11,
   "id": "55a656e4-62a5-4fb8-bff5-8347182d6526",
   "metadata": {},
   "outputs": [
    {
     "name": "stdout",
     "output_type": "stream",
     "text": [
      "j_i = 0.03839352463606161\n",
      "t_m = 13780000000.00157\n"
     ]
    }
   ],
   "source": [
    "file = np.load('tmofj0.npz')\n",
    "ji_ref_list = file['arr_0']\n",
    "tm_ref_list = file['arr_1']\n",
    "\n",
    "\n",
    "    # right now tm_ref_list contains 40 points in the list. \n",
    "j_i_ref =  InterpolatedUnivariateSpline(tm_ref_list, ji_ref_list, k = 1) # j_i = g(t_m)\n",
    "    \n",
    "ji = j_i_ref(13.78e9)\n",
    "\n",
    "   \n",
    "tm_ref = InterpolatedUnivariateSpline( ji_ref_list, tm_ref_list, k = 1) # t_m = f(j_i)\n",
    "  \n",
    "    \n",
    "tm = tm_ref(ji)\n",
    "\n",
    "\n",
    "print(\"j_i =\", ji)\n",
    "print(\"t_m =\", tm)\n",
    "\n",
    " "
   ]
  },
  {
   "cell_type": "code",
   "execution_count": null,
   "id": "31638872-2240-40e3-9a6e-53c81b90cab3",
   "metadata": {},
   "outputs": [],
   "source": []
  },
  {
   "cell_type": "code",
   "execution_count": null,
   "id": "b578dbd5-2361-4166-836a-fb714e02becc",
   "metadata": {},
   "outputs": [],
   "source": []
  }
 ],
 "metadata": {
  "kernelspec": {
   "display_name": "Python 3 (ipykernel)",
   "language": "python",
   "name": "python3"
  },
  "language_info": {
   "codemirror_mode": {
    "name": "ipython",
    "version": 3
   },
   "file_extension": ".py",
   "mimetype": "text/x-python",
   "name": "python",
   "nbconvert_exporter": "python",
   "pygments_lexer": "ipython3",
   "version": "3.9.12"
  }
 },
 "nbformat": 4,
 "nbformat_minor": 5
}
