{
 "cells": [
  {
   "cell_type": "code",
   "execution_count": 1,
   "id": "094c2f3e-5a02-4b79-b0c5-fa468b4b863e",
   "metadata": {},
   "outputs": [
    {
     "name": "stdout",
     "output_type": "stream",
     "text": [
      "m_2 = [1e-05, 2.1923057284836603e-05, 4.806204407142273e-05, 0.00010536669454041399, 0.0002309960080323376, 0.0005064138716661513, 0.0011102140318372917, 0.002433928581839833, 0.005335915572687577, 0.011697958276708147, 0.025645500941590092, 0.05622277862408101, 0.12325751964884149, 0.27021816640484253, 0.592400834149686, 1.2987237422648557, 2.84719949988498, 6.241931773733654, 13.684222784360465, 30.0] M☉\n"
     ]
    }
   ],
   "source": [
    "# Merger rate for IMRIPY system when they throw away all of the dark matter before merging.\n",
    "\n",
    "import numpy as np\n",
    "import matplotlib.pyplot as plt\n",
    "import imripy\n",
    "from imripy import merger_system as ms\n",
    "from scipy.interpolate import interp1d\n",
    "from matplotlib.ticker import FormatStrFormatter\n",
    "from scipy.optimize import curve_fit\n",
    "from numpy import diff\n",
    "   \n",
    "\n",
    "\n",
    "π = np.pi\n",
    "G = 4.4959e-15            #in units of M☉^-1 pc^3 yr^-2\n",
    "c = 0.3068                #in units of pc yr^-1\n",
    "ρ_eq = 3.1812e3           #in units of M☉ pc^-3 with ρ_eq=2.15368e-16 kg m^-3\n",
    "pc = 3.0857e16            # in meters\n",
    "yr = 3.154e7              # in units of seconds\n",
    "t_eq = 1.59246e12/yr      # in units of seconds\n",
    "t_m = 13.78e9             #in units of yrs corresponding to t_0=13.78Gyr\n",
    "t_0 = 13.78e9             #in units of yrs corresponding to t_0=13.78Gyr\n",
    "\n",
    "σ_eq = 0.005\n",
    "ρ_m = 4e19                #ρ_m = 4e19 M☉ Gpc^-3\n",
    "\n",
    "year_to_pc = 0.3064\n",
    "\n",
    "\n",
    "    \n",
    "\n",
    "            \n",
    "\n",
    "m_2 = np.geomspace(1e-5, 30, 20)    \n",
    "\n",
    "m_2_list = m_2.tolist()\n",
    "\n",
    "\n",
    "\n",
    "m_1 = 30 #in units of solar mass.\n",
    "\n",
    "print(\"m_2 =\", m_2_list, \"M☉\")\n",
    "\n",
    "a_i = 0.01  # in units pf parsec\n",
    "\n",
    "t_initial_merger_time = t_m\n",
    "\n",
    "\n",
    "\n"
   ]
  },
  {
   "cell_type": "code",
   "execution_count": 2,
   "id": "7abb7dac-f9fc-4c75-a9f0-ee33f09cf8f6",
   "metadata": {},
   "outputs": [
    {
     "data": {
      "image/png": "[encoded data removed]",
      "text/plain": [
       "<Figure size 576x288 with 1 Axes>"
      ]
     },
     "metadata": {
      "needs_background": "light"
     },
     "output_type": "display_data"
    }
   ],
   "source": [
    "plt.rcParams['font.family'] = 'serif'\n",
    "plt.rcParams['xtick.direction'] = 'in'\n",
    "plt.rcParams['ytick.direction'] = 'in'\n",
    "\n",
    "\n",
    "def final_merger_time_nohalos(m_2):  # assuming a_i = a_f and hence j_i = j_f .\n",
    "    a_f = a_i\n",
    "    return (np.sqrt(a_f/a_i)) *t_initial_merger_time\n",
    "\n",
    "\n",
    "\n",
    "final_merger_time_nohalos_list = np.zeros(len(m_2_list))\n",
    "\n",
    "for i, m_2 in enumerate(m_2_list):\n",
    "    final_merger_time_nohalos_list[i] = final_merger_time_nohalos(m_2)\n",
    "    \n",
    "    \n",
    "plt.figure(figsize=(8,4))\n",
    "\n",
    "plt.loglog(m_2_list, final_merger_time_nohalos_list, 'C1', linestyle = '--')\n",
    "\n",
    "\n",
    "\n",
    "plt.xlabel('$m_{2}\\:[M_{\\odot}]$', fontsize = 13)\n",
    "plt.ylabel('Final Merger time $\\: [yr]$', fontsize = 13)\n",
    "plt.title('Binaries without halos: $m_{1} = 30 \\, \\mathrm{M_{\\odot}} \\,,\\, a_{i} = 0.01 \\mathrm{pc}$', fontsize = 13.5)\n",
    "plt.show()     "
   ]
  },
  {
   "cell_type": "code",
   "execution_count": 3,
   "id": "baf09962-d8be-41c7-97e3-2997a736bef4",
   "metadata": {},
   "outputs": [
    {
     "data": {
      "image/png": "[encoded data removed]",
      "text/plain": [
       "<Figure size 576x288 with 1 Axes>"
      ]
     },
     "metadata": {
      "needs_background": "light"
     },
     "output_type": "display_data"
    }
   ],
   "source": [
    "\n",
    "def final_merger_time_withhalos(m_2):  # j_f = sqrt(a_i/a_f) * j_i\n",
    "    \n",
    "    \n",
    "    def x(m_1, m_2):  # Let a_i = (0.0977 * λ *x)\n",
    "        return  (((3 * (m_1 + m_2 ) * a_i)/(8 * π * ρ_eq))**(1/4)) * ((0.0977)**(-1/4))\n",
    "    \n",
    "    def λ(m_1, m_2):\n",
    "        return (a_i / (0.0977 * x(m_1, m_2)))\n",
    "    \n",
    "    \n",
    "    def s(m_1, m_2): # S_dec of the binary decouple.\n",
    "        return ((0.03095*λ(m_1, m_2)+ 0.3425)*λ(m_1, m_2))\n",
    "    \n",
    "    \n",
    "    def t_dec(m_1, m_2):    # t_dec of the binary decouple.\n",
    "        return ((np.sqrt(3/(8*π*G*ρ_eq)))*(((2/3)*(s(m_1, m_2)-2)*np.sqrt(s(m_1, m_2)+1))+(4/3)))\n",
    "  \n",
    "    \n",
    "    def ρ_bar(m):\n",
    "        return ((ρ_eq/2)*(t_eq**(3/2))*((2*G*m)**(3/4))) \n",
    "    \n",
    "    \n",
    "    \n",
    "    def M_1halo(m_1, m_2):\n",
    "        return (((16*π)/3)*ρ_bar(m_1)*((2*G*m_1*(t_dec(m_1, m_2)**2))**(1/4)))\n",
    "    \n",
    "    \n",
    "    def M_2halo(m_1, m_2):\n",
    "        return (((16*π)/3)*ρ_bar(m_2)*((2*G*m_2*(t_dec(m_1, m_2)**2))**(1/4)))\n",
    "    \n",
    "\n",
    "    def M_binary_initial(m_1, m_2):\n",
    "        return (m_1 + m_2 + M_1halo(m_1, m_2) + M_2halo(m_1, m_2))\n",
    "      \n",
    "    def M_1(m_1, m_2):\n",
    "        return (m_1 + M_1halo(m_1, m_2))\n",
    "    \n",
    "    def M_2(m_1, m_2):\n",
    "        return (m_2 + M_2halo(m_1, m_2))\n",
    "    \n",
    "    def M_binary_final(m_1, m_2):\n",
    "        return (m_1 + m_2 )\n",
    "      \n",
    "    \n",
    "    #Schwarzchild Radius of the PBH.\n",
    "    def r_s(m): \n",
    "        return ((2*G*m)/(c**2)) \n",
    "\n",
    "\n",
    "    #r_turnaround of the dark matter halos, eq.(5) in \"WIMPs and stellar-mass primordial black holes are incompatible\"\n",
    "    def r_ta(m): \n",
    "        return ((2*G*m*(t_dec(m_1, m_2)**2))**(1/3))\n",
    "\n",
    "\n",
    "    # The binding energy, E_b of the dark matter halos calculated within r_s and r_ta for dark matter halo's density profile of ρ(r)∝ r^{-9/4}\n",
    "    def E_b(m): \n",
    "        return ((16*π*G*ρ_bar(m)*m*(((r_ta(m))**(-1/4))-((r_s(m))**(-1/4))))-((128/3)*G*(π**2)*(ρ_bar(m)**2)*(((r_ta(m))**(1/2))-((r_s(m))**(1/2)))))\n",
    "    \n",
    "    \n",
    "    def a_final(m_1,m_2):\n",
    "        return ((G* m_1 * m_2 * a_i)/((G * M_1(m_1, m_2) * M_2(m_1, m_2))-(2 * a_i *(E_b(m_1)+E_b(m_2)))))\n",
    "\n",
    "    \n",
    "    \n",
    "    \n",
    "    return   (np.sqrt(a_final(m_1, m_2)/a_i)) * t_initial_merger_time\n",
    "\n",
    "\n",
    "\n",
    "plt.rcParams['font.family'] = 'serif'\n",
    "plt.rcParams['xtick.direction'] = 'in'\n",
    "plt.rcParams['ytick.direction'] = 'in'\n",
    "\n",
    "\n",
    "final_merger_time_withhalos_list = np.zeros(len(m_2_list))\n",
    "\n",
    "for i, m_2 in enumerate(m_2_list):\n",
    "    final_merger_time_withhalos_list[i] = final_merger_time_withhalos(m_2)\n",
    "\n",
    "    \n",
    "    \n",
    "plt.figure(figsize=(8, 4))\n",
    "plt.loglog(m_2_list, final_merger_time_withhalos_list, 'C4')\n",
    "\n",
    "\n",
    "\n",
    "plt.xlabel('$m_{2}\\:[M_{\\odot}]$', fontsize = 13)\n",
    "plt.ylabel('Final Merger time $\\: [yr]$', fontsize = 13)\n",
    "plt.title('Binaries with halos, $m_{1} = 30 \\, \\mathrm{M_{\\odot}} \\, , \\, a_{i} = 0.01 \\mathrm{pc}$', fontsize = 15)\n",
    "plt.show()     "
   ]
  },
  {
   "cell_type": "code",
   "execution_count": 4,
   "id": "666c9584-b278-4ede-b077-40d64e421fd1",
   "metadata": {},
   "outputs": [
    {
     "name": "stdout",
     "output_type": "stream",
     "text": [
      "e0 = [0.99999986 0.99999982 0.99999978 0.99999972 0.99999966 0.99999957\n",
      " 0.99999946 0.99999932 0.99999916 0.99999894 0.99999868 0.99999834\n",
      " 0.99999793 0.9999974  0.99999674 0.99999589 0.99999479 0.99999329\n",
      " 0.99999114 0.99998786]\n"
     ]
    }
   ],
   "source": [
    "# Setting initial and final conditions of the binary evolution for an eccentric orbi\n",
    "\n",
    "\n",
    "\n",
    "e0_list = np.zeros(len(m_2_list))\n",
    "    \n",
    "    \n",
    "for i , m_2 in enumerate(m_2_list):\n",
    "    def M_binary_initial(m_1, m_2):\n",
    "        return (m_1 + m_2 )\n",
    "    def j_initial(m_1, m_2):\n",
    "        return  (((85/3) * (G**3) * m_1 * m_2 * M_binary_initial(m_1, m_2) * t_m)/((a_i**4)*(c**5)))**(1/7)\n",
    "    j_i = j_initial(m_1, m_2)\n",
    "    e0_list[i] = np.sqrt(1 - (j_i**2))\n",
    "print(\"e0 =\", e0_list)\n",
    "\n"
   ]
  },
  {
   "cell_type": "code",
   "execution_count": 10,
   "id": "c65b95c7-fd14-427f-a820-3e24fb45f74b",
   "metadata": {},
   "outputs": [
    {
     "name": "stderr",
     "output_type": "stream",
     "text": [
      "/home/pratibhajangra/Desktop/Work/imripy-main/src/imripy/inspiral.py:534: IntegrationWarning: The integral is probably divergent, or slowly convergent.\n",
      "  t_coal = t_coal * 48./19. / g(e_0)**4 * quad(lambda e: g(e)**4 *(1-e**2)**(5./2.) /e/(1. + 121./304. * e**2), 0., e_0, limit=100)[0]   # The inspiral time according to Maggiore (2007)\n",
      "/home/pratibhajangra/Desktop/Work/imripy-main/src/imripy/inspiral.py:153: RuntimeWarning: invalid value encountered in double_scalars\n",
      "  return -32./5. * sp.m_reduced(a)**2 * sp.m_total(a)**3 / a**5  / (1. - e**2)**(7./2.) * (1. + 73./24. * e**2 + 37./96. * e**4)\n",
      "/home/pratibhajangra/Desktop/Work/imripy-main/src/imripy/inspiral.py:337: RuntimeWarning: invalid value encountered in double_scalars\n",
      "  return -(1.-e**2)**(3./2.)/2./np.pi * quad(integrand, 0., 2.*np.pi, limit = 100)[0]\n",
      "/home/pratibhajangra/Desktop/Work/imripy-main/src/imripy/inspiral.py:335: RuntimeWarning: invalid value encountered in sqrt\n",
      "  v_s = np.sqrt(sp.m_total(a) *(2./r - 1./a))\n",
      "/home/pratibhajangra/Desktop/Work/imripy-main/src/imripy/halo.py:321: RuntimeWarning: invalid value encountered in double_scalars\n",
      "  return np.where(r > self.r_min, self.rho_spike * (self.r_spike/r)**self.alpha, 0.)\n",
      "/home/pratibhajangra/Desktop/Work/imripy-main/src/imripy/inspiral.py:337: IntegrationWarning: The occurrence of roundoff error is detected, which prevents \n",
      "  the requested tolerance from being achieved.  The error may be \n",
      "  underestimated.\n",
      "  return -(1.-e**2)**(3./2.)/2./np.pi * quad(integrand, 0., 2.*np.pi, limit = 100)[0]\n",
      "/home/pratibhajangra/Desktop/Work/imripy-main/src/imripy/inspiral.py:361: RuntimeWarning: invalid value encountered in double_scalars\n",
      "  return -(1.-e**2)**(3./2.)/2./np.pi *np.sqrt(sp.m_total(a) * a*(1.-e**2)) *  quad(integrand, 0., 2.*np.pi, limit = 100)[0]\n",
      "/home/pratibhajangra/Desktop/Work/imripy-main/src/imripy/inspiral.py:361: RuntimeWarning: invalid value encountered in sqrt\n",
      "  return -(1.-e**2)**(3./2.)/2./np.pi *np.sqrt(sp.m_total(a) * a*(1.-e**2)) *  quad(integrand, 0., 2.*np.pi, limit = 100)[0]\n",
      "/home/pratibhajangra/Desktop/Work/imripy-main/src/imripy/inspiral.py:359: RuntimeWarning: invalid value encountered in sqrt\n",
      "  v_s = np.sqrt(sp.m_total(a) *(2./r - 1./a))\n",
      "/home/pratibhajangra/Desktop/Work/imripy-main/src/imripy/inspiral.py:361: IntegrationWarning: The occurrence of roundoff error is detected, which prevents \n",
      "  the requested tolerance from being achieved.  The error may be \n",
      "  underestimated.\n",
      "  return -(1.-e**2)**(3./2.)/2./np.pi *np.sqrt(sp.m_total(a) * a*(1.-e**2)) *  quad(integrand, 0., 2.*np.pi, limit = 100)[0]\n",
      "/home/pratibhajangra/Desktop/Work/imripy-main/src/imripy/inspiral.py:133: RuntimeWarning: invalid value encountered in sqrt\n",
      "  return np.sqrt(a * (1-e**2) * sp.m_total(a) * sp.m_reduced(a)**2 )\n"
     ]
    },
    {
     "name": "stdout",
     "output_type": "stream",
     "text": [
      "Evolving from  1157407407.4074075  to  1.0 r_isco  with initial eccentricity 0.9999998595470696  with  Options: accretion = False, haloPhaseSpaceDescription = False, accuracy = 1.0e-08\n",
      "A termination event occurred.\n",
      " -> Evolution took 4.1600s\n",
      "Evolving from  1157407407.4074075  to  1.0 r_isco  with initial eccentricity 0.9999998242354925  with  Options: accretion = False, haloPhaseSpaceDescription = False, accuracy = 1.0e-08\n",
      "A termination event occurred.\n",
      " -> Evolution took 4.0550s\n",
      "Evolving from  1157407407.4074075  to  1.0 r_isco  with initial eccentricity 0.9999997800461243  with  Options: accretion = False, haloPhaseSpaceDescription = False, accuracy = 1.0e-08\n"
     ]
    },
    {
     "name": "stderr",
     "output_type": "stream",
     "text": [
      "/home/pratibhajangra/Desktop/Work/imripy-main/src/imripy/inspiral.py:172: RuntimeWarning: invalid value encountered in double_scalars\n",
      "  return -32./5. * sp.m_reduced(a)**2 * sp.m_total(a)**(5./2.) / a**(7./2.)  / (1. - e**2)**2 * (1. + 7./8.*e**2)\n"
     ]
    },
    {
     "name": "stdout",
     "output_type": "stream",
     "text": [
      "A termination event occurred.\n",
      " -> Evolution took 3.0209s\n",
      "Evolving from  1157407407.4074075  to  1.0 r_isco  with initial eccentricity 0.9999997247469199  with  Options: accretion = False, haloPhaseSpaceDescription = False, accuracy = 1.0e-08\n",
      "A termination event occurred.\n",
      " -> Evolution took 2.4453s\n",
      "Evolving from  1157407407.4074075  to  1.0 r_isco  with initial eccentricity 0.999999655544565  with  Options: accretion = False, haloPhaseSpaceDescription = False, accuracy = 1.0e-08\n",
      "A termination event occurred.\n",
      " -> Evolution took 2.4901s\n",
      "Evolving from  1157407407.4074075  to  1.0 r_isco  with initial eccentricity 0.9999995689431814  with  Options: accretion = False, haloPhaseSpaceDescription = False, accuracy = 1.0e-08\n",
      "A termination event occurred.\n",
      " -> Evolution took 2.4167s\n",
      "Evolving from  1157407407.4074075  to  1.0 r_isco  with initial eccentricity 0.9999994605671879  with  Options: accretion = False, haloPhaseSpaceDescription = False, accuracy = 1.0e-08\n",
      "A termination event occurred.\n",
      " -> Evolution took 2.4336s\n",
      "Evolving from  1157407407.4074075  to  1.0 r_isco  with initial eccentricity 0.9999993249387433  with  Options: accretion = False, haloPhaseSpaceDescription = False, accuracy = 1.0e-08\n",
      "A termination event occurred.\n",
      " -> Evolution took 2.4828s\n",
      "Evolving from  1157407407.4074075  to  1.0 r_isco  with initial eccentricity 0.999999155196817  with  Options: accretion = False, haloPhaseSpaceDescription = False, accuracy = 1.0e-08\n",
      "A termination event occurred.\n",
      " -> Evolution took 2.4411s\n",
      "Evolving from  1157407407.4074075  to  1.0 r_isco  with initial eccentricity 0.9999989427389958  with  Options: accretion = False, haloPhaseSpaceDescription = False, accuracy = 1.0e-08\n",
      "A termination event occurred.\n",
      " -> Evolution took 2.4550s\n",
      "Evolving from  1157407407.4074075  to  1.0 r_isco  with initial eccentricity 0.9999986767550522  with  Options: accretion = False, haloPhaseSpaceDescription = False, accuracy = 1.0e-08\n",
      "A termination event occurred.\n",
      " -> Evolution took 2.4389s\n",
      "Evolving from  1157407407.4074075  to  1.0 r_isco  with initial eccentricity 0.9999983435934621  with  Options: accretion = False, haloPhaseSpaceDescription = False, accuracy = 1.0e-08\n",
      "A termination event occurred.\n",
      " -> Evolution took 2.4274s\n",
      "Evolving from  1157407407.4074075  to  1.0 r_isco  with initial eccentricity 0.9999979258326938  with  Options: accretion = False, haloPhaseSpaceDescription = False, accuracy = 1.0e-08\n",
      "A termination event occurred.\n",
      " -> Evolution took 2.5076s\n",
      "Evolving from  1157407407.4074075  to  1.0 r_isco  with initial eccentricity 0.9999974007496654  with  Options: accretion = False, haloPhaseSpaceDescription = False, accuracy = 1.0e-08\n",
      "A termination event occurred.\n",
      " -> Evolution took 2.5387s\n",
      "Evolving from  1157407407.4074075  to  1.0 r_isco  with initial eccentricity 0.9999967374115881  with  Options: accretion = False, haloPhaseSpaceDescription = False, accuracy = 1.0e-08\n",
      "A termination event occurred.\n",
      " -> Evolution took 2.5053s\n",
      "Evolving from  1157407407.4074075  to  1.0 r_isco  with initial eccentricity 0.9999958904421538  with  Options: accretion = False, haloPhaseSpaceDescription = False, accuracy = 1.0e-08\n",
      "A termination event occurred.\n",
      " -> Evolution took 2.5919s\n",
      "Evolving from  1157407407.4074075  to  1.0 r_isco  with initial eccentricity 0.9999947858012967  with  Options: accretion = False, haloPhaseSpaceDescription = False, accuracy = 1.0e-08\n"
     ]
    },
    {
     "name": "stderr",
     "output_type": "stream",
     "text": [
      "/home/pratibhajangra/Desktop/Work/imripy-main/src/imripy/inspiral.py:361: IntegrationWarning: The integral is probably divergent, or slowly convergent.\n",
      "  return -(1.-e**2)**(3./2.)/2./np.pi *np.sqrt(sp.m_total(a) * a*(1.-e**2)) *  quad(integrand, 0., 2.*np.pi, limit = 100)[0]\n"
     ]
    },
    {
     "name": "stdout",
     "output_type": "stream",
     "text": [
      "A termination event occurred.\n",
      " -> Evolution took 6.9696s\n",
      "Evolving from  1157407407.4074075  to  1.0 r_isco  with initial eccentricity 0.9999932889274551  with  Options: accretion = False, haloPhaseSpaceDescription = False, accuracy = 1.0e-08\n",
      "A termination event occurred.\n",
      " -> Evolution took 145.9573s\n",
      "Evolving from  1157407407.4074075  to  1.0 r_isco  with initial eccentricity 0.999991141341892  with  Options: accretion = False, haloPhaseSpaceDescription = False, accuracy = 1.0e-08\n",
      "The solver successfully reached the end of the integration interval.\n",
      " -> Evolution took 0.2122s\n",
      "Evolving from  1157407407.4074075  to  1.0 r_isco  with initial eccentricity 0.9999878619754459  with  Options: accretion = False, haloPhaseSpaceDescription = False, accuracy = 1.0e-08\n",
      "The solver successfully reached the end of the integration interval.\n",
      " -> Evolution took 0.0132s\n"
     ]
    },
    {
     "data": {
      "image/png": "[encoded data removed]",
      "text/plain": [
       "<Figure size 504x288 with 1 Axes>"
      ]
     },
     "metadata": {
      "needs_background": "light"
     },
     "output_type": "display_data"
    }
   ],
   "source": [
    "# Setting initial and final conditions of the binary evolution for an eccentric orbi\n",
    "\n",
    "\n",
    "\n",
    "\n",
    "plt.figure(figsize = (7, 4))\n",
    "plt.rc('lines', linewidth=1)\n",
    "plt.rcParams['xtick.direction'] = 'in'\n",
    "plt.rcParams['ytick.direction'] = 'in'\n",
    "plt.tick_params(which='both', right=True, top=True)\n",
    "\n",
    "\n",
    "\n",
    "\n",
    "\n",
    "\n",
    "tm_list = np.zeros(len(m_2_list))\n",
    "\n",
    "for i, m_2 in enumerate(m_2_list):\n",
    "    \n",
    "    \n",
    "    m_bar = m_1\n",
    "    M_1 =  m_1 * ms.solar_mass_to_pc  \n",
    "    M_2 =  m_2 * ms.solar_mass_to_pc \n",
    "    \n",
    "    D_luminosity = 5e8              \n",
    "    ρ_bar = (ρ_eq/2) * (t_eq**(3/2)) * ((2 * G * m_bar)**(3/4))   \n",
    "    r_spike = 1  # in parsecs, Choosen by choice\n",
    "    alpha = 9/4\n",
    "    rho_spike =  ρ_bar * (r_spike**(-alpha)) * ms.solar_mass_to_pc  \n",
    "    spike = imripy.halo.Spike(rho_spike, r_spike, alpha)\n",
    "    \n",
    "    sp = ms.SystemProp(M_1, M_2, spike, D_luminosity)\n",
    "    a_fin = sp.r_isco()      # Choosen equal to r_icso\n",
    "    R_fin = sp.r_isco()      # The final condition for the evolution\n",
    "    \n",
    "    \n",
    "    def M_binary_initial(m_1, m_2):\n",
    "        return (m_1 + m_2 )\n",
    "      \n",
    "    def j_initial(m_1, m_2):\n",
    "        return  (((85/3) * (G**3) * m_1 * m_2 * M_binary_initial(m_1, m_2) * t_m)/((a_i**4)*(c**5)))**(1/7)\n",
    "    j_i = j_initial(m_1, m_2)\n",
    "    e0  = np.sqrt(1 - (j_i **2))\n",
    "    \n",
    "    \n",
    "    T =  1e-5 * (t_m * year_to_pc)  * (m_2**(-1)) \n",
    "    ev_ecc = imripy.inspiral.Classic.Evolve(sp, a_i, e0,  a_fin = R_fin, t_fin = T)\n",
    "    tm_list[i] = ev_ecc.t[-1]/ms.year_to_pc\n",
    "    \n",
    "    \n",
    "plt.loglog(m_2_list, tm_list, '--o')\n",
    "    \n",
    "\n",
    "\n",
    "    \n",
    "\n",
    "plt.xlabel('$m_{2}\\:[M_{\\odot}]$', fontsize = 13)\n",
    "plt.ylabel('Final Merger time $\\: [yr]$', fontsize = 13)\n",
    "plt.title('Binaries of IMRIPY type, $m_{1} = 30 \\, \\mathrm{M_{\\odot}} \\, , \\, a_{i} = 0.01 \\mathrm{pc}$', fontsize = 15)\n",
    "plt.savefig('t_mimripy.pdf', bbox_inches = 'tight')\n",
    "plt.show()     "
   ]
  },
  {
   "cell_type": "code",
   "execution_count": 11,
   "id": "34cef077-06d9-40b9-935a-512245fb5fe6",
   "metadata": {},
   "outputs": [
    {
     "data": {
      "image/png": "[encoded data removed]",
      "text/plain": [
       "<Figure size 504x324 with 1 Axes>"
      ]
     },
     "metadata": {
      "needs_background": "light"
     },
     "output_type": "display_data"
    }
   ],
   "source": [
    "plt.rcParams['font.family'] = 'serif'\n",
    "plt.rcParams['xtick.direction'] = 'in'\n",
    "plt.rcParams['ytick.direction'] = 'in'\n",
    "plt.figure(figsize=(7,4.5))\n",
    "\n",
    "\n",
    "plt.loglog(m_2_list, final_merger_time_nohalos_list, 'C1--')\n",
    "plt.loglog(m_2_list, tm_list, 'k:')\n",
    "plt.loglog(m_2_list, final_merger_time_withhalos_list, 'C4')\n",
    "\n",
    "\n",
    "\n",
    "plt.legend([\"Binaries without halos\",  \"IMRIPY systems\", \"Binaries with halos\"], loc = 'center right')\n",
    "plt.xlabel('$m_{2}\\:[M_{\\odot}]$', fontsize = 15)\n",
    "plt.ylabel('Merger time $\\: [yr]$', fontsize = 15)\n",
    "plt.title('$m_{1} = 30 \\, \\mathrm{M_{\\odot}} \\: , \\,  a_{i} = 0.01 \\mathrm{pc}$', fontsize = 17)\n",
    "plt.savefig('mergertime.pdf', bbox_inches = 'tight')\n",
    "plt.show()  "
   ]
  },
  {
   "cell_type": "code",
   "execution_count": null,
   "id": "ea13c824-4080-451e-806a-42aa5b0c3334",
   "metadata": {},
   "outputs": [],
   "source": []
  },
  {
   "cell_type": "code",
   "execution_count": 8,
   "id": "23337c82-c2fc-4722-9a70-0d84ec5a0ea1",
   "metadata": {},
   "outputs": [
    {
     "data": {
      "text/plain": [
       "-0.4769661528798899"
      ]
     },
     "execution_count": 8,
     "metadata": {},
     "output_type": "execute_result"
    }
   ],
   "source": [
    "np.log(3e5/1e4)/np.log(4e-3/5)"
   ]
  },
  {
   "cell_type": "code",
   "execution_count": 17,
   "id": "ac759463-f9bb-4461-bbd1-bd7d020f05fe",
   "metadata": {},
   "outputs": [
    {
     "data": {
      "text/plain": [
       "0.03333333333333333"
      ]
     },
     "execution_count": 17,
     "metadata": {},
     "output_type": "execute_result"
    }
   ],
   "source": [
    "1/30"
   ]
  },
  {
   "cell_type": "code",
   "execution_count": null,
   "id": "370729a0-b7cf-40bb-9cfb-5ff497efa144",
   "metadata": {},
   "outputs": [],
   "source": []
  }
 ],
 "metadata": {
  "kernelspec": {
   "display_name": "Python 3 (ipykernel)",
   "language": "python",
   "name": "python3"
  },
  "language_info": {
   "codemirror_mode": {
    "name": "ipython",
    "version": 3
   },
   "file_extension": ".py",
   "mimetype": "text/x-python",
   "name": "python",
   "nbconvert_exporter": "python",
   "pygments_lexer": "ipython3",
   "version": "3.9.12"
  }
 },
 "nbformat": 4,
 "nbformat_minor": 5
}
