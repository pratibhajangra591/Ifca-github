{
 "cells": [
  {
   "cell_type": "code",
   "execution_count": 2,
   "metadata": {},
   "outputs": [
    {
     "name": "stdout",
     "output_type": "stream",
     "text": [
      "m_1= [6, 8, 11, 15, 19, 26, 34, 45, 60, 80]\n",
      "Δ_1 [ 1.73205081  2.30940108  3.07920144  4.10560191  5.47413589  7.29884785\n",
      "  9.73179713 12.97572951 17.30097268 23.06796357]\n"
     ]
    }
   ],
   "source": [
    "import numpy as np\n",
    "import math\n",
    "from scipy.integrate import odeint\n",
    "from scipy.integrate import quad\n",
    "import matplotlib.pyplot as plt\n",
    "from module import * \n",
    "\n",
    "π=np.pi\n",
    "G=4.4959e-15           #in units of M☉^-1 pc^3 yr^-2\n",
    "c=0.3068               #in units of pc yr^-1\n",
    "yr=3.154e7             # in units of seconds\n",
    "pc=3.0857e16           # in meters\n",
    "\n",
    "            \n",
    "ρ_eq=3.1812e3           #in units of M☉ pc^-3 with ρ_eq=2.15368e-16 kg m^-3\n",
    "t_eq = 1.59246e12/yr      # in units of seconds\n",
    "t   = 13.78e9               #in units of yrs corresponding to t_0=13.78Gyr\n",
    "t_m = 13.78e9             #in units of yrs corresponding to t_0=13.78Gyr\n",
    "\n",
    "\n",
    "σ_eq=0.005\n",
    "ρ_m=4e19             #ρ_m=4e19 M☉ Gpc^-3\n",
    "\n",
    "\n",
    "m_1=6   #in units of M☉\n",
    "m_2=8   #in units of M☉\n",
    "\n",
    "y_1=math.log(m_1)\n",
    "y_2=math.log(m_2)\n",
    "dy=(y_2-y_1)\n",
    "\n",
    "\n",
    "y_list=np.zeros(10)\n",
    "\n",
    "for i in range(len(y_list)):\n",
    "    y_list[i]= (y_1+(i*dy))\n",
    "    \n",
    "\n",
    "M_1_list=np.zeros(len(y_list))\n",
    "M_2_list=np.zeros(len(y_list))\n",
    "\n",
    "for i, y in enumerate(y_list):\n",
    "    M_1_list[i]=(math.ceil(math.exp(y)))\n",
    "    M_2_list[i]=(math.ceil(math.exp(y)))\n",
    "    \n",
    "\n",
    "            \n",
    "m_1_list=[int(M_1) for M_1 in M_1_list]\n",
    "m_2_list=[int(M_2) for M_2 in M_2_list]\n",
    "\n",
    "    \n",
    "Δ_1_list=np.zeros(len(y_list))\n",
    "Δ_2_list=np.zeros(len(y_list))\n",
    "\n",
    "for i, y in enumerate(y_list):\n",
    "    Δ_1_list[i] = math.exp(y + 0.5*dy)-math.exp(y - 0.5*dy)\n",
    "    Δ_2_list[i] = math.exp(y + 0.5*dy)-math.exp(y - 0.5*dy) \n",
    "\n",
    "print(\"m_1=\",m_1_list)\n",
    "print(\"Δ_1\", Δ_1_list)"
   ]
  },
  {
   "cell_type": "code",
   "execution_count": 12,
   "metadata": {},
   "outputs": [
    {
     "name": "stdout",
     "output_type": "stream",
     "text": [
      "4.0\n",
      "0.09176441304199694\n"
     ]
    }
   ],
   "source": [
    "m_1=m_1_list[1]\n",
    "m_2= m_2_list[1]\n",
    "Δ_1= Δ_1_list[1]\n",
    "Δ_2= Δ_2_list[1]\n",
    "\n",
    "λ_min = λ_list[-1]\n",
    "    \n",
    "print( λ_min )\n",
    "\n",
    "f_pbh = 3.7e-3\n",
    "f = 0.85*f_pbh \n",
    "        \n",
    "def P(m):               #Log-Normal PBH mass Distribution\n",
    "    σ=0.6\n",
    "    m_c=15               #in units of M☉\n",
    "    return  np.exp(-((np.log(m/m_c))**2)/(2*(σ**2)))/(σ*m*np.sqrt(2*π))\n",
    "\n",
    "\n",
    "\n",
    "\n",
    "\n",
    "def Y_min(m_1, m_2, Δ_1, Δ_2):\n",
    "    \n",
    "   \n",
    "    k=19.4965 \n",
    "\n",
    "    A=((ρ_eq**(4/3))*(G**3)*(k**7))/(c**5)\n",
    "\n",
    "    \n",
    "    def f_(m):\n",
    "        return f*P(m)\n",
    "    \n",
    "    def f_b(m_1,m_2):\n",
    "        return  f_(m_1)+f_(m_2)\n",
    "    \n",
    "    def X_min(m_1, m_2, Δ_1, Δ_2):\n",
    "        return λ_min  * f_b(m_1,m_2) * np.sqrt(Δ_1*Δ_2)\n",
    "    \n",
    "    def B(m_1,m_2,Δ_1,Δ_2):\n",
    "        return (A**(1/7)) * ((m_1 * m_2 * t* ((m_1+m_2)**(-1/3)))**(1/7))* ((f**2 + 1.2009*(σ_eq**2))**(-1/2)) * ((f_b(m_1,m_2))**(37/21)) * ((Δ_1*Δ_2)**(37/42))\n",
    "    \n",
    "\n",
    "    return B(m_1,m_2,Δ_1,Δ_2) * ((X_min(m_1,m_2,Δ_1,Δ_2))**(-37/21))\n",
    "\n",
    "\n",
    "\n",
    "print(Y_min(m_1, m_2, Δ_1, Δ_2))\n",
    "\n",
    "    \n",
    "#Integrand for binaries without halos.\n",
    "def integrand(Y):\n",
    "    k=19.4965 \n",
    "\n",
    "    A=((ρ_eq**(4/3))*(G**3)*(k**7))/(c**5)\n",
    "\n",
    "    def f_(m):\n",
    "        return f*P(m)\n",
    "    \n",
    "    def f_b(m_1,m_2):\n",
    "        return  f_(m_1)+f_(m_2)\n",
    "    \n",
    "    def μ(m_1,m_2,Δ_1,Δ_2):\n",
    "        return   (2 * m_1 * m_2 * f_b(m_1,m_2)*np.sqrt(Δ_1*Δ_2))/((m_1+m_2) * ((f_(m_2)*Δ_2 * m_1) + (f_(m_1)*Δ_1 * m_2)))\n",
    "\n",
    "    \n",
    "    def B(m_1,m_2,Δ_1,Δ_2):\n",
    "        return (A**(1/7)) * ((m_1 * m_2 * t* ((m_1+m_2)**(-1/3)))**(1/7))* ((f**2 + 1.2009*(σ_eq**2))**(-1/2)) * ((f_b(m_1,m_2))**(37/21)) * ((Δ_1*Δ_2)**(37/42))\n",
    "    \n",
    "    def D(m_1,m_2,Δ_1,Δ_2):\n",
    "        return (B(m_1,m_2,Δ_1,Δ_2)**(21/37))/(f_b(m_1,m_2)*np.sqrt(Δ_1*Δ_2))  \n",
    "    \n",
    "    def γ_X(Y,m_1,m_2,Δ_1,Δ_2):      #eq.(12) in the notes.\n",
    "        return ((((1 + 0.1709 * D(m_1,m_2,Δ_1,Δ_2) * (Y**(-21/37)))**(-1/14))/( 1 + 0.0136 * D(m_1,m_2,Δ_1,Δ_2) * (Y**(-21/37))))*Y)\n",
    "\n",
    "    def PDF(m):\n",
    "        return (P(m)/m)\n",
    "\n",
    "    I = quad(PDF, 5, np.inf)  # Taking limits of the PBH mass from 5 M☉ to 100 M☉ instead of \n",
    "                               # 0 to infinity.\n",
    "    \n",
    "    n_T = f*ρ_eq*I[0]         #n_T=f*ρ_eq∫(P(m)/m)*dm \n",
    "   \n",
    "    def x̄(m_1,m_2,Δ_1,Δ_2):\n",
    "        return (((3*(m_1+m_2))/(8*π*ρ_eq*f_b(m_1,m_2)*np.sqrt(Δ_1*Δ_2)))**(1/3))\n",
    "    \n",
    "    \n",
    "    \n",
    "    return (Y**(-58/37)) * np.exp(-((4*π)/3) * (x̄(m_1,m_2,Δ_1,Δ_2)**3) * n_T * ((Y/B(m_1,m_2,Δ_1,Δ_2))**(-21/37))) * ((γ_X(Y,m_1,m_2,Δ_1,Δ_2)**2)/ ((1 + (γ_X(Y,m_1,m_2,Δ_1,Δ_2)**2))**(3/2)))\n",
    "    \n",
    "\n",
    "f2 = np.vectorize(integrand) \n"
   ]
  },
  {
   "cell_type": "code",
   "execution_count": 23,
   "metadata": {},
   "outputs": [
    {
     "data": {
      "image/png": "[encoded data removed]",
      "text/plain": [
       "<Figure size 432x288 with 1 Axes>"
      ]
     },
     "metadata": {
      "needs_background": "light"
     },
     "output_type": "display_data"
    }
   ],
   "source": [
    "Y_1 = np.linspace(Y_min(m_1, m_2, Δ_1, Δ_2), 1e22, len(m_1_list))\n",
    "\n",
    "Y_1_list = Y_1.tolist()\n",
    "\n",
    "\n",
    "integrand1_list=np.zeros(len(Y_1_list))\n",
    "\n",
    "for i, Y in enumerate(Y_1_list):\n",
    "    integrand1_list[i] = f2(Y)\n",
    "    \n",
    "\n",
    "plt.axvline(x = Y_min(m_1,m_2,Δ_1,Δ_2), color='r', linestyle='--')    \n",
    "plt.loglog(Y_1_list,integrand1_list,'g')\n",
    "\n",
    "plt.xlabel('Y')\n",
    "plt.ylabel('Integrand')\n",
    "plt.legend([\"$Y_{min}$\"])\n",
    "plt.title('Log-Normal PDF no halos')\n",
    "plt.show()"
   ]
  },
  {
   "cell_type": "code",
   "execution_count": 24,
   "metadata": {},
   "outputs": [
    {
     "name": "stderr",
     "output_type": "stream",
     "text": [
      "/tmp/ipykernel_3675/672166756.py:88: RuntimeWarning: divide by zero encountered in double_scalars\n",
      "  return (Y**(-58/37)) * np.exp(-((4*π)/3) * (x̄(m_1,m_2,Δ_1,Δ_2)**3) * n_T * ((Y/B(m_1,m_2,Δ_1,Δ_2))**(-21/37))) * ((γ_X(Y,m_1,m_2,Δ_1,Δ_2)**2)/ ((1 + (γ_X(Y,m_1,m_2,Δ_1,Δ_2)**2))**(3/2)))\n",
      "/tmp/ipykernel_3675/672166756.py:88: RuntimeWarning: invalid value encountered in double_scalars\n",
      "  return (Y**(-58/37)) * np.exp(-((4*π)/3) * (x̄(m_1,m_2,Δ_1,Δ_2)**3) * n_T * ((Y/B(m_1,m_2,Δ_1,Δ_2))**(-21/37))) * ((γ_X(Y,m_1,m_2,Δ_1,Δ_2)**2)/ ((1 + (γ_X(Y,m_1,m_2,Δ_1,Δ_2)**2))**(3/2)))\n",
      "/tmp/ipykernel_3675/672166756.py:73: RuntimeWarning: divide by zero encountered in double_scalars\n",
      "  return ((((1 + 0.1709 * D(m_1,m_2,Δ_1,Δ_2) * (Y**(-21/37)))**(-1/14))/( 1 + 0.0136 * D(m_1,m_2,Δ_1,Δ_2) * (Y**(-21/37))))*Y)\n"
     ]
    },
    {
     "ename": "ZeroDivisionError",
     "evalue": "0.0 cannot be raised to a negative power",
     "output_type": "error",
     "traceback": [
      "\u001b[0;31m---------------------------------------------------------------------------\u001b[0m",
      "\u001b[0;31mZeroDivisionError\u001b[0m                         Traceback (most recent call last)",
      "Input \u001b[0;32mIn [24]\u001b[0m, in \u001b[0;36m<cell line: 9>\u001b[0;34m()\u001b[0m\n\u001b[1;32m      6\u001b[0m integrand1_list\u001b[38;5;241m=\u001b[39mnp\u001b[38;5;241m.\u001b[39mzeros(\u001b[38;5;28mlen\u001b[39m(Y_1_list))\n\u001b[1;32m      9\u001b[0m \u001b[38;5;28;01mfor\u001b[39;00m i, Y \u001b[38;5;129;01min\u001b[39;00m \u001b[38;5;28menumerate\u001b[39m(Y_2_list):\n\u001b[0;32m---> 10\u001b[0m     integrand2_list[i] \u001b[38;5;241m=\u001b[39m \u001b[43mf2\u001b[49m\u001b[43m(\u001b[49m\u001b[43mY\u001b[49m\u001b[43m)\u001b[49m\n\u001b[1;32m     13\u001b[0m plt\u001b[38;5;241m.\u001b[39mloglog(Y_2_list, integrand2_list,\u001b[38;5;124m'\u001b[39m\u001b[38;5;124mb--\u001b[39m\u001b[38;5;124m'\u001b[39m)\n\u001b[1;32m     14\u001b[0m plt\u001b[38;5;241m.\u001b[39mxlabel(\u001b[38;5;124m'\u001b[39m\u001b[38;5;124mY\u001b[39m\u001b[38;5;124m'\u001b[39m)\n",
      "File \u001b[0;32m~/miniconda3/envs/PhD/lib/python3.9/site-packages/numpy/lib/function_base.py:2163\u001b[0m, in \u001b[0;36mvectorize.__call__\u001b[0;34m(self, *args, **kwargs)\u001b[0m\n\u001b[1;32m   2160\u001b[0m     vargs \u001b[38;5;241m=\u001b[39m [args[_i] \u001b[38;5;28;01mfor\u001b[39;00m _i \u001b[38;5;129;01min\u001b[39;00m inds]\n\u001b[1;32m   2161\u001b[0m     vargs\u001b[38;5;241m.\u001b[39mextend([kwargs[_n] \u001b[38;5;28;01mfor\u001b[39;00m _n \u001b[38;5;129;01min\u001b[39;00m names])\n\u001b[0;32m-> 2163\u001b[0m \u001b[38;5;28;01mreturn\u001b[39;00m \u001b[38;5;28;43mself\u001b[39;49m\u001b[38;5;241;43m.\u001b[39;49m\u001b[43m_vectorize_call\u001b[49m\u001b[43m(\u001b[49m\u001b[43mfunc\u001b[49m\u001b[38;5;241;43m=\u001b[39;49m\u001b[43mfunc\u001b[49m\u001b[43m,\u001b[49m\u001b[43m \u001b[49m\u001b[43margs\u001b[49m\u001b[38;5;241;43m=\u001b[39;49m\u001b[43mvargs\u001b[49m\u001b[43m)\u001b[49m\n",
      "File \u001b[0;32m~/miniconda3/envs/PhD/lib/python3.9/site-packages/numpy/lib/function_base.py:2246\u001b[0m, in \u001b[0;36mvectorize._vectorize_call\u001b[0;34m(self, func, args)\u001b[0m\n\u001b[1;32m   2243\u001b[0m \u001b[38;5;66;03m# Convert args to object arrays first\u001b[39;00m\n\u001b[1;32m   2244\u001b[0m inputs \u001b[38;5;241m=\u001b[39m [asanyarray(a, dtype\u001b[38;5;241m=\u001b[39m\u001b[38;5;28mobject\u001b[39m) \u001b[38;5;28;01mfor\u001b[39;00m a \u001b[38;5;129;01min\u001b[39;00m args]\n\u001b[0;32m-> 2246\u001b[0m outputs \u001b[38;5;241m=\u001b[39m \u001b[43mufunc\u001b[49m\u001b[43m(\u001b[49m\u001b[38;5;241;43m*\u001b[39;49m\u001b[43minputs\u001b[49m\u001b[43m)\u001b[49m\n\u001b[1;32m   2248\u001b[0m \u001b[38;5;28;01mif\u001b[39;00m ufunc\u001b[38;5;241m.\u001b[39mnout \u001b[38;5;241m==\u001b[39m \u001b[38;5;241m1\u001b[39m:\n\u001b[1;32m   2249\u001b[0m     res \u001b[38;5;241m=\u001b[39m asanyarray(outputs, dtype\u001b[38;5;241m=\u001b[39motypes[\u001b[38;5;241m0\u001b[39m])\n",
      "Input \u001b[0;32mIn [12]\u001b[0m, in \u001b[0;36mintegrand\u001b[0;34m(Y)\u001b[0m\n\u001b[1;32m     83\u001b[0m \u001b[38;5;28;01mdef\u001b[39;00m \u001b[38;5;21mx̄\u001b[39m(m_1,m_2,Δ_1,Δ_2):\n\u001b[1;32m     84\u001b[0m     \u001b[38;5;28;01mreturn\u001b[39;00m (((\u001b[38;5;241m3\u001b[39m\u001b[38;5;241m*\u001b[39m(m_1\u001b[38;5;241m+\u001b[39mm_2))\u001b[38;5;241m/\u001b[39m(\u001b[38;5;241m8\u001b[39m\u001b[38;5;241m*\u001b[39mπ\u001b[38;5;241m*\u001b[39mρ_eq\u001b[38;5;241m*\u001b[39mf_b(m_1,m_2)\u001b[38;5;241m*\u001b[39mnp\u001b[38;5;241m.\u001b[39msqrt(Δ_1\u001b[38;5;241m*\u001b[39mΔ_2)))\u001b[38;5;241m*\u001b[39m\u001b[38;5;241m*\u001b[39m(\u001b[38;5;241m1\u001b[39m\u001b[38;5;241m/\u001b[39m\u001b[38;5;241m3\u001b[39m))\n\u001b[0;32m---> 88\u001b[0m \u001b[38;5;28;01mreturn\u001b[39;00m (\u001b[43mY\u001b[49m\u001b[38;5;241;43m*\u001b[39;49m\u001b[38;5;241;43m*\u001b[39;49m\u001b[43m(\u001b[49m\u001b[38;5;241;43m-\u001b[39;49m\u001b[38;5;241;43m58\u001b[39;49m\u001b[38;5;241;43m/\u001b[39;49m\u001b[38;5;241;43m37\u001b[39;49m\u001b[43m)\u001b[49m) \u001b[38;5;241m*\u001b[39m np\u001b[38;5;241m.\u001b[39mexp(\u001b[38;5;241m-\u001b[39m((\u001b[38;5;241m4\u001b[39m\u001b[38;5;241m*\u001b[39mπ)\u001b[38;5;241m/\u001b[39m\u001b[38;5;241m3\u001b[39m) \u001b[38;5;241m*\u001b[39m (x̄(m_1,m_2,Δ_1,Δ_2)\u001b[38;5;241m*\u001b[39m\u001b[38;5;241m*\u001b[39m\u001b[38;5;241m3\u001b[39m) \u001b[38;5;241m*\u001b[39m n_T \u001b[38;5;241m*\u001b[39m ((Y\u001b[38;5;241m/\u001b[39mB(m_1,m_2,Δ_1,Δ_2))\u001b[38;5;241m*\u001b[39m\u001b[38;5;241m*\u001b[39m(\u001b[38;5;241m-\u001b[39m\u001b[38;5;241m21\u001b[39m\u001b[38;5;241m/\u001b[39m\u001b[38;5;241m37\u001b[39m))) \u001b[38;5;241m*\u001b[39m ((γ_X(Y,m_1,m_2,Δ_1,Δ_2)\u001b[38;5;241m*\u001b[39m\u001b[38;5;241m*\u001b[39m\u001b[38;5;241m2\u001b[39m)\u001b[38;5;241m/\u001b[39m ((\u001b[38;5;241m1\u001b[39m \u001b[38;5;241m+\u001b[39m (γ_X(Y,m_1,m_2,Δ_1,Δ_2)\u001b[38;5;241m*\u001b[39m\u001b[38;5;241m*\u001b[39m\u001b[38;5;241m2\u001b[39m))\u001b[38;5;241m*\u001b[39m\u001b[38;5;241m*\u001b[39m(\u001b[38;5;241m3\u001b[39m\u001b[38;5;241m/\u001b[39m\u001b[38;5;241m2\u001b[39m)))\n",
      "\u001b[0;31mZeroDivisionError\u001b[0m: 0.0 cannot be raised to a negative power"
     ]
    }
   ],
   "source": [
    "\n",
    "Y_2 = np.linspace(0, 1e22, len(m_1_list))\n",
    "\n",
    "Y_2_list = Y_2.tolist()\n",
    "\n",
    "\n",
    "integrand1_list=np.zeros(len(Y_1_list))\n",
    "\n",
    "    \n",
    "for i, Y in enumerate(Y_2_list):\n",
    "    integrand2_list[i] = f2(Y)\n",
    "    \n",
    "    \n",
    "plt.loglog(Y_2_list, integrand2_list,'b--')\n",
    "plt.xlabel('Y')\n",
    "plt.ylabel('Integrand')\n",
    "plt.legend([\"$Y_{min}$\"])\n",
    "plt.title('Log-Normal PDF no halos')\n",
    "plt.show()"
   ]
  },
  {
   "cell_type": "code",
   "execution_count": null,
   "metadata": {},
   "outputs": [],
   "source": []
  },
  {
   "cell_type": "code",
   "execution_count": null,
   "metadata": {},
   "outputs": [],
   "source": []
  },
  {
   "cell_type": "code",
   "execution_count": 44,
   "metadata": {},
   "outputs": [],
   "source": []
  },
  {
   "cell_type": "code",
   "execution_count": null,
   "metadata": {},
   "outputs": [],
   "source": []
  }
 ],
 "metadata": {
  "kernelspec": {
   "display_name": "Python 3 (ipykernel)",
   "language": "python",
   "name": "python3"
  },
  "language_info": {
   "codemirror_mode": {
    "name": "ipython",
    "version": 3
   },
   "file_extension": ".py",
   "mimetype": "text/x-python",
   "name": "python",
   "nbconvert_exporter": "python",
   "pygments_lexer": "ipython3",
   "version": "3.9.12"
  }
 },
 "nbformat": 4,
 "nbformat_minor": 4
}
