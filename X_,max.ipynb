{
 "cells": [
  {
   "cell_type": "code",
   "execution_count": 27,
   "metadata": {},
   "outputs": [],
   "source": [
    "import numpy as np\n",
    "import math\n",
    "from scipy.integrate import odeint\n",
    "from scipy.integrate import quad\n",
    "import matplotlib.pyplot as plt\n",
    "from module import * \n",
    "\n",
    "π=np.pi\n",
    "G=4.4959e-15           #in units of M☉^-1 pc^3 yr^-2\n",
    "c=0.3068               #in units of pc yr^-1\n",
    "yr=3.154e7             # in units of seconds\n",
    "pc=3.0857e16           # in meters\n",
    "\n",
    "            \n",
    "ρ_eq=3.1812e3           #in units of M☉ pc^-3 with ρ_eq=2.15368e-16 kg m^-3\n",
    "t_eq = 1.59246e12/yr      # in units of seconds\n",
    "t   = 13.78e9               #in units of yrs corresponding to t_0=13.78Gyr\n",
    "t_m = 13.78e9             #in units of yrs corresponding to t_0=13.78Gyr\n",
    "\n",
    "\n",
    "σ_eq=0.005\n",
    "ρ_m=4e19             #ρ_m=4e19 M☉ Gpc^-3\n",
    "\n",
    "\n",
    "m_1=6   #in units of M☉\n",
    "m_2=8   #in units of M☉\n",
    "\n",
    "y_1=math.log(m_1)\n",
    "y_2=math.log(m_2)\n",
    "dy=(y_2-y_1)\n",
    "\n",
    "\n",
    "y_list=np.zeros(50)\n",
    "\n",
    "for i in range(len(y_list)):\n",
    "    y_list[i]= (y_1+(i*dy))\n",
    "    \n",
    "\n",
    "M_1_list=np.zeros(len(y_list))\n",
    "M_2_list=np.zeros(len(y_list))\n",
    "\n",
    "for i, y in enumerate(y_list):\n",
    "    M_1_list[i]=(math.ceil(math.exp(y)))\n",
    "    M_2_list[i]=(math.ceil(math.exp(y)))\n",
    "    \n",
    "\n",
    "            \n",
    "m_1_list=[int(M_1) for M_1 in M_1_list]\n",
    "m_2_list=[int(M_2) for M_2 in M_2_list]\n",
    "\n",
    "    \n",
    "Δ_1_list=np.zeros(len(y_list))\n",
    "Δ_2_list=np.zeros(len(y_list))\n",
    "\n",
    "for i, y in enumerate(y_list):\n",
    "    Δ_1_list[i] = math.exp(y + 0.5*dy)-math.exp(y - 0.5*dy)\n",
    "    Δ_2_list[i] = math.exp(y + 0.5*dy)-math.exp(y - 0.5*dy) \n",
    "\n"
   ]
  },
  {
   "cell_type": "code",
   "execution_count": 28,
   "metadata": {},
   "outputs": [
    {
     "data": {
      "image/png": "[encoded data removed]",
      "text/plain": [
       "<Figure size 432x288 with 1 Axes>"
      ]
     },
     "metadata": {
      "needs_background": "light"
     },
     "output_type": "display_data"
    }
   ],
   "source": [
    "λ_max = λ_list[-1]\n",
    "\n",
    "def X_max(m_1,m_2,Δ_1,Δ_2):\n",
    "    \n",
    "    def f_(m):\n",
    "        return f*P(m)\n",
    "    \n",
    "    def f_b(m_1,m_2):\n",
    "        return  f_(m_1)+f_(m_2)\n",
    "    \n",
    "    return λ_max * f_b(m_1,m_2) * np.sqrt(Δ_1*Δ_2)\n",
    "\n",
    "\n",
    "f_pbh = 4.3e-3\n",
    "f = 0.85*f_pbh\n",
    "        \n",
    "          \n",
    "def P(m): #Powerlaw PBH mass distribution\n",
    "    α = 1.6\n",
    "    M = 5     #in units of M☉\n",
    "    return ((α-1)/M) * ((m/M)**(-α))\n",
    "\n",
    "\n",
    "\n",
    "X_max_list = np.zeros(len(m_1_list))\n",
    "\n",
    "\n",
    "for i, (m_1,m_2,Δ_1,Δ_2) in enumerate(zip(m_1_list,m_2_list,Δ_1_list,Δ_2_list)):\n",
    "    X_max_list[i] = X_max(m_1,m_2,Δ_1,Δ_2)\n",
    "    \n",
    "    \n",
    "    \n",
    "plt.loglog(m_1_list,X_max_list,'g')\n",
    "plt.xlabel('$m_{1} \\hspace{0.5} [M_{☉}]$')\n",
    "plt.ylabel('$X_{max}$')\n",
    "plt.title('X_max vs m_1')\n",
    "plt.savefig('X_max vs m_1.pdf')\n",
    "plt.show()"
   ]
  },
  {
   "cell_type": "code",
   "execution_count": 32,
   "metadata": {},
   "outputs": [
    {
     "data": {
      "image/png": "[encoded data removed]",
      "text/plain": [
       "<Figure size 432x288 with 1 Axes>"
      ]
     },
     "metadata": {
      "needs_background": "light"
     },
     "output_type": "display_data"
    },
    {
     "name": "stdout",
     "output_type": "stream",
     "text": [
      "Y_max= 2.357508189888755\n"
     ]
    }
   ],
   "source": [
    "def Y_max(m_1, m_2, Δ_1, Δ_2):\n",
    "    \n",
    "    k=19.4965 \n",
    "\n",
    "    A=((ρ_eq**(4/3))*(G**3)*(k**7))/(c**5)\n",
    "\n",
    "    \n",
    "    def f_(m):\n",
    "        return f*P(m)\n",
    "    \n",
    "    def f_b(m_1,m_2):\n",
    "        return  f_(m_1)+f_(m_2)\n",
    "    \n",
    "    def X_max(m_1, m_2, Δ_1, Δ_2):\n",
    "        return λ_max  * f_b(m_1,m_2) * np.sqrt(Δ_1*Δ_2)\n",
    "    \n",
    "    def B(m_1,m_2,Δ_1,Δ_2):\n",
    "        return (A**(1/7)) * ((m_1 * m_2 * t* ((m_1+m_2)**(-1/3)))**(1/7))* ((f**2 + 1.2009*(σ_eq**2))**(-1/2)) * ((f_b(m_1,m_2))**(37/21)) * ((Δ_1*Δ_2)**(37/42))\n",
    "    \n",
    "\n",
    "    return B(m_1,m_2,Δ_1,Δ_2) * ((X_max(m_1,m_2,Δ_1,Δ_2))**(-37/21))\n",
    "\n",
    "\n",
    "\n",
    "Y_max_list = np.zeros(len(m_1_list))\n",
    "\n",
    "for i, (m_1,m_2,Δ_1, Δ_2) in enumerate (zip(m_1_list, m_2_list, Δ_1_list, Δ_2_list)):\n",
    "    Y_max_list[i] = Y_max(m_1, m_2,Δ_1, Δ_2)\n",
    "    \n",
    "\n",
    "    \n",
    "plt.loglog(m_1_list, Y_max_list, 'r')\n",
    "plt.xlabel('$m_{1}\\hspace{1} [M_{☉}]$')\n",
    "plt.ylabel('$Y_{max}$')\n",
    "plt.title('Y_max vs m_1')\n",
    "plt.savefig('Y_max vs m_1.pdf')\n",
    "plt.show()\n",
    "    \n",
    "    \n",
    "print(\"Y_max=\",Y_max_list[-1])"
   ]
  },
  {
   "cell_type": "code",
   "execution_count": 33,
   "metadata": {},
   "outputs": [],
   "source": [
    "#Integrand for binaries without halos.\n",
    "def integrand(m_1,m_2,Δ_1,Δ_2,Y):\n",
    "    k=19.4965 \n",
    "\n",
    "    A=((ρ_eq**(4/3))*(G**3)*(k**7))/(c**5)\n",
    "\n",
    "    def f_(m):\n",
    "        return f*P(m)\n",
    "    \n",
    "    def f_b(m_1,m_2):\n",
    "        return  f_(m_1)+f_(m_2)\n",
    "    \n",
    "    def μ(m_1,m_2,Δ_1,Δ_2):\n",
    "        return   (2 * m_1 * m_2 * f_b(m_1,m_2)*np.sqrt(Δ_1*Δ_2))/((m_1+m_2) * ((f_(m_2)*Δ_2 * m_1) + (f_(m_1)*Δ_1 * m_2)))\n",
    "\n",
    "    \n",
    "    def B(m_1,m_2,Δ_1,Δ_2):\n",
    "        return (A**(1/7)) * ((m_1 * m_2 * t* ((m_1+m_2)**(-1/3)))**(1/7))* ((f**2 + 1.2009*(σ_eq**2))**(-1/2)) * ((f_b(m_1,m_2))**(37/21)) * ((Δ_1*Δ_2)**(37/42))\n",
    "    \n",
    "    def D(m_1,m_2,Δ_1,Δ_2):\n",
    "        return (B(m_1,m_2,Δ_1,Δ_2)**(21/37))/(f_b(m_1,m_2)*np.sqrt(Δ_1*Δ_2))  \n",
    "    \n",
    "    def γ_X(Y,m_1,m_2,Δ_1,Δ_2):      #eq.(12) in the notes.\n",
    "        return ((((1 + 0.1709 * D(m_1,m_2,Δ_1,Δ_2) * (Y**(-21/37)))**(-1/14))/( 1 + 0.0136 * D(m_1,m_2,Δ_1,Δ_2) * (Y**(-21/37))))*Y)\n",
    "\n",
    "    def PDF(m):\n",
    "        return (P(m)/m)\n",
    "\n",
    "    I = quad(PDF, 5, np.inf)  # Taking limits of the PBH mass from 5 M☉ to 100 M☉ instead of \n",
    "                               # 0 to infinity.\n",
    "    \n",
    "    n_T = f*ρ_eq*I[0]         #n_T=f*ρ_eq∫(P(m)/m)*dm \n",
    "   \n",
    "    def x̄(m_1,m_2,Δ_1,Δ_2):\n",
    "        return (((3*(m_1+m_2))/(8*π*ρ_eq*f_b(m_1,m_2)*np.sqrt(Δ_1*Δ_2)))**(1/3))\n",
    "    \n",
    "    \n",
    "    def X(m_1,m_2,Δ_1,Δ_2):\n",
    "        return lambda_max * f_b(m_1,m_2) * np.sqrt(Δ_1*Δ_2)\n",
    "    \n",
    "    def Y_max(m_1,m_2,Δ_1,Δ_2):\n",
    "        return B(m_1,m_2,Δ_1,Δ_2) * (X(m_1,m_2,Δ_1,Δ_2)**(-37/21))\n",
    "    \n",
    "   \n",
    "    \n",
    "    \n",
    "    return (Y**(-58/37)) * np.exp(-((4*π)/3) * (x̄(m_1,m_2,Δ_1,Δ_2)**3) * n_T * ((Y/B(m_1,m_2,Δ_1,Δ_2))**(-21/37))) * ((γ_X(Y,m_1,m_2,Δ_1,Δ_2)**2)/ ((1 + (γ_X(Y,m_1,m_2,Δ_1,Δ_2)**2))**(3/2)))\n",
    "    \n",
    "\n",
    "f2 = np.vectorize(integrand) \n"
   ]
  },
  {
   "cell_type": "code",
   "execution_count": 34,
   "metadata": {},
   "outputs": [
    {
     "data": {
      "image/png": "[encoded data removed]",
      "text/plain": [
       "<Figure size 432x288 with 1 Axes>"
      ]
     },
     "metadata": {
      "needs_background": "light"
     },
     "output_type": "display_data"
    }
   ],
   "source": [
    "Y = np.geomspace(1e-3, Y_max_list[-1],len(m_1_list))\n",
    "\n",
    "Y_list = Y.tolist()\n",
    "\n",
    "\n",
    "\n",
    "integrand_list=np.zeros(len(Y_list))\n",
    "for i, (m_1,m_2,Δ_1,Δ_2,Y) in enumerate(zip(m_1_list, m_2_list, Δ_1_list, Δ_2_list,Y_list)):\n",
    "    integrand_list[i] = f2(m_1,m_2,Δ_1,Δ_2,Y)\n",
    "    \n",
    "plt.loglog(Y_list,integrand_list,'r')\n",
    "plt.xlabel('Y')\n",
    "plt.ylabel('Integrand')\n",
    "plt.title('Log-Normal PDF no halos')\n",
    "plt.show()"
   ]
  },
  {
   "cell_type": "code",
   "execution_count": 35,
   "metadata": {},
   "outputs": [
    {
     "data": {
      "image/png": "[encoded data removed]",
      "text/plain": [
       "<Figure size 432x288 with 1 Axes>"
      ]
     },
     "metadata": {
      "needs_background": "light"
     },
     "output_type": "display_data"
    }
   ],
   "source": [
    "Y = np.geomspace(1e-3, 1e10,len(m_1_list))\n",
    "\n",
    "Y_list = Y.tolist()\n",
    "\n",
    "\n",
    "\n",
    "integrand_list=np.zeros(len(Y_list))\n",
    "for i, (m_1,m_2,Δ_1,Δ_2,Y) in enumerate(zip(m_1_list, m_2_list, Δ_1_list, Δ_2_list,Y_list)):\n",
    "    integrand_list[i]=f2(m_1,m_2,Δ_1,Δ_2,Y)\n",
    "    \n",
    "plt.loglog(Y_list,integrand_list,'r')\n",
    "plt.xlabel('Y')\n",
    "plt.ylabel('Integrand')\n",
    "plt.title('Log-Normal PDF no halos')\n",
    "plt.show()"
   ]
  },
  {
   "cell_type": "code",
   "execution_count": null,
   "metadata": {},
   "outputs": [],
   "source": []
  }
 ],
 "metadata": {
  "kernelspec": {
   "display_name": "Python 3",
   "language": "python",
   "name": "python3"
  },
  "language_info": {
   "codemirror_mode": {
    "name": "ipython",
    "version": 3
   },
   "file_extension": ".py",
   "mimetype": "text/x-python",
   "name": "python",
   "nbconvert_exporter": "python",
   "pygments_lexer": "ipython3",
   "version": "3.8.5"
  }
 },
 "nbformat": 4,
 "nbformat_minor": 4
}
