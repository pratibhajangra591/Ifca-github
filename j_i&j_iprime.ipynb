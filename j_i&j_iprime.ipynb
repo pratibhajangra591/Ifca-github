{
 "cells": [
  {
   "cell_type": "code",
   "execution_count": 1,
   "id": "8301564a-614f-4bde-b2b9-3ba94ecbe1a2",
   "metadata": {},
   "outputs": [
    {
     "name": "stdout",
     "output_type": "stream",
     "text": [
      "m_1 = [7, 10, 12, 15, 20, 25, 32, 41, 53, 68, 87] M☉\n",
      "\u000b",
      "\n",
      "Δ_1 = [ 1.76383421  2.26778684  2.91572593  3.74879049  4.81987348  6.19698019\n",
      "  7.96754596 10.24398767 13.17084129 16.9339388  21.77220702]\n"
     ]
    }
   ],
   "source": [
    "\n",
    "import numpy as np\n",
    "import matplotlib.pyplot as plt\n",
    "import math\n",
    "from scipy.integrate import odeint\n",
    "from scipy.integrate import quad\n",
    "import seaborn as sns\n",
    "import matplotlib.colors as colors\n",
    "from matplotlib import rcParams\n",
    "from scipy.interpolate import InterpolatedUnivariateSpline\n",
    "plt.rcParams.update({\n",
    "  \"text.usetex\": True,\n",
    "  \"font.family\": \"serif\"\n",
    "})\n",
    "\n",
    "\n",
    "π = np.pi\n",
    "G = 4.4959e-15            #in units of M☉^-1 pc^3 yr^-2\n",
    "c = 0.3068                #in units of pc yr^-1\n",
    "ρ_eq = 3.1812e3           #in units of M☉ pc^-3 with ρ_eq=2.15368e-16 kg m^-3\n",
    "t = 13.78e9               #in units of yrs corresponding to t_0=13.78Gyr\n",
    "yr = 3.154e7              # in units of seconds\n",
    "pc = 3.0857e16            # in meters\n",
    "yr = 3.154e7              # in units of seconds\n",
    "t_eq = 1.59246e12/yr      # in units of seconds\n",
    "ρ_m  = 4e19                #ρ_m=4e19 M☉ Gpc^-3\n",
    "t_m = 13.78e9             #in units of yr \n",
    "σ_eq = 0.005\n",
    "\n",
    "\n",
    "\n",
    "m_1 = 7       #in units of M☉\n",
    "m_2 = 9      #in units of M☉\n",
    "\n",
    "\n",
    "\n",
    "y_1 = np.log(m_1)\n",
    "y_2 = np.log(m_2)\n",
    "dy = (y_2-y_1)\n",
    "\n",
    "\n",
    "y_list = np.zeros(11)\n",
    "\n",
    "for i in range(len(y_list)):\n",
    "    y_list[i] = (y_1 + (i*dy))\n",
    "    \n",
    "\n",
    "M_1_list = np.zeros(len(y_list))\n",
    "M_2_list = np.zeros(len(y_list))\n",
    "\n",
    "for i, y in enumerate(y_list):\n",
    "    M_1_list[i] = (np.ceil(np.exp(y)))\n",
    "    M_2_list[i] = (np.ceil(np.exp(y)))\n",
    "    \n",
    "\n",
    "            \n",
    "m_1_list = [int(M_1) for M_1 in M_1_list]\n",
    "m_2_list = [int(M_2) for M_2 in M_2_list]\n",
    "\n",
    "    \n",
    "Δ_1_list = np.zeros(len(y_list))\n",
    "Δ_2_list = np.zeros(len(y_list))\n",
    "\n",
    "for i, y in enumerate(y_list):\n",
    "    Δ_1_list[i] = np.exp(y + 0.5*dy) - np.exp(y - 0.5*dy)\n",
    "    Δ_2_list[i] = np.exp(y + 0.5*dy) - np.exp(y - 0.5*dy) \n",
    "\n",
    "    \n",
    "print(\"m_1 =\", m_1_list, \"M☉\")\n",
    "print('\\v')\n",
    "print(\"Δ_1 =\", Δ_1_list)\n",
    "\n",
    "\n",
    "\n",
    "\n",
    "m_min = 5     #in units of M☉\n",
    "m_max = 100   # in units of M☉\n",
    "\n",
    "X_min = 1e-15\n",
    "X_max = 1e5\n",
    "\n",
    "\n",
    "m_1 = m_1_list[-1] \n",
    "m_2 = m_2_list[0]\n",
    "Δ_1 = Δ_1_list[-1]\n",
    "Δ_2 = Δ_2_list[0]\n",
    "X = 1e-10\n",
    "\n",
    "file = np.load('tm_ofj0_PWRhalo_1.npz')\n",
    "m = file['arr_0']\n",
    "b = file['arr_1']\n",
    "a_i_ref =  file['arr_2']\n",
    "ji_ref_list = file['arr_3']\n",
    "tm_ref_list = file['arr_4']\n"
   ]
  },
  {
   "cell_type": "code",
   "execution_count": 9,
   "id": "925a0bd4-8813-44af-8b8c-dd5087adfc99",
   "metadata": {},
   "outputs": [
    {
     "data": {
      "image/png": "[encoded data removed]",
      "text/plain": [
       "<Figure size 720x360 with 1 Axes>"
      ]
     },
     "metadata": {
      "needs_background": "light"
     },
     "output_type": "display_data"
    }
   ],
   "source": [
    "def ji_fitting_function(t_m):\n",
    "    m = file['arr_0']\n",
    "    b = file['arr_1']\n",
    "    return (10**(-b/m))   * (t_m**(1/m))   # t_m = (j_i**m) * (10**b)\n",
    "        \n",
    "    \n",
    "    \n",
    "tm_list_1 = (np.geomspace(1e9, 1e15, 30)).tolist()\n",
    "ji_list = np.zeros(len(tm_list_1))\n",
    "\n",
    "\n",
    "\n",
    "for i, tm in enumerate(tm_list_1):\n",
    "    ji_list[i] = ji_fitting_function(tm)\n",
    "    \n",
    "\n",
    "    \n",
    "plt.figure(figsize = (10, 5))\n",
    "plt.xticks(fontsize = 18)\n",
    "plt.yticks(fontsize = 18)\n",
    "plt.loglog(tm_list_1, ji_list, 'gd' )\n",
    "\n",
    "\n",
    "\n",
    "plt.legend([ \"Fitting function\"], loc = 'upper left', fontsize = 20)\n",
    "plt.xlabel('t$_{m}$$\\: [yr]$', fontsize = 20, labelpad = 9)\n",
    "plt.ylabel('j$_{i}$', fontsize = 20, labelpad = 9)\n",
    "plt.title('j$_{i}$ vs t$_{m}$', fontsize = 19, pad = 9)\n",
    "plt.show()    \n",
    "    "
   ]
  },
  {
   "cell_type": "code",
   "execution_count": 10,
   "id": "d6f0b17f-d0ec-4384-9c25-bb696f97b09f",
   "metadata": {},
   "outputs": [
    {
     "name": "stdout",
     "output_type": "stream",
     "text": [
      "12161833368903.348\n",
      "258145143414827.3\n"
     ]
    },
    {
     "ename": "ValueError",
     "evalue": "Found x value not in the domain",
     "output_type": "error",
     "traceback": [
      "\u001b[0;31m---------------------------------------------------------------------------\u001b[0m",
      "\u001b[0;31mValueError\u001b[0m                                Traceback (most recent call last)",
      "Input \u001b[0;32mIn [10]\u001b[0m, in \u001b[0;36m<cell line: 24>\u001b[0;34m()\u001b[0m\n\u001b[1;32m     20\u001b[0m ji_interpolation_list \u001b[38;5;241m=\u001b[39m np\u001b[38;5;241m.\u001b[39mzeros(\u001b[38;5;28mlen\u001b[39m(tm_list_2))\n\u001b[1;32m     24\u001b[0m \u001b[38;5;28;01mfor\u001b[39;00m i, tm \u001b[38;5;129;01min\u001b[39;00m \u001b[38;5;28menumerate\u001b[39m(tm_list_2):\n\u001b[0;32m---> 25\u001b[0m     ji_interpolation_list[i] \u001b[38;5;241m=\u001b[39m \u001b[43mji_interpolation\u001b[49m\u001b[43m(\u001b[49m\u001b[43mt_m\u001b[49m\u001b[43m)\u001b[49m\n\u001b[1;32m     30\u001b[0m plt\u001b[38;5;241m.\u001b[39mfigure(figsize \u001b[38;5;241m=\u001b[39m (\u001b[38;5;241m10\u001b[39m, \u001b[38;5;241m5\u001b[39m))\n\u001b[1;32m     31\u001b[0m plt\u001b[38;5;241m.\u001b[39mxticks(fontsize \u001b[38;5;241m=\u001b[39m \u001b[38;5;241m18\u001b[39m)\n",
      "Input \u001b[0;32mIn [10]\u001b[0m, in \u001b[0;36mji_interpolation\u001b[0;34m(t_m)\u001b[0m\n\u001b[1;32m      3\u001b[0m b \u001b[38;5;241m=\u001b[39m file[\u001b[38;5;124m'\u001b[39m\u001b[38;5;124marr_1\u001b[39m\u001b[38;5;124m'\u001b[39m]\n\u001b[1;32m      4\u001b[0m g \u001b[38;5;241m=\u001b[39m  InterpolatedUnivariateSpline(tm_ref_list, ji_ref_list, ext \u001b[38;5;241m=\u001b[39m \u001b[38;5;241m2\u001b[39m, k\u001b[38;5;241m=\u001b[39m \u001b[38;5;241m2\u001b[39m) \u001b[38;5;66;03m# j_i = g(t_m)\u001b[39;00m\n\u001b[0;32m----> 5\u001b[0m \u001b[38;5;28;01mreturn\u001b[39;00m \u001b[43mg\u001b[49m\u001b[43m(\u001b[49m\u001b[43mt_m\u001b[49m\u001b[43m)\u001b[49m\n",
      "File \u001b[0;32m~/miniconda3/envs/PhD/lib/python3.9/site-packages/scipy/interpolate/fitpack2.py:362\u001b[0m, in \u001b[0;36mUnivariateSpline.__call__\u001b[0;34m(self, x, nu, ext)\u001b[0m\n\u001b[1;32m    360\u001b[0m     \u001b[38;5;28;01mexcept\u001b[39;00m \u001b[38;5;167;01mKeyError\u001b[39;00m \u001b[38;5;28;01mas\u001b[39;00m e:\n\u001b[1;32m    361\u001b[0m         \u001b[38;5;28;01mraise\u001b[39;00m \u001b[38;5;167;01mValueError\u001b[39;00m(\u001b[38;5;124m\"\u001b[39m\u001b[38;5;124mUnknown extrapolation mode \u001b[39m\u001b[38;5;132;01m%s\u001b[39;00m\u001b[38;5;124m.\u001b[39m\u001b[38;5;124m\"\u001b[39m \u001b[38;5;241m%\u001b[39m ext) \u001b[38;5;28;01mfrom\u001b[39;00m \u001b[38;5;21;01me\u001b[39;00m\n\u001b[0;32m--> 362\u001b[0m \u001b[38;5;28;01mreturn\u001b[39;00m \u001b[43mfitpack\u001b[49m\u001b[38;5;241;43m.\u001b[39;49m\u001b[43msplev\u001b[49m\u001b[43m(\u001b[49m\u001b[43mx\u001b[49m\u001b[43m,\u001b[49m\u001b[43m \u001b[49m\u001b[38;5;28;43mself\u001b[39;49m\u001b[38;5;241;43m.\u001b[39;49m\u001b[43m_eval_args\u001b[49m\u001b[43m,\u001b[49m\u001b[43m \u001b[49m\u001b[43mder\u001b[49m\u001b[38;5;241;43m=\u001b[39;49m\u001b[43mnu\u001b[49m\u001b[43m,\u001b[49m\u001b[43m \u001b[49m\u001b[43mext\u001b[49m\u001b[38;5;241;43m=\u001b[39;49m\u001b[43mext\u001b[49m\u001b[43m)\u001b[49m\n",
      "File \u001b[0;32m~/miniconda3/envs/PhD/lib/python3.9/site-packages/scipy/interpolate/fitpack.py:374\u001b[0m, in \u001b[0;36msplev\u001b[0;34m(x, tck, der, ext)\u001b[0m\n\u001b[1;32m    372\u001b[0m     \u001b[38;5;28;01mreturn\u001b[39;00m tck(x, der, extrapolate\u001b[38;5;241m=\u001b[39mextrapolate)\n\u001b[1;32m    373\u001b[0m \u001b[38;5;28;01melse\u001b[39;00m:\n\u001b[0;32m--> 374\u001b[0m     \u001b[38;5;28;01mreturn\u001b[39;00m \u001b[43m_impl\u001b[49m\u001b[38;5;241;43m.\u001b[39;49m\u001b[43msplev\u001b[49m\u001b[43m(\u001b[49m\u001b[43mx\u001b[49m\u001b[43m,\u001b[49m\u001b[43m \u001b[49m\u001b[43mtck\u001b[49m\u001b[43m,\u001b[49m\u001b[43m \u001b[49m\u001b[43mder\u001b[49m\u001b[43m,\u001b[49m\u001b[43m \u001b[49m\u001b[43mext\u001b[49m\u001b[43m)\u001b[49m\n",
      "File \u001b[0;32m~/miniconda3/envs/PhD/lib/python3.9/site-packages/scipy/interpolate/_fitpack_impl.py:600\u001b[0m, in \u001b[0;36msplev\u001b[0;34m(x, tck, der, ext)\u001b[0m\n\u001b[1;32m    598\u001b[0m     \u001b[38;5;28;01mraise\u001b[39;00m \u001b[38;5;167;01mValueError\u001b[39;00m(\u001b[38;5;124m\"\u001b[39m\u001b[38;5;124mInvalid input data\u001b[39m\u001b[38;5;124m\"\u001b[39m)\n\u001b[1;32m    599\u001b[0m \u001b[38;5;28;01mif\u001b[39;00m ier \u001b[38;5;241m==\u001b[39m \u001b[38;5;241m1\u001b[39m:\n\u001b[0;32m--> 600\u001b[0m     \u001b[38;5;28;01mraise\u001b[39;00m \u001b[38;5;167;01mValueError\u001b[39;00m(\u001b[38;5;124m\"\u001b[39m\u001b[38;5;124mFound x value not in the domain\u001b[39m\u001b[38;5;124m\"\u001b[39m)\n\u001b[1;32m    601\u001b[0m \u001b[38;5;28;01mif\u001b[39;00m ier:\n\u001b[1;32m    602\u001b[0m     \u001b[38;5;28;01mraise\u001b[39;00m \u001b[38;5;167;01mTypeError\u001b[39;00m(\u001b[38;5;124m\"\u001b[39m\u001b[38;5;124mAn error occurred\u001b[39m\u001b[38;5;124m\"\u001b[39m)\n",
      "\u001b[0;31mValueError\u001b[0m: Found x value not in the domain"
     ]
    }
   ],
   "source": [
    "def ji_interpolation(t_m):\n",
    "    g =  InterpolatedUnivariateSpline(tm_ref_list, ji_ref_list, ext = 2, k= 2) # j_i = g(t_m)\n",
    "    return g(t_m)   \n",
    "        \n",
    "    \n",
    "\n",
    "    \n",
    "\n",
    "tm_ref_list = file['arr_4']\n",
    "tm_min = np.min(tm_ref_list )\n",
    "tm_max  = np.max(tm_ref_list)\n",
    " \n",
    "    \n",
    "print(tm_min)\n",
    "print(tm_max)                 \n",
    "                 \n",
    "tm_list_2 = (np.geomspace(tm_min, tm_max , 30)).tolist()\n",
    "ji_interpolation_list = np.zeros(len(tm_list_2))\n",
    "\n",
    "\n",
    "\n",
    "for i, tm in enumerate(tm_list_2):\n",
    "    ji_interpolation_list[i] = ji_interpolation(t_m)\n",
    "    \n",
    "\n",
    "    \n",
    "   \n",
    "plt.figure(figsize = (10, 5))\n",
    "plt.xticks(fontsize = 18)\n",
    "plt.yticks(fontsize = 18)\n",
    "\n",
    "plt.loglog(tm_list_2, ji_interpolation_list, 'rd' )\n",
    "\n",
    "\n",
    "\n",
    "plt.legend([ \"Interpolation function\"], loc = 'upper left', fontsize = 20)\n",
    "plt.xlabel('t$_{m}$$\\: [yr]$', fontsize = 20, labelpad = 9)\n",
    "plt.ylabel('j$_{i}$', fontsize = 20, labelpad = 9)\n",
    "plt.title('j$_{i}$ vs t$_{m}$', fontsize = 19, pad = 9)\n",
    "plt.show()    \n",
    "    "
   ]
  },
  {
   "cell_type": "code",
   "execution_count": 11,
   "id": "b49f5df3-1efe-4754-8671-65f15b42c7a8",
   "metadata": {},
   "outputs": [
    {
     "data": {
      "image/png": "[encoded data removed]",
      "text/plain": [
       "<Figure size 720x360 with 1 Axes>"
      ]
     },
     "metadata": {
      "needs_background": "light"
     },
     "output_type": "display_data"
    }
   ],
   "source": [
    "plt.figure(figsize = (10, 5))\n",
    "plt.xticks(fontsize = 18)\n",
    "plt.yticks(fontsize = 18)\n",
    "plt.loglog(tm_list_1, ji_list, 'gd' )\n",
    "plt.loglog(tm_list_2, ji_interpolation_list, 'ro' )\n",
    "\n",
    "\n",
    "plt.xlim(1e11, 1e15)\n",
    "plt.legend([ \"Fitting Function\",  \"Interpolation function\"], loc = 'upper left', fontsize = 20)\n",
    "plt.xlabel('t$_{m}$$\\: [yr]$', fontsize = 20, labelpad = 9)\n",
    "plt.ylabel('j$_{i}$', fontsize = 20, labelpad = 9)\n",
    "plt.title('j$_{i}$ vs t$_{m}$', fontsize = 19, pad = 9)\n",
    "plt.savefig('j_ivst_m.pdf', bbox_inches = 'tight')\n",
    "plt.show()    \n",
    "    "
   ]
  },
  {
   "cell_type": "code",
   "execution_count": 13,
   "id": "ff6f993b-9467-46dd-a372-0df61e2b5bd6",
   "metadata": {},
   "outputs": [
    {
     "data": {
      "image/png": "[encoded data removed]",
      "text/plain": [
       "<Figure size 720x360 with 1 Axes>"
      ]
     },
     "metadata": {
      "needs_background": "light"
     },
     "output_type": "display_data"
    }
   ],
   "source": [
    "def ji_prime_fitting_function(t_m):\n",
    "    m = file['arr_0']\n",
    "    b = file['arr_1']\n",
    "    return (1/m)  * (10**(-b/m)) * (t_m**(-(m-1)/m))\n",
    "                                                     # t_m = (j_i**m) * (10**b)\n",
    "        \n",
    "    \n",
    "    \n",
    "tm_list = (np.geomspace(1e9, 1e15, 30)).tolist()\n",
    "ji_prime_list = np.zeros(len(tm_list))\n",
    "\n",
    "\n",
    "\n",
    "for i, tm in enumerate(tm_list):\n",
    "    ji_prime_list[i] = ji_prime_fitting_function(tm)\n",
    "    \n",
    "\n",
    "    \n",
    "   \n",
    "plt.figure(figsize = (10, 5))\n",
    "plt.xticks(fontsize = 18)\n",
    "plt.yticks(fontsize = 18)\n",
    "plt.loglog(tm_list, ji_prime_list, 'gd' )\n",
    "\n",
    "\n",
    "\n",
    "plt.legend([ \"Fitting function\"], loc = 'upper left', fontsize = 20)\n",
    "plt.xlabel('t$_{m}$$\\: [yr]$', fontsize = 20, labelpad = 9)\n",
    "plt.ylabel('j$_{i,prime}$', fontsize = 20, labelpad = 9)\n",
    "plt.title('j$_{i,prime}$ vs t$_{m}$', fontsize = 19, pad = 9)\n",
    "plt.show()    \n",
    "    "
   ]
  },
  {
   "cell_type": "code",
   "execution_count": null,
   "id": "19b23974-c495-4352-88f3-a54ffc6f62f7",
   "metadata": {},
   "outputs": [],
   "source": []
  }
 ],
 "metadata": {
  "kernelspec": {
   "display_name": "Python 3 (ipykernel)",
   "language": "python",
   "name": "python3"
  },
  "language_info": {
   "codemirror_mode": {
    "name": "ipython",
    "version": 3
   },
   "file_extension": ".py",
   "mimetype": "text/x-python",
   "name": "python",
   "nbconvert_exporter": "python",
   "pygments_lexer": "ipython3",
   "version": "3.9.12"
  }
 },
 "nbformat": 4,
 "nbformat_minor": 5
}
