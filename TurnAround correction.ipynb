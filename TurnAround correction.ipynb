{
 "cells": [
  {
   "cell_type": "code",
   "execution_count": 8,
   "metadata": {},
   "outputs": [
    {
     "data": {
      "text/plain": [
       "84728944990155.47"
      ]
     },
     "execution_count": 8,
     "metadata": {},
     "output_type": "execute_result"
    }
   ],
   "source": [
    "1e48/(16*6.67e31*1.989*(2.358**2))"
   ]
  },
  {
   "cell_type": "code",
   "execution_count": 9,
   "metadata": {},
   "outputs": [
    {
     "data": {
      "text/plain": [
       "3385613626.5886836"
      ]
     },
     "execution_count": 9,
     "metadata": {},
     "output_type": "execute_result"
    }
   ],
   "source": [
    "1e72/(128e57*(6.67**2)*(1.989**2)*(2.358**3))"
   ]
  },
  {
   "cell_type": "code",
   "execution_count": null,
   "metadata": {},
   "outputs": [],
   "source": []
  },
  {
   "cell_type": "code",
   "execution_count": 18,
   "metadata": {},
   "outputs": [
    {
     "name": "stdout",
     "output_type": "stream",
     "text": [
      "3429286734.6733665 69785936000387.38\n"
     ]
    },
    {
     "data": {
      "image/png": "[encoded data removed]",
      "text/plain": [
       "<Figure size 432x288 with 1 Axes>"
      ]
     },
     "metadata": {
      "needs_background": "light"
     },
     "output_type": "display_data"
    }
   ],
   "source": [
    "import numpy as np\n",
    "import matplotlib.pyplot as plt\n",
    "%matplotlib inline\n",
    "from scipy.integrate import odeint\n",
    "def f(u,t):\n",
    "    return [u[1], (((-G*M)/((u[0]**2))) - (u[0]/(4*t**2)))]\n",
    "G= 6.67e-11\n",
    "M= (1.989e32)\n",
    "r0= [1e12,2.12044e6]\n",
    "ts= np.linspace(2.358e5,8.53e9,200)\n",
    "us= odeint(f,r0,ts)\n",
    "rs= us[:,0]\n",
    "r_max= (np.max(rs))\n",
    "t_max = ts[np.argmax(rs)]\n",
    "print(t_max,r_max)\n",
    "plt.plot(ts,rs,'m')\n",
    "plt.xlabel('t in seconds')\n",
    "plt.ylabel('r in meters')\n",
    "plt.title(' r = 10e12m & M = 100 solar mass')\n",
    "plt.show()"
   ]
  },
  {
   "cell_type": "code",
   "execution_count": 42,
   "metadata": {},
   "outputs": [
    {
     "name": "stdout",
     "output_type": "stream",
     "text": [
      "r_ta = 84728944990155.48 m\n",
      "t_ta = 3385613626.5886846 s\n"
     ]
    }
   ],
   "source": [
    "G=6.67e-11 # with units m^3 kg^-1 s^-1\n",
    "M_PBH=1.989e32 #in kg\n",
    " \n",
    "r_i=1e12 #in meters\n",
    "t_i=2.358e5 # in seconds\n",
    "r_ta=(r_i**4)/(16*G*M_PBH*(t_i**2))\n",
    "t_ta=(r_i**6)/(128*((G*M_PBH)**2)*(t_i**3))\n",
    "\n",
    "print(\"r_ta =\",r_ta,\"m\")\n",
    "print(\"t_ta =\",t_ta,\"s\")"
   ]
  },
  {
   "cell_type": "code",
   "execution_count": null,
   "metadata": {},
   "outputs": [],
   "source": []
  },
  {
   "cell_type": "code",
   "execution_count": null,
   "metadata": {},
   "outputs": [],
   "source": []
  }
 ],
 "metadata": {
  "kernelspec": {
   "display_name": "Python 3",
   "language": "python",
   "name": "python3"
  },
  "language_info": {
   "codemirror_mode": {
    "name": "ipython",
    "version": 3
   },
   "file_extension": ".py",
   "mimetype": "text/x-python",
   "name": "python",
   "nbconvert_exporter": "python",
   "pygments_lexer": "ipython3",
   "version": "3.8.5"
  }
 },
 "nbformat": 4,
 "nbformat_minor": 4
}
