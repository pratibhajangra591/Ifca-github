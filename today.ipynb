{
 "cells": [
  {
   "cell_type": "code",
   "execution_count": 2,
   "metadata": {},
   "outputs": [],
   "source": [
    "import numpy as np\n",
    "import matplotlib.pyplot as plt\n",
    "import math\n",
    "import seaborn as sns\n",
    "\n",
    "\n",
    "t_0=13.78e9      # in units of years\n",
    "t=13.78e9        # in units of years , let t=t_0 (i.e. calcluating the merger rate today)\n",
    "\n",
    "# Calculation of the 1d merger rate for Power Law PDF    \n",
    "α = 1.6\n",
    "M=5\n",
    "def P(m): #Powerlaw PBH mass distribution\n",
    "    return (α-1)/M * (m/M)**(-α)\n",
    "\n",
    "\n",
    "f_pbh = 4.3e-3\n",
    "f = 0.85*f_pbh\n",
    "σ_eq=0.005\n",
    "\n",
    "\n",
    "\n",
    "def R_12(m_1, m_2):\n",
    "    return (3.9e6 * f**2 *((t/t_0)**(-34/37))* (f**2 + σ_eq**2)**(-21/74) * min(P(m_1)/m_1, P(m_2)/m_2) * (P(m_1)/m_1 + P(m_2)/m_2) * (m_1*m_2)**(3/37) * (m_1+m_2)**(36/37))\n"
   ]
  },
  {
   "cell_type": "code",
   "execution_count": 3,
   "metadata": {},
   "outputs": [
    {
     "name": "stdout",
     "output_type": "stream",
     "text": [
      "m_1= [ 6.  8. 11. 15. 19. 26. 34. 45. 60. 80.]\n",
      "m_2= [ 6.  8. 11. 15. 19. 26. 34. 45. 60. 80.]\n",
      "Δ_1= [ 1.73205081  2.30940108  3.07920144  4.10560191  5.47413589  7.29884785\n",
      "  9.73179713 12.97572951 17.30097268 23.06796357]\n",
      "Δ_2= [ 1.73205081  2.30940108  3.07920144  4.10560191  5.47413589  7.29884785\n",
      "  9.73179713 12.97572951 17.30097268 23.06796357]\n"
     ]
    }
   ],
   "source": [
    "m_1=6\n",
    "m_2=8\n",
    "\n",
    "y_1=math.log(m_1)\n",
    "y_2=math.log(m_2)\n",
    "dy=(y_2-y_1)\n",
    "\n",
    "y_list=np.zeros(10)\n",
    "\n",
    "\n",
    "for i in range(len(y_list)):\n",
    "    y_list[i]= (y_1+(i*dy))\n",
    "    \n",
    "\n",
    "m_1_list=np.zeros(len(y_list))\n",
    "m_2_list=np.zeros(len(y_list))\n",
    "\n",
    "for i, y in enumerate(y_list):\n",
    "    m_1_list[i]=(math.ceil(math.exp(y)))\n",
    "    m_2_list[i]=(math.ceil(math.exp(y)))\n",
    "    \n",
    "print(\"m_1=\",m_1_list) \n",
    "print(\"m_2=\",m_2_list)\n",
    "\n",
    "\n",
    "\n",
    "Δ_1_list=np.zeros(len(y_list))\n",
    "Δ_2_list=np.zeros(len(y_list))\n",
    "\n",
    "for i, y in enumerate(y_list):\n",
    "    Δ_1_list[i] = math.exp(y + 0.5*dy)-math.exp(y - 0.5*dy)\n",
    "    Δ_2_list[i] = math.exp(y + 0.5*dy)-math.exp(y - 0.5*dy)\n",
    "    \n",
    "print(\"Δ_1=\",Δ_1_list)\n",
    "print(\"Δ_2=\",Δ_2_list)  "
   ]
  },
  {
   "cell_type": "code",
   "execution_count": 4,
   "metadata": {},
   "outputs": [
    {
     "data": {
      "image/png": "[encoded data removed]",
      "text/plain": [
       "<Figure size 432x360 with 2 Axes>"
      ]
     },
     "metadata": {
      "needs_background": "light"
     },
     "output_type": "display_data"
    }
   ],
   "source": [
    "Merge = np.zeros((100, 100))\n",
    "\n",
    "\n",
    "for j in range(10):\n",
    "    for i in range(10):\n",
    "        if i==j:\n",
    "            Merge[i*10:(i+1)*10, j*10:(j+1)*10] = 0.5*R_12(m_1_list[i], m_2_list[j])*Δ_1_list[i]*Δ_2_list[j]\n",
    "        else:\n",
    "            Merge[i*10:(i+1)*10, j*10:(j+1)*10] = R_12(m_1_list[i], m_2_list[j])*Δ_1_list[i]*Δ_2_list[j]\n",
    "            \n",
    "\n",
    "            \n",
    "            \n",
    "    \n",
    "fig,ax= plt.subplots(figsize=(6, 5)) \n",
    "pc=ax.imshow(Merge,cmap='cool',origin='lower')\n",
    "fig.colorbar(pc)\n",
    "ax.set_xticks([ 6. , 8. ,11., 15., 19., 26., 34., 45., 60., 80.])\n",
    "ax.set_yticks([ 6. , 8. ,11., 15., 19., 26., 34., 45., 60., 80.])\n",
    "plt.xlabel('$M_{1}\\hspace{0.5}[M_{☉}]$')\n",
    "plt.ylabel('$M_{2}\\hspace{0.5}[M_{☉}]$')\n",
    "plt.show()"
   ]
  },
  {
   "cell_type": "code",
   "execution_count": null,
   "metadata": {},
   "outputs": [],
   "source": []
  },
  {
   "cell_type": "code",
   "execution_count": null,
   "metadata": {},
   "outputs": [],
   "source": []
  },
  {
   "cell_type": "code",
   "execution_count": null,
   "metadata": {},
   "outputs": [],
   "source": []
  },
  {
   "cell_type": "code",
   "execution_count": 5,
   "metadata": {},
   "outputs": [
    {
     "data": {
      "image/png": "[encoded data removed]",
      "text/plain": [
       "<Figure size 432x360 with 2 Axes>"
      ]
     },
     "metadata": {
      "needs_background": "light"
     },
     "output_type": "display_data"
    }
   ],
   "source": [
    "mask = np.tril(Merge,k=0)  #created an array of shape Merger_12 with all the elements in it being 0.\n",
    "\n",
    "\n",
    "\n",
    "fig,ax= plt.subplots(figsize=(6, 5))  \n",
    "\n",
    "ax = sns.heatmap(Merge,mask=mask,  square=True,  cmap='winter', cbar=True, center=0)\n",
    "ax.invert_yaxis()\n",
    "plt.xlabel('$M_{1}\\hspace{0.5}[M_{☉}]$')\n",
    "plt.ylabel('$M_{2}\\hspace{0.5}[M_{☉}]$')\n",
    "plt.show()     "
   ]
  },
  {
   "cell_type": "code",
   "execution_count": null,
   "metadata": {},
   "outputs": [],
   "source": []
  },
  {
   "cell_type": "code",
   "execution_count": null,
   "metadata": {},
   "outputs": [],
   "source": []
  },
  {
   "cell_type": "code",
   "execution_count": null,
   "metadata": {},
   "outputs": [],
   "source": []
  }
 ],
 "metadata": {
  "kernelspec": {
   "display_name": "Python 3",
   "language": "python",
   "name": "python3"
  },
  "language_info": {
   "codemirror_mode": {
    "name": "ipython",
    "version": 3
   },
   "file_extension": ".py",
   "mimetype": "text/x-python",
   "name": "python",
   "nbconvert_exporter": "python",
   "pygments_lexer": "ipython3",
   "version": "3.8.5"
  }
 },
 "nbformat": 4,
 "nbformat_minor": 4
}
