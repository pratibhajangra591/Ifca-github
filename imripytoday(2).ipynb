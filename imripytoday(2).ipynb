{
 "cells": [
  {
   "cell_type": "code",
   "execution_count": 1,
   "id": "bf1213de-7e9e-476e-903e-7c956f913937",
   "metadata": {},
   "outputs": [
    {
     "data": {
      "image/png": "[encoded data removed]",
      "text/plain": [
       "<Figure size 432x288 with 1 Axes>"
      ]
     },
     "metadata": {
      "needs_background": "light"
     },
     "output_type": "display_data"
    }
   ],
   "source": [
    "import numpy as np\n",
    "import matplotlib.pyplot as plt\n",
    "import imripy\n",
    "from imripy import merger_system as ms\n",
    "from scipy.interpolate import interp1d\n",
    "from matplotlib.ticker import FormatStrFormatter\n",
    "from scipy.optimize import curve_fit\n",
    "from numpy import diff\n",
    "\n",
    "π = np.pi\n",
    "G = 4.4959e-15            #in units of M☉^-1 pc^3 yr^-2\n",
    "c = 0.3068                #in units of pc yr^-1\n",
    "ρ_eq = 3.1812e3           #in units of M☉ pc^-3 with ρ_eq=2.15368e-16 kg m^-3\n",
    "t_m = 13.78e9             #in units of yrs corresponding to t_0=13.78Gyr\n",
    "yr = 3.154e7              # in units of seconds\n",
    "t_eq = 1.59246e12/yr      # in units of yr\n",
    "M_solar = 1.989e30\n",
    "\n",
    "\n",
    "# Definition of the binary system \n",
    "m_bar = 1\n",
    "m1 =  m_bar * ms.solar_mass_to_pc   # The central mass m1 with a mass of 1 solar masses, converted to pc\n",
    "\n",
    "\n",
    "m2 = 1e-3 * ms.solar_mass_to_pc   # The secondary mass of 1e-3 solar mass converted to pc\n",
    "\n",
    "D_luminosity = 5e8              # The distance to the system from earth as 500 Mpc\n",
    "\n",
    "\n",
    "\n",
    "ρ_bar = (ρ_eq/2) * (t_eq**(3/2)) * ((2 * G * m_bar)**(3/4))\n",
    "\n",
    "\n",
    "\n",
    "# Dark matter spike with alpha=9/4 for Primordial black holes case\n",
    "r_spike = 1  # in parsecs, Choosen by choice\n",
    "\n",
    "alpha = 9/4\n",
    "\n",
    "rho_spike =  ρ_bar * (r_spike**(-alpha)) * ms.solar_mass_to_pc  # This takes the value of M_sun/pc^3 and converts it to 1/pc^2\n",
    "\n",
    "spike = imripy.halo.Spike(rho_spike, r_spike, alpha)\n",
    "\n",
    "\n",
    "\n",
    "\n",
    "# Plot density\n",
    "r_grid = np.geomspace(1e-8, 1e3, 100)  # creates a grid in pc\n",
    "plt.loglog(r_grid, spike.density(r_grid), 'g')\n",
    "plt.grid()\n",
    "plt.xlabel(\"radius / pc\")\n",
    "plt.ylabel(\"density / 1/pc$^2$\")\n",
    "plt.title('DM Spike Density')\n",
    "plt.savefig('spike density.pdf')\n",
    "plt.show()"
   ]
  },
  {
   "cell_type": "code",
   "execution_count": 52,
   "id": "803085f6-1475-4665-a3f8-69948b58573e",
   "metadata": {},
   "outputs": [
    {
     "name": "stdout",
     "output_type": "stream",
     "text": [
      "dy= 0.6931471805599454\n",
      "m = [1.00000000e-03 1.74286795e-01 3.47573590e-01 5.20860385e-01\n",
      " 6.94147181e-01 8.67433976e-01 1.04072077e+00 1.21400757e+00\n",
      " 1.38729436e+00 1.56058116e+00 1.73386795e+00 1.90715475e+00\n",
      " 2.08044154e+00 2.25372834e+00 2.42701513e+00 2.60030193e+00\n",
      " 2.77358872e+00 2.94687552e+00 3.12016231e+00 3.29344911e+00] M_solar\n",
      "Δ = [ 0.70781424  0.84173773  1.0010005   1.19039692  1.41562848  1.68347546\n",
      "  2.002001    2.38079383  2.83125697  3.36695093  4.004002    4.76158767\n",
      "  5.66251393  6.73390186  8.008004    9.52317534 11.32502787 13.46780372\n",
      " 16.016008   19.04635067]\n"
     ]
    }
   ],
   "source": [
    "m_1 = 1e-3   #in units of M☉\n",
    "m_2 = 2*m_1   #in units of M☉\n",
    "\n",
    "y_1 = np.log(m_1)\n",
    "y_2 = np.log(m_2)\n",
    "dy  = (y_2 - y_1)\n",
    "\n",
    "print(\"dy=\",dy)\n",
    "\n",
    "y_list = np.zeros(20)\n",
    "m_1_list = np.zeros(len(y_list))\n",
    "m_2_list = np.zeros(len(y_list))\n",
    "\n",
    "\n",
    "for i in range(len(y_list)):\n",
    "    m_1_list[i] = m_2_list[i] = (m_1 + ((i/4)*dy))\n",
    "    \n",
    "print(\"m =\", m_2_list, \"M_solar\")\n",
    "\n",
    "\n",
    "Δ_1_list = np.zeros(len(y_list))\n",
    "Δ_2_list = np.zeros(len(y_list))\n",
    "\n",
    "for i, m_1 in enumerate(m_1_list):\n",
    "    Δ_1_list[i] =  Δ_2_list[i] = np.exp(m_1 + 0.5*dy) - np.exp(m_1 - 0.5*dy)\n",
    "     \n",
    "print(\"Δ =\", Δ_1_list)\n",
    "    \n",
    "    \n",
    "    \n",
    "    \n",
    "\n",
    "def a(m_1,m_2,Δ_1,Δ_2):\n",
    "    \n",
    "    f_pbh = 4.3e-3\n",
    "    f = 0.85 * f_pbh\n",
    "        \n",
    "          \n",
    "    def P(m): #Powerlaw PBH mass distribution\n",
    "        α = 2.6\n",
    "        M = 1e-4     #in units of M☉\n",
    "        return ((α-1)/M) * ((m/M)**(-α))\n",
    "\n",
    "    \n",
    "    def f_(m):\n",
    "        return f*P(m)\n",
    "    \n",
    "    def f_b(m_1,m_2):\n",
    "        return  f_(m_1)+f_(m_2)\n",
    "    \n",
    "    def x̄(m_1,m_2,Δ_1,Δ_2):\n",
    "        return (((3*(m_1+m_2))/(8*π*ρ_eq*f_b(m_1,m_2)*np.sqrt(Δ_1*Δ_2)))**(1/3))\n",
    "   \n",
    "    def λ(m_1,m_2,Δ_1,Δ_2):\n",
    "        return (8*π*ρ_eq*(x̄(m_1,m_2,Δ_1,Δ_2)**3))/(3*(m_1 + m_2))\n",
    "\n",
    "    \n",
    "    return ( 0.0977*λ(m_1,m_2,Δ_1,Δ_2) + 0.0057*(λ(m_1,m_2,Δ_1,Δ_2)**2) ) * x̄(m_1,m_2,Δ_1,Δ_2)\n",
    "\n",
    "     "
   ]
  },
  {
   "cell_type": "code",
   "execution_count": 61,
   "id": "13c7a319-6e49-47f4-a714-a4bea1b6f5cf",
   "metadata": {},
   "outputs": [
    {
     "name": "stdout",
     "output_type": "stream",
     "text": [
      "a_i = 0.055001117908121726 pc\n",
      "a_0 = 191917392308.85043\n"
     ]
    }
   ],
   "source": [
    "def r_isko(m):\n",
    "    return (6*G*m)/(c**2)\n",
    "\n",
    "\n",
    "print(\"a_i =\", a(m_1_list[2], m_2_list[0], Δ_1_list[2], Δ_2_list[0]), \"pc\") \n",
    "\n",
    "  \n",
    "\n",
    "a_0 = a(m_1_list[2], m_2_list[0], Δ_1_list[2], Δ_2_list[0])/r_isko(1)\n",
    "\n",
    "\n",
    "print(\"a_0 =\" ,a_0)"
   ]
  },
  {
   "cell_type": "code",
   "execution_count": 65,
   "id": "c57f8185-6506-4165-af4c-eb83ac99449d",
   "metadata": {},
   "outputs": [
    {
     "name": "stdout",
     "output_type": "stream",
     "text": [
      "Evolving from  191917.39230885042  to  1.0 r_isco  with initial eccentricity 0.7  with  Options: accretion = False, haloPhaseSpaceDescription = False, accuracy = 1.0e-08\n"
     ]
    },
    {
     "name": "stderr",
     "output_type": "stream",
     "text": [
      "/home/pratibhajangra/imripy/src/imripy/inspiral.py:153: RuntimeWarning: invalid value encountered in double_scalars\n",
      "  return -32./5. * sp.m_reduced(a)**2 * sp.m_total(a)**3 / a**5  / (1. - e**2)**(7./2.) * (1. + 73./24. * e**2 + 37./96. * e**4)\n",
      "/home/pratibhajangra/imripy/src/imripy/inspiral.py:337: RuntimeWarning: invalid value encountered in double_scalars\n",
      "  return -(1.-e**2)**(3./2.)/2./np.pi * quad(integrand, 0., 2.*np.pi, limit = 100)[0]\n",
      "/home/pratibhajangra/imripy/src/imripy/halo.py:321: RuntimeWarning: invalid value encountered in double_scalars\n",
      "  return np.where(r > self.r_min, self.rho_spike * (self.r_spike/r)**self.alpha, 0.)\n",
      "/home/pratibhajangra/imripy/src/imripy/inspiral.py:172: RuntimeWarning: invalid value encountered in double_scalars\n",
      "  return -32./5. * sp.m_reduced(a)**2 * sp.m_total(a)**(5./2.) / a**(7./2.)  / (1. - e**2)**2 * (1. + 7./8.*e**2)\n",
      "/home/pratibhajangra/imripy/src/imripy/inspiral.py:361: RuntimeWarning: invalid value encountered in double_scalars\n",
      "  return -(1.-e**2)**(3./2.)/2./np.pi *np.sqrt(sp.m_total(a) * a*(1.-e**2)) *  quad(integrand, 0., 2.*np.pi, limit = 100)[0]\n",
      "/home/pratibhajangra/imripy/src/imripy/inspiral.py:337: IntegrationWarning: The occurrence of roundoff error is detected, which prevents \n",
      "  the requested tolerance from being achieved.  The error may be \n",
      "  underestimated.\n",
      "  return -(1.-e**2)**(3./2.)/2./np.pi * quad(integrand, 0., 2.*np.pi, limit = 100)[0]\n",
      "/home/pratibhajangra/imripy/src/imripy/inspiral.py:361: IntegrationWarning: The occurrence of roundoff error is detected, which prevents \n",
      "  the requested tolerance from being achieved.  The error may be \n",
      "  underestimated.\n",
      "  return -(1.-e**2)**(3./2.)/2./np.pi *np.sqrt(sp.m_total(a) * a*(1.-e**2)) *  quad(integrand, 0., 2.*np.pi, limit = 100)[0]\n"
     ]
    },
    {
     "name": "stdout",
     "output_type": "stream",
     "text": [
      "A termination event occurred.\n",
      " -> Evolution took 2.6390s\n",
      "Evolving from  191917.39230885042  to  1.0 r_isco  with initial eccentricity 0.5  with  Options: accretion = False, haloPhaseSpaceDescription = False, accuracy = 1.0e-08\n"
     ]
    },
    {
     "name": "stderr",
     "output_type": "stream",
     "text": [
      "/home/pratibhajangra/imripy/src/imripy/inspiral.py:335: RuntimeWarning: invalid value encountered in sqrt\n",
      "  v_s = np.sqrt(sp.m_total(a) *(2./r - 1./a))\n",
      "/home/pratibhajangra/imripy/src/imripy/inspiral.py:361: RuntimeWarning: invalid value encountered in sqrt\n",
      "  return -(1.-e**2)**(3./2.)/2./np.pi *np.sqrt(sp.m_total(a) * a*(1.-e**2)) *  quad(integrand, 0., 2.*np.pi, limit = 100)[0]\n",
      "/home/pratibhajangra/imripy/src/imripy/inspiral.py:359: RuntimeWarning: invalid value encountered in sqrt\n",
      "  v_s = np.sqrt(sp.m_total(a) *(2./r - 1./a))\n",
      "/home/pratibhajangra/imripy/src/imripy/inspiral.py:133: RuntimeWarning: invalid value encountered in sqrt\n",
      "  return np.sqrt(a * (1-e**2) * sp.m_total(a) * sp.m_reduced(a)**2 )\n"
     ]
    },
    {
     "name": "stdout",
     "output_type": "stream",
     "text": [
      "A termination event occurred.\n",
      " -> Evolution took 2.4751s\n",
      "Evolving from  191917.39230885042  to  1.0 r_isco  with initial eccentricity 0.3  with  Options: accretion = False, haloPhaseSpaceDescription = False, accuracy = 1.0e-08\n",
      "A termination event occurred.\n",
      " -> Evolution took 2.1780s\n",
      "Evolving from  96918.28311596946  to  1.0 r_isco  with initial eccentricity 0.7  with  Options: accretion = False, haloPhaseSpaceDescription = False, accuracy = 1.0e-08\n"
     ]
    },
    {
     "name": "stderr",
     "output_type": "stream",
     "text": [
      "/home/pratibhajangra/imripy/src/imripy/inspiral.py:153: RuntimeWarning: invalid value encountered in double_scalars\n",
      "  return -32./5. * sp.m_reduced(a)**2 * sp.m_total(a)**3 / a**5  / (1. - e**2)**(7./2.) * (1. + 73./24. * e**2 + 37./96. * e**4)\n",
      "/home/pratibhajangra/imripy/src/imripy/inspiral.py:337: RuntimeWarning: invalid value encountered in double_scalars\n",
      "  return -(1.-e**2)**(3./2.)/2./np.pi * quad(integrand, 0., 2.*np.pi, limit = 100)[0]\n",
      "/home/pratibhajangra/imripy/src/imripy/halo.py:321: RuntimeWarning: invalid value encountered in double_scalars\n",
      "  return np.where(r > self.r_min, self.rho_spike * (self.r_spike/r)**self.alpha, 0.)\n",
      "/home/pratibhajangra/imripy/src/imripy/inspiral.py:172: RuntimeWarning: invalid value encountered in double_scalars\n",
      "  return -32./5. * sp.m_reduced(a)**2 * sp.m_total(a)**(5./2.) / a**(7./2.)  / (1. - e**2)**2 * (1. + 7./8.*e**2)\n",
      "/home/pratibhajangra/imripy/src/imripy/inspiral.py:361: RuntimeWarning: invalid value encountered in double_scalars\n",
      "  return -(1.-e**2)**(3./2.)/2./np.pi *np.sqrt(sp.m_total(a) * a*(1.-e**2)) *  quad(integrand, 0., 2.*np.pi, limit = 100)[0]\n",
      "/home/pratibhajangra/imripy/src/imripy/inspiral.py:337: IntegrationWarning: The occurrence of roundoff error is detected, which prevents \n",
      "  the requested tolerance from being achieved.  The error may be \n",
      "  underestimated.\n",
      "  return -(1.-e**2)**(3./2.)/2./np.pi * quad(integrand, 0., 2.*np.pi, limit = 100)[0]\n",
      "/home/pratibhajangra/imripy/src/imripy/inspiral.py:361: IntegrationWarning: The occurrence of roundoff error is detected, which prevents \n",
      "  the requested tolerance from being achieved.  The error may be \n",
      "  underestimated.\n",
      "  return -(1.-e**2)**(3./2.)/2./np.pi *np.sqrt(sp.m_total(a) * a*(1.-e**2)) *  quad(integrand, 0., 2.*np.pi, limit = 100)[0]\n"
     ]
    },
    {
     "ename": "ValueError",
     "evalue": "`ts` must be strictly increasing or decreasing.",
     "output_type": "error",
     "traceback": [
      "\u001b[0;31m---------------------------------------------------------------------------\u001b[0m",
      "\u001b[0;31mValueError\u001b[0m                                Traceback (most recent call last)",
      "Input \u001b[0;32mIn [65]\u001b[0m, in \u001b[0;36m<cell line: 25>\u001b[0;34m()\u001b[0m\n\u001b[1;32m     28\u001b[0m     e_0 \u001b[38;5;241m=\u001b[39m e0_list[k] \n\u001b[1;32m     29\u001b[0m     j_i_list[k] \u001b[38;5;241m=\u001b[39m np\u001b[38;5;241m.\u001b[39msqrt(\u001b[38;5;241m1\u001b[39m \u001b[38;5;241m-\u001b[39m (e0\u001b[38;5;241m*\u001b[39m\u001b[38;5;241m*\u001b[39m\u001b[38;5;241m2\u001b[39m))\n\u001b[0;32m---> 30\u001b[0m     ev_ecc \u001b[38;5;241m=\u001b[39m \u001b[43mimripy\u001b[49m\u001b[38;5;241;43m.\u001b[39;49m\u001b[43minspiral\u001b[49m\u001b[38;5;241;43m.\u001b[39;49m\u001b[43mClassic\u001b[49m\u001b[38;5;241;43m.\u001b[39;49m\u001b[43mEvolve\u001b[49m\u001b[43m(\u001b[49m\u001b[43msp\u001b[49m\u001b[43m,\u001b[49m\u001b[43m \u001b[49m\u001b[43ma0\u001b[49m\u001b[43m \u001b[49m\u001b[43m,\u001b[49m\u001b[43m \u001b[49m\u001b[43me_0\u001b[49m\u001b[43m,\u001b[49m\u001b[43m  \u001b[49m\u001b[43ma_fin\u001b[49m\u001b[43m \u001b[49m\u001b[38;5;241;43m=\u001b[39;49m\u001b[43m \u001b[49m\u001b[43mR_fin\u001b[49m\u001b[43m)\u001b[49m\n\u001b[1;32m     31\u001b[0m     t_m_list[k] \u001b[38;5;241m=\u001b[39m ev_ecc\u001b[38;5;241m.\u001b[39mt[\u001b[38;5;241m-\u001b[39m\u001b[38;5;241m1\u001b[39m]\u001b[38;5;241m/\u001b[39mms\u001b[38;5;241m.\u001b[39myear_to_pc\n\u001b[1;32m     32\u001b[0m plt\u001b[38;5;241m.\u001b[39mloglog(j_i_list, t_m_list, \u001b[38;5;124m'\u001b[39m\u001b[38;5;124m--o\u001b[39m\u001b[38;5;124m'\u001b[39m)\n",
      "File \u001b[0;32m~/imripy/src/imripy/inspiral.py:582\u001b[0m, in \u001b[0;36mClassic.Evolve\u001b[0;34m(sp, a_0, e_0, a_fin, t_0, t_fin, opt)\u001b[0m\n\u001b[1;32m    580\u001b[0m \u001b[38;5;66;03m# Evolve\u001b[39;00m\n\u001b[1;32m    581\u001b[0m tic \u001b[38;5;241m=\u001b[39m time\u001b[38;5;241m.\u001b[39mperf_counter()\n\u001b[0;32m--> 582\u001b[0m Int \u001b[38;5;241m=\u001b[39m \u001b[43msolve_ivp\u001b[49m\u001b[43m(\u001b[49m\u001b[43mdy_dt\u001b[49m\u001b[43m,\u001b[49m\u001b[43m \u001b[49m\u001b[43m[\u001b[49m\u001b[43mt_0\u001b[49m\u001b[38;5;241;43m/\u001b[39;49m\u001b[43mt_scale\u001b[49m\u001b[43m,\u001b[49m\u001b[43m \u001b[49m\u001b[43m(\u001b[49m\u001b[43mt_0\u001b[49m\u001b[38;5;241;43m+\u001b[39;49m\u001b[43mt_fin\u001b[49m\u001b[43m)\u001b[49m\u001b[38;5;241;43m/\u001b[39;49m\u001b[43mt_scale\u001b[49m\u001b[43m]\u001b[49m\u001b[43m,\u001b[49m\u001b[43m \u001b[49m\u001b[43my_0\u001b[49m\u001b[43m,\u001b[49m\u001b[43m \u001b[49m\u001b[43mdense_output\u001b[49m\u001b[38;5;241;43m=\u001b[39;49m\u001b[38;5;28;43;01mTrue\u001b[39;49;00m\u001b[43m,\u001b[49m\u001b[43m \u001b[49m\u001b[43margs\u001b[49m\u001b[38;5;241;43m=\u001b[39;49m\u001b[43m(\u001b[49m\u001b[43msp\u001b[49m\u001b[43m,\u001b[49m\u001b[43mopt\u001b[49m\u001b[43m)\u001b[49m\u001b[43m,\u001b[49m\u001b[43m \u001b[49m\u001b[43mevents\u001b[49m\u001b[38;5;241;43m=\u001b[39;49m\u001b[43mfin_reached\u001b[49m\u001b[43m,\u001b[49m\u001b[43m \u001b[49m\u001b[43mmax_step\u001b[49m\u001b[38;5;241;43m=\u001b[39;49m\u001b[43mt_step_max\u001b[49m\u001b[38;5;241;43m/\u001b[39;49m\u001b[43mt_scale\u001b[49m\u001b[43m,\u001b[49m\n\u001b[1;32m    583\u001b[0m \u001b[43m                                                                                \u001b[49m\u001b[43mmethod\u001b[49m\u001b[43m \u001b[49m\u001b[38;5;241;43m=\u001b[39;49m\u001b[43m \u001b[49m\u001b[38;5;124;43m'\u001b[39;49m\u001b[38;5;124;43mRK45\u001b[39;49m\u001b[38;5;124;43m'\u001b[39;49m\u001b[43m,\u001b[49m\u001b[43m \u001b[49m\u001b[43matol\u001b[49m\u001b[38;5;241;43m=\u001b[39;49m\u001b[43mopt\u001b[49m\u001b[38;5;241;43m.\u001b[39;49m\u001b[43maccuracy\u001b[49m\u001b[43m,\u001b[49m\u001b[43m \u001b[49m\u001b[43mrtol\u001b[49m\u001b[38;5;241;43m=\u001b[39;49m\u001b[43mopt\u001b[49m\u001b[38;5;241;43m.\u001b[39;49m\u001b[43maccuracy\u001b[49m\u001b[43m)\u001b[49m\n\u001b[1;32m    584\u001b[0m toc \u001b[38;5;241m=\u001b[39m time\u001b[38;5;241m.\u001b[39mperf_counter()\n\u001b[1;32m    586\u001b[0m \u001b[38;5;66;03m# Collect results\u001b[39;00m\n",
      "File \u001b[0;32m~/miniconda3/envs/PhD/lib/python3.9/site-packages/scipy/integrate/_ivp/ivp.py:655\u001b[0m, in \u001b[0;36msolve_ivp\u001b[0;34m(fun, t_span, y0, method, t_eval, dense_output, events, vectorized, args, **options)\u001b[0m\n\u001b[1;32m    653\u001b[0m \u001b[38;5;28;01mif\u001b[39;00m dense_output:\n\u001b[1;32m    654\u001b[0m     \u001b[38;5;28;01mif\u001b[39;00m t_eval \u001b[38;5;129;01mis\u001b[39;00m \u001b[38;5;28;01mNone\u001b[39;00m:\n\u001b[0;32m--> 655\u001b[0m         sol \u001b[38;5;241m=\u001b[39m \u001b[43mOdeSolution\u001b[49m\u001b[43m(\u001b[49m\u001b[43mts\u001b[49m\u001b[43m,\u001b[49m\u001b[43m \u001b[49m\u001b[43minterpolants\u001b[49m\u001b[43m)\u001b[49m\n\u001b[1;32m    656\u001b[0m     \u001b[38;5;28;01melse\u001b[39;00m:\n\u001b[1;32m    657\u001b[0m         sol \u001b[38;5;241m=\u001b[39m OdeSolution(ti, interpolants)\n",
      "File \u001b[0;32m~/miniconda3/envs/PhD/lib/python3.9/site-packages/scipy/integrate/_ivp/common.py:157\u001b[0m, in \u001b[0;36mOdeSolution.__init__\u001b[0;34m(self, ts, interpolants)\u001b[0m\n\u001b[1;32m    154\u001b[0m \u001b[38;5;66;03m# The first case covers integration on zero segment.\u001b[39;00m\n\u001b[1;32m    155\u001b[0m \u001b[38;5;28;01mif\u001b[39;00m \u001b[38;5;129;01mnot\u001b[39;00m ((ts\u001b[38;5;241m.\u001b[39msize \u001b[38;5;241m==\u001b[39m \u001b[38;5;241m2\u001b[39m \u001b[38;5;129;01mand\u001b[39;00m ts[\u001b[38;5;241m0\u001b[39m] \u001b[38;5;241m==\u001b[39m ts[\u001b[38;5;241m-\u001b[39m\u001b[38;5;241m1\u001b[39m])\n\u001b[1;32m    156\u001b[0m         \u001b[38;5;129;01mor\u001b[39;00m np\u001b[38;5;241m.\u001b[39mall(d \u001b[38;5;241m>\u001b[39m \u001b[38;5;241m0\u001b[39m) \u001b[38;5;129;01mor\u001b[39;00m np\u001b[38;5;241m.\u001b[39mall(d \u001b[38;5;241m<\u001b[39m \u001b[38;5;241m0\u001b[39m)):\n\u001b[0;32m--> 157\u001b[0m     \u001b[38;5;28;01mraise\u001b[39;00m \u001b[38;5;167;01mValueError\u001b[39;00m(\u001b[38;5;124m\"\u001b[39m\u001b[38;5;124m`ts` must be strictly increasing or decreasing.\u001b[39m\u001b[38;5;124m\"\u001b[39m)\n\u001b[1;32m    159\u001b[0m \u001b[38;5;28mself\u001b[39m\u001b[38;5;241m.\u001b[39mn_segments \u001b[38;5;241m=\u001b[39m \u001b[38;5;28mlen\u001b[39m(interpolants)\n\u001b[1;32m    160\u001b[0m \u001b[38;5;28;01mif\u001b[39;00m ts\u001b[38;5;241m.\u001b[39mshape \u001b[38;5;241m!=\u001b[39m (\u001b[38;5;28mself\u001b[39m\u001b[38;5;241m.\u001b[39mn_segments \u001b[38;5;241m+\u001b[39m \u001b[38;5;241m1\u001b[39m,):\n",
      "\u001b[0;31mValueError\u001b[0m: `ts` must be strictly increasing or decreasing."
     ]
    },
    {
     "data": {
      "image/png": "[encoded data removed]",
      "text/plain": [
       "<Figure size 720x360 with 1 Axes>"
      ]
     },
     "metadata": {
      "needs_background": "light"
     },
     "output_type": "display_data"
    }
   ],
   "source": [
    "sp = ms.SystemProp(m1, m2, spike, D_luminosity)   # Create the SystemProp object describing the IMRI system\n",
    "\n",
    "# Setting initial and final conditions of the binary evolution for an eccentric orbit\n",
    "\n",
    "a0_array = np.linspace(1e-6*a_0, 1e-8*a_0, 3)\n",
    "\n",
    "e0_array = np.linspace(0.7, 0.3, 3) \n",
    "\n",
    "a0_list = a0_array.tolist()            \n",
    "\n",
    "e0_list = e0_array.tolist()\n",
    "\n",
    "\n",
    "a_fin = sp.r_isco()      # Choosen equal to r_icso\n",
    "\n",
    "R_fin = sp.r_isco()      # The final condition for the evolution\n",
    "\n",
    "\n",
    "\n",
    "plt.figure(figsize = (10, 5))\n",
    "t_m_list = np.zeros(len(e0_list))\n",
    "j_i_list = np.zeros(len(e0_list))\n",
    "\n",
    "\n",
    "for i, a0 in enumerate (a0_list):\n",
    "    for k, e0 in enumerate (e0_list):\n",
    "        a0 = a0_list[i] * sp.r_isco()\n",
    "        e_0 = e0_list[k] \n",
    "        j_i_list[k] = np.sqrt(1 - (e0**2))\n",
    "        ev_ecc = imripy.inspiral.Classic.Evolve(sp, a0 , e_0,  a_fin = R_fin)\n",
    "        t_m_list[k] = ev_ecc.t[-1]/ms.year_to_pc\n",
    "    plt.loglog(j_i_list, t_m_list, '--o')\n",
    "    \n",
    "    \n",
    "    \n",
    "plt.legend([ '%0.1f'% a0_list[0], '%0.1f'% a0_list[1], '%0.1f'% a0_list[2] ], \n",
    "           title= '$a_{i} \\hspace{0.2} [r_{isco}]$', \n",
    "            title_fontsize = 12, loc = 'lower right', prop = {\"size\":8})\n",
    "plt.xlabel('$j_{i}$', fontsize = 13)\n",
    "plt.ylabel('final merger time / yr', fontsize = 12)\n",
    "plt.title('t_m vs j_i for m_1 = 1 M☉ and m_2 = 10^-3 M☉ with halos')\n",
    "plt.grid()\n",
    "plt.show()"
   ]
  },
  {
   "cell_type": "code",
   "execution_count": null,
   "id": "1fd58b49-5c01-4fc3-b88b-1c09e356fbb9",
   "metadata": {},
   "outputs": [],
   "source": []
  }
 ],
 "metadata": {
  "kernelspec": {
   "display_name": "Python 3 (ipykernel)",
   "language": "python",
   "name": "python3"
  },
  "language_info": {
   "codemirror_mode": {
    "name": "ipython",
    "version": 3
   },
   "file_extension": ".py",
   "mimetype": "text/x-python",
   "name": "python",
   "nbconvert_exporter": "python",
   "pygments_lexer": "ipython3",
   "version": "3.9.12"
  }
 },
 "nbformat": 4,
 "nbformat_minor": 5
}
