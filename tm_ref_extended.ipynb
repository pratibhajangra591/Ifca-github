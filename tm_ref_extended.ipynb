{
 "cells": [
  {
   "cell_type": "code",
   "execution_count": 37,
   "id": "3069c0d1-d4b9-423d-9c56-6e5276e8bc7c",
   "metadata": {},
   "outputs": [
    {
     "name": "stdout",
     "output_type": "stream",
     "text": [
      "dy= 0.6931471805599454\n",
      "a_initial=  0.00643464971052437\n",
      "Evolving from  2.234253371709851e+19  to  1.0 r_isco  with initial eccentricity 0.999999499999875  with  Options: accretion = False, haloPhaseSpaceDescription = False, accuracy = 1.0e-08\n"
     ]
    },
    {
     "name": "stderr",
     "output_type": "stream",
     "text": [
      "/home/pratibhajangra/Desktop/Work/imripy-main/src/imripy/inspiral.py:534: IntegrationWarning: The integral is probably divergent, or slowly convergent.\n",
      "  t_coal = t_coal * 48./19. / g(e_0)**4 * quad(lambda e: g(e)**4 *(1-e**2)**(5./2.) /e/(1. + 121./304. * e**2), 0., e_0, limit=100)[0]   # The inspiral time according to Maggiore (2007)\n",
      "/home/pratibhajangra/Desktop/Work/imripy-main/src/imripy/inspiral.py:335: RuntimeWarning: invalid value encountered in sqrt\n",
      "  v_s = np.sqrt(sp.m_total(a) *(2./r - 1./a))\n",
      "/home/pratibhajangra/Desktop/Work/imripy-main/src/imripy/halo.py:321: RuntimeWarning: invalid value encountered in double_scalars\n",
      "  return np.where(r > self.r_min, self.rho_spike * (self.r_spike/r)**self.alpha, 0.)\n",
      "/home/pratibhajangra/Desktop/Work/imripy-main/src/imripy/inspiral.py:337: IntegrationWarning: The occurrence of roundoff error is detected, which prevents \n",
      "  the requested tolerance from being achieved.  The error may be \n",
      "  underestimated.\n",
      "  return -(1.-e**2)**(3./2.)/2./np.pi * quad(integrand, 0., 2.*np.pi, limit = 100)[0]\n",
      "/home/pratibhajangra/Desktop/Work/imripy-main/src/imripy/inspiral.py:172: RuntimeWarning: invalid value encountered in double_scalars\n",
      "  return -32./5. * sp.m_reduced(a)**2 * sp.m_total(a)**(5./2.) / a**(7./2.)  / (1. - e**2)**2 * (1. + 7./8.*e**2)\n",
      "/home/pratibhajangra/Desktop/Work/imripy-main/src/imripy/inspiral.py:361: RuntimeWarning: invalid value encountered in sqrt\n",
      "  return -(1.-e**2)**(3./2.)/2./np.pi *np.sqrt(sp.m_total(a) * a*(1.-e**2)) *  quad(integrand, 0., 2.*np.pi, limit = 100)[0]\n",
      "/home/pratibhajangra/Desktop/Work/imripy-main/src/imripy/inspiral.py:359: RuntimeWarning: invalid value encountered in sqrt\n",
      "  v_s = np.sqrt(sp.m_total(a) *(2./r - 1./a))\n",
      "/home/pratibhajangra/Desktop/Work/imripy-main/src/imripy/inspiral.py:361: IntegrationWarning: The occurrence of roundoff error is detected, which prevents \n",
      "  the requested tolerance from being achieved.  The error may be \n",
      "  underestimated.\n",
      "  return -(1.-e**2)**(3./2.)/2./np.pi *np.sqrt(sp.m_total(a) * a*(1.-e**2)) *  quad(integrand, 0., 2.*np.pi, limit = 100)[0]\n",
      "/home/pratibhajangra/Desktop/Work/imripy-main/src/imripy/inspiral.py:133: RuntimeWarning: invalid value encountered in sqrt\n",
      "  return np.sqrt(a * (1-e**2) * sp.m_total(a) * sp.m_reduced(a)**2 )\n"
     ]
    },
    {
     "name": "stdout",
     "output_type": "stream",
     "text": [
      "Required step size is less than spacing between numbers.\n",
      " -> Evolution took 3.5515s\n",
      "here\n",
      "Evolving from  2.234253371709851e+19  to  1.0 r_isco  with initial eccentricity 0.9999976792028902  with  Options: accretion = False, haloPhaseSpaceDescription = False, accuracy = 1.0e-08\n"
     ]
    },
    {
     "name": "stderr",
     "output_type": "stream",
     "text": [
      "/home/pratibhajangra/Desktop/Work/imripy-main/src/imripy/inspiral.py:153: RuntimeWarning: invalid value encountered in double_scalars\n",
      "  return -32./5. * sp.m_reduced(a)**2 * sp.m_total(a)**3 / a**5  / (1. - e**2)**(7./2.) * (1. + 73./24. * e**2 + 37./96. * e**4)\n",
      "/home/pratibhajangra/Desktop/Work/imripy-main/src/imripy/inspiral.py:337: RuntimeWarning: invalid value encountered in double_scalars\n",
      "  return -(1.-e**2)**(3./2.)/2./np.pi * quad(integrand, 0., 2.*np.pi, limit = 100)[0]\n",
      "/home/pratibhajangra/Desktop/Work/imripy-main/src/imripy/inspiral.py:361: RuntimeWarning: invalid value encountered in double_scalars\n",
      "  return -(1.-e**2)**(3./2.)/2./np.pi *np.sqrt(sp.m_total(a) * a*(1.-e**2)) *  quad(integrand, 0., 2.*np.pi, limit = 100)[0]\n"
     ]
    },
    {
     "name": "stdout",
     "output_type": "stream",
     "text": [
      "Required step size is less than spacing between numbers.\n",
      " -> Evolution took 3.5622s\n",
      "here\n",
      "Evolving from  2.234253371709851e+19  to  1.0 r_isco  with initial eccentricity 0.9999892277685294  with  Options: accretion = False, haloPhaseSpaceDescription = False, accuracy = 1.0e-08\n",
      "Required step size is less than spacing between numbers.\n",
      " -> Evolution took 3.3859s\n",
      "here\n",
      "Evolving from  2.234253371709851e+19  to  1.0 r_isco  with initial eccentricity 0.9999499987499375  with  Options: accretion = False, haloPhaseSpaceDescription = False, accuracy = 1.0e-08\n",
      "Required step size is less than spacing between numbers.\n",
      " -> Evolution took 3.5349s\n",
      "here\n",
      "Evolving from  2.234253371709851e+19  to  1.0 r_isco  with initial eccentricity 0.9997678936216339  with  Options: accretion = False, haloPhaseSpaceDescription = False, accuracy = 1.0e-08\n",
      "Required step size is less than spacing between numbers.\n",
      " -> Evolution took 3.1878s\n",
      "here\n",
      "Evolving from  2.234253371709851e+19  to  1.0 r_isco  with initial eccentricity 0.998922201830537  with  Options: accretion = False, haloPhaseSpaceDescription = False, accuracy = 1.0e-08\n",
      "Required step size is less than spacing between numbers.\n",
      " -> Evolution took 3.4988s\n",
      "here\n",
      "Evolving from  2.234253371709851e+19  to  1.0 r_isco  with initial eccentricity 0.99498743710662  with  Options: accretion = False, haloPhaseSpaceDescription = False, accuracy = 1.0e-08\n",
      "Required step size is less than spacing between numbers.\n",
      " -> Evolution took 3.5744s\n",
      "here\n",
      "Evolving from  2.234253371709851e+19  to  1.0 r_isco  with initial eccentricity 0.9765163140797353  with  Options: accretion = False, haloPhaseSpaceDescription = False, accuracy = 1.0e-08\n",
      "Required step size is less than spacing between numbers.\n",
      " -> Evolution took 3.7306s\n",
      "here\n",
      "Evolving from  2.234253371709851e+19  to  1.0 r_isco  with initial eccentricity 0.8857519579412804  with  Options: accretion = False, haloPhaseSpaceDescription = False, accuracy = 1.0e-08\n",
      "Required step size is less than spacing between numbers.\n",
      " -> Evolution took 3.9416s\n",
      "here\n",
      "Evolving from  2.234253371709851e+19  to  1.0 r_isco   on circular orbits  with  Options: accretion = False, haloPhaseSpaceDescription = False, accuracy = 1.0e-08\n",
      "Required step size is less than spacing between numbers.\n",
      " -> Evolution took 0.0428s\n",
      "here\n",
      "[2.61500291e+12 3.71280788e+12 5.09578928e+12 6.59113883e+12\n",
      " 7.83954793e+12 8.57827325e+12 8.94407840e+12 9.69862239e+12\n",
      " 1.47571900e+13 5.55056365e+13]\n"
     ]
    },
    {
     "name": "stderr",
     "output_type": "stream",
     "text": [
      "/home/pratibhajangra/Desktop/Work/imripy-main/src/imripy/merger_system.py:202: RuntimeWarning: invalid value encountered in sqrt\n",
      "  return np.sqrt((self.mass(r) + self.m2)/r**3)\n",
      "/tmp/ipykernel_143939/4166884088.py:168: MatplotlibDeprecationWarning: savefig() got unexpected keyword argument \"bbon_inches\" which is no longer supported as of 3.3 and will become an error in 3.6\n",
      "  plt.savefig('tm_refvsj_i_ref.pdf', bbon_inches = 'tight')\n"
     ]
    },
    {
     "data": {
      "image/png": "[encoded data removed]",
      "text/plain": [
       "<Figure size 720x360 with 1 Axes>"
      ]
     },
     "metadata": {
      "needs_background": "light"
     },
     "output_type": "display_data"
    }
   ],
   "source": [
    "import numpy as np\n",
    "import matplotlib.pyplot as plt\n",
    "import imripy\n",
    "from imripy import merger_system as ms\n",
    "from scipy.interpolate import interp1d\n",
    "from matplotlib.ticker import FormatStrFormatter\n",
    "from scipy.optimize import curve_fit\n",
    "from numpy import diff\n",
    "\n",
    "plt.rcParams.update({\n",
    "  \"text.usetex\": True,\n",
    "  \"font.family\": \"serif\"\n",
    "})\n",
    "\n",
    "\n",
    "\n",
    "π = np.pi\n",
    "G = 4.4959e-15            #in units of M☉^-1 pc^3 yr^-2\n",
    "c = 0.3068                #in units of pc yr^-1\n",
    "ρ_eq = 3.1812e3           #in units of M☉ pc^-3 with ρ_eq=2.15368e-16 kg m^-3\n",
    "t_m = 13.78e9             #in units of yrs corresponding to t_0=13.78Gyr\n",
    "yr = 3.154e7              # in units of seconds\n",
    "t_eq = 1.59246e12/yr      # in units of yr\n",
    "M_solar = 1.989e30\n",
    "\n",
    "\n",
    "# Definition of the binary system \n",
    "\n",
    "\n",
    "m_1 = 1e-3   #in units of M☉\n",
    "m_2 = 2*m_1   #in units of M☉\n",
    "\n",
    "y_1 = np.log(m_1)\n",
    "y_2 = np.log(m_2)\n",
    "dy  = (y_2 - y_1)\n",
    "\n",
    "print(\"dy=\",dy)\n",
    "\n",
    "y_list = np.zeros(20)\n",
    "m_1_list = np.zeros(len(y_list))\n",
    "m_2_list = np.zeros(len(y_list))\n",
    "\n",
    "for i in range(len(y_list)):\n",
    "    m_1_list[i] = m_2_list[i] = (m_1 + ((i/4)*np.exp(dy)))\n",
    "\n",
    "Δ_1_list = np.zeros(len(y_list))\n",
    "Δ_2_list = np.zeros(len(y_list))\n",
    "\n",
    "for i, m_1 in enumerate(m_1_list):\n",
    "    Δ_1_list[i] =  Δ_2_list[i] = np.exp(m_1 + 0.5*dy) - np.exp(m_1 - 0.5*dy)\n",
    "     \n",
    "\n",
    "    \n",
    "\n",
    "    \n",
    "def a(m_1,m_2,Δ_1,Δ_2):  # for x = x_bar \n",
    "    \n",
    "    f_pbh = 4.3e-3\n",
    "    f = 0.85 * f_pbh\n",
    "        \n",
    "          \n",
    "    def P(m): #Powerlaw PBH mass distribution\n",
    "        α = 1.6\n",
    "        M = 1e-4     #in units of M☉\n",
    "        return ((α-1)/M) * ((m/M)**(-α))\n",
    "\n",
    "    \n",
    "    def f_(m):\n",
    "        return f*P(m)\n",
    "    \n",
    "    def f_b(m_1,m_2):\n",
    "        return  f_(m_1)+f_(m_2)\n",
    "    \n",
    "    def x̄(m_1,m_2,Δ_1,Δ_2):\n",
    "        return (((3*(m_1+m_2))/(8*π*ρ_eq*f_b(m_1,m_2)*np.sqrt(Δ_1*Δ_2)))**(1/3))\n",
    "   \n",
    "    def λ(m_1,m_2,Δ_1,Δ_2):\n",
    "        return (8*π*ρ_eq*(x̄(m_1,m_2,Δ_1,Δ_2)**3))/(3*(m_1 + m_2))\n",
    "\n",
    "    \n",
    "    return ( 0.0977*λ(m_1,m_2,Δ_1,Δ_2) + 0.0057*(λ(m_1,m_2,Δ_1,Δ_2)**2) ) * x̄(m_1,m_2,Δ_1,Δ_2)\n",
    "\n",
    "\n",
    "\n",
    "\n",
    "\n",
    "a_initial = a(m_1_list[2], m_2_list[0], Δ_1_list[2], Δ_2_list[0])\n",
    "\n",
    "\n",
    "print(\"a_initial= \", a_initial)\n",
    "\n",
    "\n",
    "# Setting initial and final conditions of the binary evolution for an eccentric orbit\n",
    "a_i_ref = a_initial * 1e9\n",
    "j0_array = np.geomspace(1e-3, 1, 10)\n",
    "j0_ref_list = j0_array.tolist()\n",
    "\n",
    "\n",
    "\n",
    "\n",
    "\n",
    "plt.figure(figsize = (10, 5))\n",
    "plt.rc('lines', linewidth=1)\n",
    "plt.rcParams['xtick.direction'] = 'in'\n",
    "plt.rcParams['ytick.direction'] = 'in'\n",
    "plt.tick_params(which='both', right=True, top=True)\n",
    "\n",
    "\n",
    "\n",
    "\n",
    "\n",
    "\n",
    "tm_ref_list = np.zeros(len(j0_ref_list))\n",
    "T_list = np.zeros(len(j0_ref_list))\n",
    "\n",
    "\n",
    "for k, j0 in enumerate (j0_ref_list):\n",
    "    m_bar = 1\n",
    "    m1 =  m_bar * ms.solar_mass_to_pc  \n",
    "    m2 = 1e-3 * ms.solar_mass_to_pc   \n",
    "    D_luminosity = 5e8              \n",
    "    ρ_bar = (ρ_eq/2) * (t_eq**(3/2)) * ((2 * G * m_bar)**(3/4))   \n",
    "    r_spike = 1  # in parsecs, Choosen by choice\n",
    "    alpha = 9/4\n",
    "    rho_spike =  ρ_bar * (r_spike**(-alpha)) * ms.solar_mass_to_pc  \n",
    "    spike = imripy.halo.Spike(rho_spike, r_spike, alpha)\n",
    "    sp = ms.SystemProp(m1, m2, spike, D_luminosity)\n",
    "    a_fin = sp.r_isco()      # Choosen equal to r_icso\n",
    "    R_fin = sp.r_isco()      # The final condition for the evolution\n",
    "    e0 = np.sqrt(1 -(j0**2))\n",
    "    \n",
    "    \n",
    "    m_2_ref = 1 # in units of solar mass\n",
    "    T = 1e-5 * (t_m * ms.year_to_pc ) * ((m2/m_2_ref)**(-1))\n",
    "    \n",
    "    ev_ecc = imripy.inspiral.Classic.Evolve(sp, a_i_ref , e0,  a_fin = R_fin, t_fin = T)\n",
    "    tm = ev_ecc.t[-1]\n",
    "    \n",
    "    print(\"here\")\n",
    "    while np.isclose(T, tm) == True: \n",
    "        T = T * 1000\n",
    "        ev_ecc = imripy.inspiral.Classic.Evolve(sp, a_i, e0,  a_fin = R_fin, t_fin = T)\n",
    "        tm = ev_ecc.t[-1]\n",
    "        \n",
    "            \n",
    "            \n",
    "    tm_ref_list[k] = tm/ms.year_to_pc\n",
    "    T_list[k] =  T/ms.year_to_pc\n",
    "      \n",
    "    \n",
    "   \n",
    "   \n",
    "    \n",
    "    np.savez(\"tmofjo\",  j0_ref_list,  tm_ref_list)\n",
    "\n",
    "    \n",
    "    \n",
    "plt.loglog(j0_ref_list, tm_ref_list, '--o')\n",
    "\n",
    "\n",
    "print(tm_ref_list)\n",
    "    \n",
    "\n",
    "plt.xlabel('$j_{i}$', fontsize = 13)\n",
    "plt.ylabel('final merger time / yr', fontsize = 12)\n",
    "plt.title('$m_{1} = 1 \\, M_{\\odot}$ and $m_{2}= 10^{-3} \\,  M_{\\odot}$ ')\n",
    "plt.grid()\n",
    "plt.savefig('tm_refvsj_i_ref.pdf', bbon_inches = 'tight')\n",
    "plt.show()"
   ]
  },
  {
   "cell_type": "code",
   "execution_count": 80,
   "id": "f0fdcab4-1553-4400-827c-c26d550ca387",
   "metadata": {},
   "outputs": [
    {
     "name": "stderr",
     "output_type": "stream",
     "text": [
      "/home/pratibhajangra/miniconda3/envs/PhD/lib/python3.9/site-packages/scipy/optimize/minpack.py:833: OptimizeWarning: Covariance of the parameters could not be estimated\n",
      "  warnings.warn('Covariance of the parameters could not be estimated',\n"
     ]
    },
    {
     "name": "stdout",
     "output_type": "stream",
     "text": [
      "A = 54583249.628572494\n",
      "B = 1.0\n"
     ]
    },
    {
     "data": {
      "image/png": "[encoded data removed]",
      "text/plain": [
       "<Figure size 432x288 with 1 Axes>"
      ]
     },
     "metadata": {
      "needs_background": "light"
     },
     "output_type": "display_data"
    },
    {
     "name": "stdout",
     "output_type": "stream",
     "text": [
      "5.458e+13\n"
     ]
    }
   ],
   "source": [
    "import numpy as np\n",
    "import matplotlib.pyplot as plt\n",
    "from scipy.optimize import curve_fit\n",
    "\n",
    "\n",
    "def f(j0, A, B):  \n",
    "    y =  1e6* (j0**0.44) * A \n",
    "    return y\n",
    "\n",
    "\n",
    "j  = (j0_ref_list[0], j0_ref_list[1], j0_ref_list[2] )\n",
    "t  = (tm_ref_list[0], tm_ref_list[1], tm_ref_list[2])\n",
    "\n",
    "j0 = np.array(j)\n",
    "tm = np.array(t)\n",
    "\n",
    "\n",
    "\n",
    "\n",
    "parameters, covariance = curve_fit(f, j0, tm)\n",
    "fit_A = parameters[0]\n",
    "fit_B = parameters[1]\n",
    "print(\"A =\", fit_A)\n",
    "print(\"B =\", fit_B)\n",
    "\n",
    "\n",
    "fit_y = f(j0, fit_A, fit_B)\n",
    "plt.loglog(j0, tm, 'o', label='data')\n",
    "plt.plot(j0, fit_y, '-', label='fit')\n",
    "plt.xlabel('$j_{i}$', fontsize = 13)\n",
    "plt.ylabel('final merger time / yr', fontsize = 12)\n",
    "plt.title('$m_{1} = 1 \\, M_{\\odot}$ and $m_{2}= 10^{-3} \\,  M_{\\odot}$ ')\n",
    "plt.grid()\n",
    "plt.legend()\n",
    "plt.savefig('extrapolate.pdf', bbox_inches = 'tight')\n",
    "plt.show()\n",
    "\n",
    "\n",
    "print('%0.3e'%(1e6 * fit_A))\n",
    "\n",
    "\n",
    "\n",
    "# as per the fit t_m = 5.458e+13 * (j0**0.44)."
   ]
  },
  {
   "cell_type": "code",
   "execution_count": 88,
   "id": "0e597496-ceb2-400a-af16-1162909fc28b",
   "metadata": {},
   "outputs": [
    {
     "data": {
      "image/png": "[encoded data removed]",
      "text/plain": [
       "<Figure size 432x288 with 1 Axes>"
      ]
     },
     "metadata": {
      "needs_background": "light"
     },
     "output_type": "display_data"
    },
    {
     "name": "stdout",
     "output_type": "stream",
     "text": [
      "j0_lower_values = [1e-06, 1.6681005372000591e-06, 2.782559402207126e-06, 4.641588833612782e-06, 7.742636826811277e-06, 1.2915496650148827e-05, 2.1544346900318823e-05, 3.5938136638046256e-05, 5.994842503189409e-05, 0.0001]\n",
      "\u000b",
      "\n",
      "final merger time / yr = [1.25035556e+11 1.56607050e+11 1.96150350e+11 2.45678338e+11\n",
      " 3.07712148e+11 3.85409504e+11 4.82725452e+11 6.04613689e+11\n",
      " 7.57278721e+11 9.48491692e+11]\n"
     ]
    }
   ],
   "source": [
    "j0_array_2 = np.geomspace(1e-6, 1e-4, 10)\n",
    "\n",
    "j0_array_2_list = j0_array_2.tolist()\n",
    "\n",
    "def t_final_merger(j0):\n",
    "    return  (5.458e+13 * (j0**0.44))\n",
    "    \n",
    "t_final_merger_list = np.zeros(len(j0_array_2))\n",
    "\n",
    "for i, j0 in enumerate(j0_array_2_list):\n",
    "    t_final_merger_list[i] = t_final_merger(j0)\n",
    "    \n",
    "    \n",
    "plt.loglog(j0_array_2_list, t_final_merger_list, 'g')\n",
    "plt.xlabel('$j_{i}$')\n",
    "plt.ylabel('$final merger time/yr$')\n",
    "plt.show()\n",
    "\n",
    "\n",
    "print(\"j0_lower_values =\", j0_array_2_list)\n",
    "print('\\v')\n",
    "print(\"final merger time / yr =\", t_final_merger_list)"
   ]
  },
  {
   "cell_type": "code",
   "execution_count": 91,
   "id": "f28141f4-3e70-4a4e-b449-34348976ed34",
   "metadata": {},
   "outputs": [],
   "source": [
    "file = np.load('tmofjo.npz')\n",
    "ji_ref_list = file['arr_0']\n",
    "tm_ref_list = file['arr_1']\n",
    "\n",
    "\n",
    "j_initial_list =  j0_array_2_list + j0_ref_list\n",
    "\n",
    "\n",
    "\n",
    "t_final_list =  np.append(t_final_merger_list, tm_ref_list)\n",
    "\n",
    "\n",
    "\n",
    "\n",
    "np.savez(\"tm_ofj_initial\",  j_initial_list,  t_final_list)"
   ]
  },
  {
   "cell_type": "code",
   "execution_count": null,
   "id": "50694596-51df-4471-9089-a228ad2da8ec",
   "metadata": {},
   "outputs": [],
   "source": []
  },
  {
   "cell_type": "code",
   "execution_count": null,
   "id": "84afceb2-7693-45cf-a8c3-70ab6d233e0f",
   "metadata": {},
   "outputs": [],
   "source": []
  },
  {
   "cell_type": "code",
   "execution_count": null,
   "id": "f2c08183-cf5d-445e-a5d3-f8cc38d4f359",
   "metadata": {},
   "outputs": [],
   "source": []
  }
 ],
 "metadata": {
  "kernelspec": {
   "display_name": "Python 3 (ipykernel)",
   "language": "python",
   "name": "python3"
  },
  "language_info": {
   "codemirror_mode": {
    "name": "ipython",
    "version": 3
   },
   "file_extension": ".py",
   "mimetype": "text/x-python",
   "name": "python",
   "nbconvert_exporter": "python",
   "pygments_lexer": "ipython3",
   "version": "3.9.12"
  }
 },
 "nbformat": 4,
 "nbformat_minor": 5
}
