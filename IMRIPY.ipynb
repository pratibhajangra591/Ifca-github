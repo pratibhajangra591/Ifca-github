{
 "cells": [
  {
   "cell_type": "code",
   "execution_count": 2,
   "metadata": {},
   "outputs": [
    {
     "data": {
      "image/png": "[encoded data removed]",
      "text/plain": [
       "<Figure size 432x288 with 1 Axes>"
      ]
     },
     "metadata": {
      "needs_background": "light"
     },
     "output_type": "display_data"
    }
   ],
   "source": [
    "from imripy import * \n",
    "\n",
    "# Dark matter spike with alpha=9/4 for Primordial black holes case\n",
    "r_spike = 0.54  # in parsecs\n",
    "\n",
    "alpha = 9/4\n",
    "\n",
    "rho_spike = 226. * solar_mass_to_pc  # This takes the value of 226 M_sun/pc^3 and converts it to 1/pc^2\n",
    "\n",
    "spike = Spike(rho_spike, r_spike, alpha)\n",
    "\n",
    "\n",
    "\n",
    "\n",
    "# Plot density\n",
    "r_grid = np.geomspace(1e-8, 1e3, 100)  # creates a grid in pc\n",
    "plt.loglog(r_grid, spike.density(r_grid), label='spike')\n",
    "plt.grid()\n",
    "plt.xlabel(\"radius / pc\")\n",
    "plt.ylabel(\"density / 1/pc$^2$\")\n",
    "plt.title('Density for alpha_spike=9/4')\n",
    "plt.show()\n"
   ]
  },
  {
   "cell_type": "code",
   "execution_count": 3,
   "metadata": {},
   "outputs": [],
   "source": [
    "# Definition of the binary system \n",
    "\n",
    "m1 =  1 * solar_mass_to_pc   # The central mass m1 with a mass of 1 solar masses, converted to pc\n",
    "\n",
    "m2 = 1e-3 * solar_mass_to_pc   # The secondary mass of 1e-3 solar mass converted to pc\n",
    "\n",
    "D_luminosity = 5e8              # The distance to the system from earth as 500 Mpc\n",
    "\n",
    "sp = SystemProp(m1, m2, spike, D_luminosity)   # Create the SystemProp object describing the IMRI system\n"
   ]
  },
  {
   "cell_type": "code",
   "execution_count": 6,
   "metadata": {},
   "outputs": [],
   "source": [
    "# Setting initial and the final conditions of the binary evolution for an eccentric orbit\n",
    "\n",
    "a0 = 50. * sp.r_isco()  \n",
    "e0 = 0.999    \n",
    "\n",
    "a_fin = sp.r_isco() \n",
    "\n",
    "R_fin = sp.r_isco()      # The final condition for the evolution"
   ]
  },
  {
   "cell_type": "code",
   "execution_count": 12,
   "metadata": {},
   "outputs": [
    {
     "ename": "NameError",
     "evalue": "name 'imripy' is not defined",
     "output_type": "error",
     "traceback": [
      "\u001b[0;31m---------------------------------------------------------------------------\u001b[0m",
      "\u001b[0;31mNameError\u001b[0m                                 Traceback (most recent call last)",
      "\u001b[0;32m<ipython-input-12-2f758957f6a4>\u001b[0m in \u001b[0;36m<module>\u001b[0;34m\u001b[0m\n\u001b[1;32m      1\u001b[0m \u001b[0;31m# Solving the differential equation of the binary evolution\u001b[0m\u001b[0;34m\u001b[0m\u001b[0;34m\u001b[0m\u001b[0;34m\u001b[0m\u001b[0m\n\u001b[1;32m      2\u001b[0m \u001b[0;34m\u001b[0m\u001b[0m\n\u001b[0;32m----> 3\u001b[0;31m \u001b[0mev_ecc\u001b[0m \u001b[0;34m=\u001b[0m \u001b[0mimripy\u001b[0m\u001b[0;34m.\u001b[0m\u001b[0minspiral\u001b[0m\u001b[0;34m.\u001b[0m\u001b[0mClassic\u001b[0m\u001b[0;34m.\u001b[0m\u001b[0mEvolve\u001b[0m\u001b[0;34m(\u001b[0m\u001b[0msp\u001b[0m\u001b[0;34m,\u001b[0m \u001b[0ma0\u001b[0m\u001b[0;34m,\u001b[0m \u001b[0me_0\u001b[0m\u001b[0;34m=\u001b[0m\u001b[0me0\u001b[0m\u001b[0;34m,\u001b[0m  \u001b[0ma_fin\u001b[0m \u001b[0;34m=\u001b[0m \u001b[0mR_fin\u001b[0m\u001b[0;34m)\u001b[0m\u001b[0;34m\u001b[0m\u001b[0;34m\u001b[0m\u001b[0m\n\u001b[0m",
      "\u001b[0;31mNameError\u001b[0m: name 'imripy' is not defined"
     ]
    }
   ],
   "source": [
    "# Solving the differential equation of the binary evolution\n",
    "\n",
    "ev_ecc = imripy.inspiral.Classic.Evolve(sp, a0, e_0=e0,  a_fin = R_fin)"
   ]
  },
  {
   "cell_type": "code",
   "execution_count": null,
   "metadata": {},
   "outputs": [],
   "source": []
  }
 ],
 "metadata": {
  "kernelspec": {
   "display_name": "Python 3",
   "language": "python",
   "name": "python3"
  },
  "language_info": {
   "codemirror_mode": {
    "name": "ipython",
    "version": 3
   },
   "file_extension": ".py",
   "mimetype": "text/x-python",
   "name": "python",
   "nbconvert_exporter": "python",
   "pygments_lexer": "ipython3",
   "version": "3.8.5"
  }
 },
 "nbformat": 4,
 "nbformat_minor": 4
}
