{
 "cells": [
  {
   "cell_type": "code",
   "execution_count": 13,
   "id": "cd2643b0-3284-410d-bed2-93f11d6f5ac3",
   "metadata": {},
   "outputs": [
    {
     "name": "stdout",
     "output_type": "stream",
     "text": [
      "dy= 0.6931471805599454\n"
     ]
    }
   ],
   "source": [
    "import numpy as np\n",
    "import matplotlib.pyplot as plt\n",
    "import imripy\n",
    "from imripy import merger_system as ms\n",
    "from scipy.interpolate import interp1d\n",
    "from matplotlib.ticker import FormatStrFormatter\n",
    "from scipy.optimize import curve_fit\n",
    "from numpy import diff\n",
    "\n",
    "plt.rcParams.update({\n",
    "  \"text.usetex\": True,\n",
    "  \"font.family\": \"serif\"\n",
    "})\n",
    "\n",
    "π = np.pi\n",
    "G = 4.4959e-15            #in units of M☉^-1 pc^3 yr^-2\n",
    "c = 0.3068                #in units of pc yr^-1\n",
    "ρ_eq = 3.1812e3           #in units of M☉ pc^-3 with ρ_eq=2.15368e-16 kg m^-3\n",
    "t_m = 13.78e9             #in units of yrs corresponding to t_0=13.78Gyr\n",
    "yr = 3.154e7              # in units of seconds\n",
    "t_eq = 1.59246e12/yr      # in units of yr\n",
    "M_solar = 1.989e30\n",
    "\n",
    "\n",
    "# Definition of the binary system \n",
    "m_bar = 1\n",
    "\n",
    "D_luminosity = 5e8              # The distance to the system from earth as 500 Mpc\n",
    "\n",
    "\n",
    "\n",
    "ρ_bar = (ρ_eq/2) * (t_eq**(3/2)) * ((2 * G * m_bar)**(3/4))\n",
    "\n",
    "\n",
    "\n",
    "# Dark matter spike with alpha=9/4 for Primordial black holes case\n",
    "r_spike = 1  # in parsecs, Choosen by choice\n",
    "\n",
    "alpha = 9/4\n",
    "\n",
    "rho_spike =  ρ_bar * (r_spike**(-alpha)) * ms.solar_mass_to_pc  # This takes the value of M_sun/pc^3 and converts it to 1/pc^2\n",
    "\n",
    "spike = imripy.halo.Spike(rho_spike, r_spike, alpha)\n",
    "\n",
    "\n",
    "\n",
    "m_1 = 1e-3   #in units of M☉\n",
    "m_2 = 2*m_1   #in units of M☉\n",
    "\n",
    "y_1 = np.log(m_1)\n",
    "y_2 = np.log(m_2)\n",
    "dy  = (y_2 - y_1)\n",
    "\n",
    "print(\"dy=\",dy)\n",
    "\n",
    "y_list = np.zeros(20)\n",
    "m_1_list = np.zeros(len(y_list))\n",
    "m_2_list = np.zeros(len(y_list))\n",
    "\n",
    "for i in range(len(y_list)):\n",
    "    m_1_list[i] = m_2_list[i] = (m_1 + ((i/4)*np.exp(dy)))\n",
    "\n",
    "Δ_1_list = np.zeros(len(y_list))\n",
    "Δ_2_list = np.zeros(len(y_list))\n",
    "\n",
    "for i, m_1 in enumerate(m_1_list):\n",
    "    Δ_1_list[i] =  Δ_2_list[i] = np.exp(m_1 + 0.5*dy) - np.exp(m_1 - 0.5*dy)\n",
    "     \n",
    "\n",
    "    \n",
    "\n",
    "    \n",
    "def a(m_1,m_2,Δ_1,Δ_2):\n",
    "    \n",
    "    f_pbh = 4.3e-3\n",
    "    f = 0.85 * f_pbh\n",
    "        \n",
    "          \n",
    "    def P(m): #Powerlaw PBH mass distribution\n",
    "        α = 2.6\n",
    "        M = 1e-4     #in units of M☉\n",
    "        return ((α-1)/M) * ((m/M)**(-α))\n",
    "\n",
    "    \n",
    "    def f_(m):\n",
    "        return f*P(m)\n",
    "    \n",
    "    def f_b(m_1,m_2):\n",
    "        return  f_(m_1)+f_(m_2)\n",
    "    \n",
    "    def x̄(m_1,m_2,Δ_1,Δ_2):\n",
    "        return (((3*(m_1+m_2))/(8*π*ρ_eq*f_b(m_1,m_2)*np.sqrt(Δ_1*Δ_2)))**(1/3))\n",
    "   \n",
    "    def λ(m_1,m_2,Δ_1,Δ_2):\n",
    "        return (8*π*ρ_eq*(x̄(m_1,m_2,Δ_1,Δ_2)**3))/(3*(m_1 + m_2))\n",
    "\n",
    "    \n",
    "    return ( 0.0977*λ(m_1,m_2,Δ_1,Δ_2) + 0.0057*(λ(m_1,m_2,Δ_1,Δ_2)**2) ) * x̄(m_1,m_2,Δ_1,Δ_2)\n",
    "\n",
    "\n",
    "\n",
    "\n",
    "\n",
    "a_1 = a(m_1_list[2], m_2_list[0], Δ_1_list[2], Δ_2_list[0])\n",
    "\n",
    "\n"
   ]
  },
  {
   "cell_type": "code",
   "execution_count": 14,
   "id": "5883a62b-de1e-47b8-aacc-7481619ea339",
   "metadata": {},
   "outputs": [
    {
     "name": "stdout",
     "output_type": "stream",
     "text": [
      "dy= 0.6931471805599436\n"
     ]
    }
   ],
   "source": [
    "m_1 = 1e-4   #in units of M☉\n",
    "m_2 = 2*m_1   #in units of M☉\n",
    "\n",
    "y_1 = np.log(m_1)\n",
    "y_2 = np.log(m_2)\n",
    "dy  = (y_2 - y_1)\n",
    "\n",
    "print(\"dy=\",dy)\n",
    "\n",
    "y_list = np.zeros(20)\n",
    "m_1_list = np.zeros(len(y_list))\n",
    "m_2_list = np.zeros(len(y_list))\n",
    "\n",
    "\n",
    "for i in range(len(y_list)):\n",
    "    m_1_list[i] = m_2_list[i] = (m_1 + ((i/4)*np.exp(dy)))\n",
    "    \n",
    "Δ_1_list = np.zeros(len(y_list))\n",
    "Δ_2_list = np.zeros(len(y_list))\n",
    "\n",
    "for i, m_1 in enumerate(m_1_list):\n",
    "    Δ_1_list[i] =  Δ_2_list[i] = np.exp(m_1 + 0.5*dy) - np.exp(m_1 - 0.5*dy)\n",
    "     \n",
    "a_2 = a(m_1_list[2], m_2_list[0], Δ_1_list[2], Δ_2_list[0])\n",
    "\n",
    "\n",
    " "
   ]
  },
  {
   "cell_type": "code",
   "execution_count": 15,
   "id": "c65d4ade-48fc-4057-ab3f-8022b722d61a",
   "metadata": {},
   "outputs": [],
   "source": [
    "m_1 = 10   #in units of M☉\n",
    "m_2 = 100   #in units of M☉\n",
    "\n",
    "y_1 = np.log(m_1)\n",
    "y_2 = np.log(m_2)\n",
    "dy = (y_2-y_1)\n",
    "\n",
    "\n",
    "y_list = np.zeros(10)\n",
    "\n",
    "for i in range(len(y_list)):\n",
    "    y_list[i] = (y_1 + (i/2)*dy)\n",
    "    \n",
    "\n",
    "M_1_list = np.zeros(len(y_list))\n",
    "M_2_list = np.zeros(len(y_list))\n",
    "\n",
    "for i, y in enumerate(y_list):\n",
    "    M_1_list[i] = (np.ceil(np.exp(y)))-1\n",
    "    M_2_list[i] = (np.ceil(np.exp(y)))-1\n",
    "    \n",
    "\n",
    "            \n",
    "m_1_list = [int(M_1) for M_1 in M_1_list]\n",
    "m_2_list = [int(M_2) for M_2 in M_2_list]\n",
    "\n",
    "    \n",
    "Δ_1_list = np.zeros(len(y_list))\n",
    "Δ_2_list = np.zeros(len(y_list))\n",
    "\n",
    "for i, y in enumerate(y_list):\n",
    "    Δ_1_list[i] = np.exp(y + 0.5*dy) - np.exp(y - 0.5*dy)\n",
    "    Δ_2_list[i] = np.exp(y + 0.5*dy) - np.exp(y - 0.5*dy) \n",
    "\n",
    "    \n",
    "\n",
    "\n",
    "a_3 = a(m_1_list[0], m_2_list[8], Δ_1_list[0], Δ_2_list[8])"
   ]
  },
  {
   "cell_type": "code",
   "execution_count": 26,
   "id": "afbd7b6d-37c5-4c0d-bc4b-63b0d99f7fe5",
   "metadata": {},
   "outputs": [
    {
     "name": "stdout",
     "output_type": "stream",
     "text": [
      "Evolving from  1.5995686318045546e+16  to  100000.0 r_isco  with initial eccentricity 0.99999  with  Options: accretion = False, haloPhaseSpaceDescription = False, accuracy = 1.0e-08\n"
     ]
    },
    {
     "name": "stderr",
     "output_type": "stream",
     "text": [
      "/home/pratibhajangra/imripy/src/imripy/inspiral.py:335: RuntimeWarning: invalid value encountered in sqrt\n",
      "  v_s = np.sqrt(sp.m_total(a) *(2./r - 1./a))\n",
      "/home/pratibhajangra/imripy/src/imripy/halo.py:321: RuntimeWarning: invalid value encountered in double_scalars\n",
      "  return np.where(r > self.r_min, self.rho_spike * (self.r_spike/r)**self.alpha, 0.)\n",
      "/home/pratibhajangra/imripy/src/imripy/inspiral.py:337: IntegrationWarning: The occurrence of roundoff error is detected, which prevents \n",
      "  the requested tolerance from being achieved.  The error may be \n",
      "  underestimated.\n",
      "  return -(1.-e**2)**(3./2.)/2./np.pi * quad(integrand, 0., 2.*np.pi, limit = 100)[0]\n",
      "/home/pratibhajangra/imripy/src/imripy/inspiral.py:172: RuntimeWarning: invalid value encountered in double_scalars\n",
      "  return -32./5. * sp.m_reduced(a)**2 * sp.m_total(a)**(5./2.) / a**(7./2.)  / (1. - e**2)**2 * (1. + 7./8.*e**2)\n",
      "/home/pratibhajangra/imripy/src/imripy/inspiral.py:361: RuntimeWarning: invalid value encountered in sqrt\n",
      "  return -(1.-e**2)**(3./2.)/2./np.pi *np.sqrt(sp.m_total(a) * a*(1.-e**2)) *  quad(integrand, 0., 2.*np.pi, limit = 100)[0]\n",
      "/home/pratibhajangra/imripy/src/imripy/inspiral.py:359: RuntimeWarning: invalid value encountered in sqrt\n",
      "  v_s = np.sqrt(sp.m_total(a) *(2./r - 1./a))\n",
      "/home/pratibhajangra/imripy/src/imripy/inspiral.py:361: IntegrationWarning: The occurrence of roundoff error is detected, which prevents \n",
      "  the requested tolerance from being achieved.  The error may be \n",
      "  underestimated.\n",
      "  return -(1.-e**2)**(3./2.)/2./np.pi *np.sqrt(sp.m_total(a) * a*(1.-e**2)) *  quad(integrand, 0., 2.*np.pi, limit = 100)[0]\n",
      "/home/pratibhajangra/imripy/src/imripy/inspiral.py:133: RuntimeWarning: invalid value encountered in sqrt\n",
      "  return np.sqrt(a * (1-e**2) * sp.m_total(a) * sp.m_reduced(a)**2 )\n",
      "/home/pratibhajangra/imripy/src/imripy/inspiral.py:153: RuntimeWarning: invalid value encountered in double_scalars\n",
      "  return -32./5. * sp.m_reduced(a)**2 * sp.m_total(a)**3 / a**5  / (1. - e**2)**(7./2.) * (1. + 73./24. * e**2 + 37./96. * e**4)\n",
      "/home/pratibhajangra/imripy/src/imripy/inspiral.py:337: RuntimeWarning: invalid value encountered in double_scalars\n",
      "  return -(1.-e**2)**(3./2.)/2./np.pi * quad(integrand, 0., 2.*np.pi, limit = 100)[0]\n",
      "/home/pratibhajangra/imripy/src/imripy/inspiral.py:361: RuntimeWarning: invalid value encountered in double_scalars\n",
      "  return -(1.-e**2)**(3./2.)/2./np.pi *np.sqrt(sp.m_total(a) * a*(1.-e**2)) *  quad(integrand, 0., 2.*np.pi, limit = 100)[0]\n"
     ]
    },
    {
     "name": "stdout",
     "output_type": "stream",
     "text": [
      "A termination event occurred.\n",
      " -> Evolution took 1.9105s\n",
      "Evolving from  408089321326120.8  to  100000.0 r_isco  with initial eccentricity 0.999  with  Options: accretion = False, haloPhaseSpaceDescription = False, accuracy = 1.0e-08\n"
     ]
    },
    {
     "name": "stderr",
     "output_type": "stream",
     "text": [
      "/home/pratibhajangra/imripy/src/imripy/inspiral.py:153: RuntimeWarning: invalid value encountered in double_scalars\n",
      "  return -32./5. * sp.m_reduced(a)**2 * sp.m_total(a)**3 / a**5  / (1. - e**2)**(7./2.) * (1. + 73./24. * e**2 + 37./96. * e**4)\n",
      "/home/pratibhajangra/imripy/src/imripy/inspiral.py:337: RuntimeWarning: invalid value encountered in double_scalars\n",
      "  return -(1.-e**2)**(3./2.)/2./np.pi * quad(integrand, 0., 2.*np.pi, limit = 100)[0]\n",
      "/home/pratibhajangra/imripy/src/imripy/inspiral.py:335: RuntimeWarning: invalid value encountered in sqrt\n",
      "  v_s = np.sqrt(sp.m_total(a) *(2./r - 1./a))\n",
      "/home/pratibhajangra/imripy/src/imripy/halo.py:321: RuntimeWarning: invalid value encountered in double_scalars\n",
      "  return np.where(r > self.r_min, self.rho_spike * (self.r_spike/r)**self.alpha, 0.)\n",
      "/home/pratibhajangra/imripy/src/imripy/inspiral.py:337: IntegrationWarning: The occurrence of roundoff error is detected, which prevents \n",
      "  the requested tolerance from being achieved.  The error may be \n",
      "  underestimated.\n",
      "  return -(1.-e**2)**(3./2.)/2./np.pi * quad(integrand, 0., 2.*np.pi, limit = 100)[0]\n",
      "/home/pratibhajangra/imripy/src/imripy/inspiral.py:361: RuntimeWarning: invalid value encountered in double_scalars\n",
      "  return -(1.-e**2)**(3./2.)/2./np.pi *np.sqrt(sp.m_total(a) * a*(1.-e**2)) *  quad(integrand, 0., 2.*np.pi, limit = 100)[0]\n",
      "/home/pratibhajangra/imripy/src/imripy/inspiral.py:361: RuntimeWarning: invalid value encountered in sqrt\n",
      "  return -(1.-e**2)**(3./2.)/2./np.pi *np.sqrt(sp.m_total(a) * a*(1.-e**2)) *  quad(integrand, 0., 2.*np.pi, limit = 100)[0]\n",
      "/home/pratibhajangra/imripy/src/imripy/inspiral.py:359: RuntimeWarning: invalid value encountered in sqrt\n",
      "  v_s = np.sqrt(sp.m_total(a) *(2./r - 1./a))\n",
      "/home/pratibhajangra/imripy/src/imripy/inspiral.py:361: IntegrationWarning: The occurrence of roundoff error is detected, which prevents \n",
      "  the requested tolerance from being achieved.  The error may be \n",
      "  underestimated.\n",
      "  return -(1.-e**2)**(3./2.)/2./np.pi *np.sqrt(sp.m_total(a) * a*(1.-e**2)) *  quad(integrand, 0., 2.*np.pi, limit = 100)[0]\n",
      "/home/pratibhajangra/imripy/src/imripy/inspiral.py:133: RuntimeWarning: invalid value encountered in sqrt\n",
      "  return np.sqrt(a * (1-e**2) * sp.m_total(a) * sp.m_reduced(a)**2 )\n",
      "/home/pratibhajangra/imripy/src/imripy/inspiral.py:172: RuntimeWarning: invalid value encountered in double_scalars\n",
      "  return -32./5. * sp.m_reduced(a)**2 * sp.m_total(a)**(5./2.) / a**(7./2.)  / (1. - e**2)**2 * (1. + 7./8.*e**2)\n"
     ]
    },
    {
     "name": "stdout",
     "output_type": "stream",
     "text": [
      "A termination event occurred.\n",
      " -> Evolution took 1.9619s\n",
      "Evolving from  4348546015286002.0  to  1.0 r_isco  with initial eccentricity 0.9  with  Options: accretion = False, haloPhaseSpaceDescription = False, accuracy = 1.0e-08\n"
     ]
    },
    {
     "name": "stderr",
     "output_type": "stream",
     "text": [
      "/home/pratibhajangra/imripy/src/imripy/inspiral.py:335: RuntimeWarning: invalid value encountered in sqrt\n",
      "  v_s = np.sqrt(sp.m_total(a) *(2./r - 1./a))\n",
      "/home/pratibhajangra/imripy/src/imripy/halo.py:321: RuntimeWarning: invalid value encountered in double_scalars\n",
      "  return np.where(r > self.r_min, self.rho_spike * (self.r_spike/r)**self.alpha, 0.)\n",
      "/home/pratibhajangra/imripy/src/imripy/inspiral.py:337: IntegrationWarning: The occurrence of roundoff error is detected, which prevents \n",
      "  the requested tolerance from being achieved.  The error may be \n",
      "  underestimated.\n",
      "  return -(1.-e**2)**(3./2.)/2./np.pi * quad(integrand, 0., 2.*np.pi, limit = 100)[0]\n",
      "/home/pratibhajangra/imripy/src/imripy/inspiral.py:361: IntegrationWarning: The occurrence of roundoff error is detected, which prevents \n",
      "  the requested tolerance from being achieved.  The error may be \n",
      "  underestimated.\n",
      "  return -(1.-e**2)**(3./2.)/2./np.pi *np.sqrt(sp.m_total(a) * a*(1.-e**2)) *  quad(integrand, 0., 2.*np.pi, limit = 100)[0]\n"
     ]
    },
    {
     "name": "stdout",
     "output_type": "stream",
     "text": [
      "Required step size is less than spacing between numbers.\n",
      " -> Evolution took 1.0886s\n"
     ]
    },
    {
     "data": {
      "image/png": "[encoded data removed]",
      "text/plain": [
       "<Figure size 720x360 with 1 Axes>"
      ]
     },
     "metadata": {
      "needs_background": "light"
     },
     "output_type": "display_data"
    }
   ],
   "source": [
    "e0_array = 1- np.geomspace(1e-5, 0.1, 3) \n",
    "\n",
    "e0_list = e0_array.tolist()            \n",
    "\n",
    "a0_list = [1e5*a_1, 1e7*a_2, 1e-8*a_3]\n",
    "\n",
    "m1_list = [1,1,1e5]\n",
    "\n",
    "m2_list = [1e-3,1e-4,1e5]\n",
    "\n",
    "\n",
    "a_fin = sp.r_isco()      # Choosen equal to r_icso\n",
    "\n",
    "R_fin = sp.r_isco()      # The final condition for the evolution\n",
    "\n",
    "\n",
    "plt.figure(figsize = (10, 5))\n",
    "plt.rcParams['xtick.direction'] = 'in'\n",
    "plt.rcParams['ytick.direction'] = 'in'\n",
    "plt.tick_params(which='both', right=True, top=True)\n",
    "\n",
    "t_m_list = np.zeros(len(e0_list))\n",
    "j_i_list = np.zeros(len(e0_list))\n",
    "\n",
    "colors = ['C0','C1','C2','C3', 'C4','C5']\n",
    "\n",
    "\n",
    "for i, (m1, m2, a0, e0, color) in enumerate (zip(m1_list, m2_list, a0_list, e0_list, colors)):\n",
    "    m1= m1* ms.solar_mass_to_pc\n",
    "    m2= m2*  ms.solar_mass_to_pc\n",
    "    sp = ms.SystemProp(m1, m2, spike, D_luminosity)\n",
    "    a0 = a0_list[i]  \n",
    "    e_0 = e0_list[i] \n",
    "    ev_ecc = imripy.inspiral.Classic.Evolve(sp, a0 , e_0,  a_fin = R_fin)\n",
    "    t_m_list[i] = ev_ecc.t[-1]/ms.year_to_pc\n",
    "    plt.loglog(m1_list, t_m_list, color=color)\n",
    "    \n",
    "\n",
    "    \n",
    "    \n",
    "plt.legend([\"$m_{1} = 1 \\, M_{\\odot}$ , $m_{2}= 10^{-3} \\, M_{\\odot}$ \",\"$m_{1} = 1 \\, M_{\\odot}$ , $m_{2}= 10^{-4} \\, M_{\\odot}$ \",\"$m_{1} = 10^{5} \\, M_{\\odot}$ , $m_{2}= 10 \\, M_{\\odot}$ \" ],\n",
    "            title_fontsize = 12, loc = 'upper left', prop = {\"size\":8})\n",
    "plt.xlabel('$m_{1} \\, [M_{\\odot}]$', fontsize = 13)\n",
    "plt.ylabel('final merger time / yr', fontsize = 12)\n",
    "plt.title('')\n",
    "plt.grid()\n",
    "plt.savefig('t_m vs m1.pdf', bbox_inches='tight')\n",
    "plt.show()"
   ]
  },
  {
   "cell_type": "code",
   "execution_count": 27,
   "id": "8e9410b2-0a31-41c8-9f0a-f7a8332c37bb",
   "metadata": {},
   "outputs": [
    {
     "name": "stdout",
     "output_type": "stream",
     "text": [
      "Evolving from  1.5995686318045546e+16  to  100000.0 r_isco  with initial eccentricity 0.99999  with  Options: accretion = False, haloPhaseSpaceDescription = False, accuracy = 1.0e-08\n"
     ]
    },
    {
     "name": "stderr",
     "output_type": "stream",
     "text": [
      "/home/pratibhajangra/imripy/src/imripy/inspiral.py:335: RuntimeWarning: invalid value encountered in sqrt\n",
      "  v_s = np.sqrt(sp.m_total(a) *(2./r - 1./a))\n",
      "/home/pratibhajangra/imripy/src/imripy/halo.py:321: RuntimeWarning: invalid value encountered in double_scalars\n",
      "  return np.where(r > self.r_min, self.rho_spike * (self.r_spike/r)**self.alpha, 0.)\n",
      "/home/pratibhajangra/imripy/src/imripy/inspiral.py:337: IntegrationWarning: The occurrence of roundoff error is detected, which prevents \n",
      "  the requested tolerance from being achieved.  The error may be \n",
      "  underestimated.\n",
      "  return -(1.-e**2)**(3./2.)/2./np.pi * quad(integrand, 0., 2.*np.pi, limit = 100)[0]\n",
      "/home/pratibhajangra/imripy/src/imripy/inspiral.py:172: RuntimeWarning: invalid value encountered in double_scalars\n",
      "  return -32./5. * sp.m_reduced(a)**2 * sp.m_total(a)**(5./2.) / a**(7./2.)  / (1. - e**2)**2 * (1. + 7./8.*e**2)\n",
      "/home/pratibhajangra/imripy/src/imripy/inspiral.py:361: RuntimeWarning: invalid value encountered in sqrt\n",
      "  return -(1.-e**2)**(3./2.)/2./np.pi *np.sqrt(sp.m_total(a) * a*(1.-e**2)) *  quad(integrand, 0., 2.*np.pi, limit = 100)[0]\n",
      "/home/pratibhajangra/imripy/src/imripy/inspiral.py:359: RuntimeWarning: invalid value encountered in sqrt\n",
      "  v_s = np.sqrt(sp.m_total(a) *(2./r - 1./a))\n",
      "/home/pratibhajangra/imripy/src/imripy/inspiral.py:361: IntegrationWarning: The occurrence of roundoff error is detected, which prevents \n",
      "  the requested tolerance from being achieved.  The error may be \n",
      "  underestimated.\n",
      "  return -(1.-e**2)**(3./2.)/2./np.pi *np.sqrt(sp.m_total(a) * a*(1.-e**2)) *  quad(integrand, 0., 2.*np.pi, limit = 100)[0]\n",
      "/home/pratibhajangra/imripy/src/imripy/inspiral.py:133: RuntimeWarning: invalid value encountered in sqrt\n",
      "  return np.sqrt(a * (1-e**2) * sp.m_total(a) * sp.m_reduced(a)**2 )\n",
      "/home/pratibhajangra/imripy/src/imripy/inspiral.py:153: RuntimeWarning: invalid value encountered in double_scalars\n",
      "  return -32./5. * sp.m_reduced(a)**2 * sp.m_total(a)**3 / a**5  / (1. - e**2)**(7./2.) * (1. + 73./24. * e**2 + 37./96. * e**4)\n",
      "/home/pratibhajangra/imripy/src/imripy/inspiral.py:337: RuntimeWarning: invalid value encountered in double_scalars\n",
      "  return -(1.-e**2)**(3./2.)/2./np.pi * quad(integrand, 0., 2.*np.pi, limit = 100)[0]\n",
      "/home/pratibhajangra/imripy/src/imripy/inspiral.py:361: RuntimeWarning: invalid value encountered in double_scalars\n",
      "  return -(1.-e**2)**(3./2.)/2./np.pi *np.sqrt(sp.m_total(a) * a*(1.-e**2)) *  quad(integrand, 0., 2.*np.pi, limit = 100)[0]\n"
     ]
    },
    {
     "name": "stdout",
     "output_type": "stream",
     "text": [
      "A termination event occurred.\n",
      " -> Evolution took 1.9459s\n",
      "Evolving from  408089321326120.8  to  100000.0 r_isco  with initial eccentricity 0.999  with  Options: accretion = False, haloPhaseSpaceDescription = False, accuracy = 1.0e-08\n"
     ]
    },
    {
     "name": "stderr",
     "output_type": "stream",
     "text": [
      "/home/pratibhajangra/imripy/src/imripy/inspiral.py:153: RuntimeWarning: invalid value encountered in double_scalars\n",
      "  return -32./5. * sp.m_reduced(a)**2 * sp.m_total(a)**3 / a**5  / (1. - e**2)**(7./2.) * (1. + 73./24. * e**2 + 37./96. * e**4)\n",
      "/home/pratibhajangra/imripy/src/imripy/inspiral.py:337: RuntimeWarning: invalid value encountered in double_scalars\n",
      "  return -(1.-e**2)**(3./2.)/2./np.pi * quad(integrand, 0., 2.*np.pi, limit = 100)[0]\n",
      "/home/pratibhajangra/imripy/src/imripy/inspiral.py:335: RuntimeWarning: invalid value encountered in sqrt\n",
      "  v_s = np.sqrt(sp.m_total(a) *(2./r - 1./a))\n",
      "/home/pratibhajangra/imripy/src/imripy/halo.py:321: RuntimeWarning: invalid value encountered in double_scalars\n",
      "  return np.where(r > self.r_min, self.rho_spike * (self.r_spike/r)**self.alpha, 0.)\n",
      "/home/pratibhajangra/imripy/src/imripy/inspiral.py:337: IntegrationWarning: The occurrence of roundoff error is detected, which prevents \n",
      "  the requested tolerance from being achieved.  The error may be \n",
      "  underestimated.\n",
      "  return -(1.-e**2)**(3./2.)/2./np.pi * quad(integrand, 0., 2.*np.pi, limit = 100)[0]\n",
      "/home/pratibhajangra/imripy/src/imripy/inspiral.py:361: RuntimeWarning: invalid value encountered in double_scalars\n",
      "  return -(1.-e**2)**(3./2.)/2./np.pi *np.sqrt(sp.m_total(a) * a*(1.-e**2)) *  quad(integrand, 0., 2.*np.pi, limit = 100)[0]\n",
      "/home/pratibhajangra/imripy/src/imripy/inspiral.py:361: RuntimeWarning: invalid value encountered in sqrt\n",
      "  return -(1.-e**2)**(3./2.)/2./np.pi *np.sqrt(sp.m_total(a) * a*(1.-e**2)) *  quad(integrand, 0., 2.*np.pi, limit = 100)[0]\n",
      "/home/pratibhajangra/imripy/src/imripy/inspiral.py:359: RuntimeWarning: invalid value encountered in sqrt\n",
      "  v_s = np.sqrt(sp.m_total(a) *(2./r - 1./a))\n",
      "/home/pratibhajangra/imripy/src/imripy/inspiral.py:361: IntegrationWarning: The occurrence of roundoff error is detected, which prevents \n",
      "  the requested tolerance from being achieved.  The error may be \n",
      "  underestimated.\n",
      "  return -(1.-e**2)**(3./2.)/2./np.pi *np.sqrt(sp.m_total(a) * a*(1.-e**2)) *  quad(integrand, 0., 2.*np.pi, limit = 100)[0]\n",
      "/home/pratibhajangra/imripy/src/imripy/inspiral.py:133: RuntimeWarning: invalid value encountered in sqrt\n",
      "  return np.sqrt(a * (1-e**2) * sp.m_total(a) * sp.m_reduced(a)**2 )\n",
      "/home/pratibhajangra/imripy/src/imripy/inspiral.py:172: RuntimeWarning: invalid value encountered in double_scalars\n",
      "  return -32./5. * sp.m_reduced(a)**2 * sp.m_total(a)**(5./2.) / a**(7./2.)  / (1. - e**2)**2 * (1. + 7./8.*e**2)\n"
     ]
    },
    {
     "name": "stdout",
     "output_type": "stream",
     "text": [
      "A termination event occurred.\n",
      " -> Evolution took 1.9513s\n",
      "Evolving from  4348546015286002.0  to  1.0 r_isco  with initial eccentricity 0.9  with  Options: accretion = False, haloPhaseSpaceDescription = False, accuracy = 1.0e-08\n"
     ]
    },
    {
     "name": "stderr",
     "output_type": "stream",
     "text": [
      "/home/pratibhajangra/imripy/src/imripy/inspiral.py:335: RuntimeWarning: invalid value encountered in sqrt\n",
      "  v_s = np.sqrt(sp.m_total(a) *(2./r - 1./a))\n",
      "/home/pratibhajangra/imripy/src/imripy/halo.py:321: RuntimeWarning: invalid value encountered in double_scalars\n",
      "  return np.where(r > self.r_min, self.rho_spike * (self.r_spike/r)**self.alpha, 0.)\n",
      "/home/pratibhajangra/imripy/src/imripy/inspiral.py:337: IntegrationWarning: The occurrence of roundoff error is detected, which prevents \n",
      "  the requested tolerance from being achieved.  The error may be \n",
      "  underestimated.\n",
      "  return -(1.-e**2)**(3./2.)/2./np.pi * quad(integrand, 0., 2.*np.pi, limit = 100)[0]\n",
      "/home/pratibhajangra/imripy/src/imripy/inspiral.py:361: IntegrationWarning: The occurrence of roundoff error is detected, which prevents \n",
      "  the requested tolerance from being achieved.  The error may be \n",
      "  underestimated.\n",
      "  return -(1.-e**2)**(3./2.)/2./np.pi *np.sqrt(sp.m_total(a) * a*(1.-e**2)) *  quad(integrand, 0., 2.*np.pi, limit = 100)[0]\n"
     ]
    },
    {
     "name": "stdout",
     "output_type": "stream",
     "text": [
      "Required step size is less than spacing between numbers.\n",
      " -> Evolution took 1.0954s\n"
     ]
    },
    {
     "data": {
      "image/png": "[encoded data removed]",
      "text/plain": [
       "<Figure size 720x360 with 1 Axes>"
      ]
     },
     "metadata": {
      "needs_background": "light"
     },
     "output_type": "display_data"
    }
   ],
   "source": [
    "e0_array = 1- np.geomspace(1e-5, 0.1, 3) \n",
    "\n",
    "e0_list = e0_array.tolist()            \n",
    "\n",
    "a0_list = [1e5*a_1, 1e7*a_2, 1e-8*a_3]\n",
    "\n",
    "m1_list = [1,1,1e5]\n",
    "\n",
    "m2_list = [1e-3,1e-4,1e5]\n",
    "\n",
    "\n",
    "a_fin = sp.r_isco()      # Choosen equal to r_icso\n",
    "\n",
    "R_fin = sp.r_isco()      # The final condition for the evolution\n",
    "\n",
    "\n",
    "plt.figure(figsize = (10, 5))\n",
    "plt.rcParams['xtick.direction'] = 'in'\n",
    "plt.rcParams['ytick.direction'] = 'in'\n",
    "plt.tick_params(which='both', right=True, top=True)\n",
    "\n",
    "t_m_list = np.zeros(len(e0_list))\n",
    "j_i_list = np.zeros(len(e0_list))\n",
    "\n",
    "colors = ['C0','C1','C2','C3', 'C4','C5']\n",
    "\n",
    "\n",
    "for i, (m1, m2, a0, e0, color) in enumerate (zip(m1_list, m2_list, a0_list, e0_list, colors)):\n",
    "    m1= m1* ms.solar_mass_to_pc\n",
    "    m2= m2*  ms.solar_mass_to_pc\n",
    "    sp = ms.SystemProp(m1, m2, spike, D_luminosity)\n",
    "    a0 = a0_list[i]  \n",
    "    e_0 = e0_list[i] \n",
    "    ev_ecc = imripy.inspiral.Classic.Evolve(sp, a0 , e_0,  a_fin = R_fin)\n",
    "    t_m_list[i] = ev_ecc.t[-1]/ms.year_to_pc\n",
    "    plt.loglog(m2_list, t_m_list, color=color)\n",
    "    \n",
    "\n",
    "    \n",
    "    \n",
    "plt.legend([\"$m_{1} = 1 \\, M_{\\odot}$ , $m_{2}= 10^{-3} \\, M_{\\odot}$ \",\"$m_{1} = 1 \\, M_{\\odot}$ , $m_{2}= 10^{-4} \\, M_{\\odot}$ \",\"$m_{1} = 10^{5} \\, M_{\\odot}$ , $m_{2}= 10 \\, M_{\\odot}$ \" ],\n",
    "            title_fontsize = 12, loc = 'upper left', prop = {\"size\":8})\n",
    "plt.xlabel('$m_{2}\\, [M_{\\odot}]$', fontsize = 13)\n",
    "plt.ylabel('final merger time / yr', fontsize = 12)\n",
    "plt.title('')\n",
    "plt.grid()\n",
    "plt.savefig('t_m vs m2.pdf', bbox_inches='tight')\n",
    "plt.show()"
   ]
  },
  {
   "cell_type": "code",
   "execution_count": null,
   "id": "9505602d-fbc9-4a9d-8e7a-b29c3181635a",
   "metadata": {},
   "outputs": [],
   "source": []
  }
 ],
 "metadata": {
  "kernelspec": {
   "display_name": "Python 3 (ipykernel)",
   "language": "python",
   "name": "python3"
  },
  "language_info": {
   "codemirror_mode": {
    "name": "ipython",
    "version": 3
   },
   "file_extension": ".py",
   "mimetype": "text/x-python",
   "name": "python",
   "nbconvert_exporter": "python",
   "pygments_lexer": "ipython3",
   "version": "3.9.12"
  }
 },
 "nbformat": 4,
 "nbformat_minor": 5
}
