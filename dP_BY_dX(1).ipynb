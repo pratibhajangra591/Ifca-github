{
 "cells": [
  {
   "cell_type": "code",
   "execution_count": 31,
   "id": "f48d3d6e-018b-45b8-8bd4-327bcd216f87",
   "metadata": {},
   "outputs": [],
   "source": [
    "import numpy as np\n",
    "import matplotlib.pyplot as plt\n",
    "import math\n",
    "from scipy.integrate import odeint\n",
    "from scipy.integrate import quad\n",
    "import seaborn as sns\n",
    "from matplotlib import rcParams\n",
    "from scipy.interpolate import InterpolatedUnivariateSpline\n",
    "plt.rcParams.update({\n",
    "  \"text.usetex\": True,\n",
    "  \"font.family\": \"serif\"\n",
    "})\n",
    "\n",
    "\n",
    "\n",
    "\n",
    "π = np.pi\n",
    "G = 4.4959e-15            #in units of M☉^-1 pc^3 yr^-2\n",
    "c = 0.3068                #in units of pc yr^-1\n",
    "ρ_eq = 3.1812e3           #in units of M☉ pc^-3 with ρ_eq=2.15368e-16 kg m^-3\n",
    "t = 13.78e9               #in units of yrs corresponding to t_0=13.78Gyr\n",
    "yr = 3.154e7              # in units of seconds\n",
    "pc = 3.0857e16            # in meters\n",
    "yr = 3.154e7              # in units of seconds\n",
    "t_eq = 1.59246e12/yr      # in units of seconds\n",
    "t_m = 5e9             #in units of yr \n",
    "σ_eq = 0.005\n",
    "ρ_m  = 4e19                #ρ_m=4e19 M☉ Gpc^-3\n",
    "\n",
    "\n",
    "\n",
    "\n",
    "m1 = np.geomspace(1, 1e5, 10)\n",
    "m2 = np.geomspace(1e-4, 10, 10)\n",
    "\n",
    "m_1_list = m1.tolist()\n",
    "m_2_list = m2.tolist()\n",
    "\n",
    "\n",
    "Δ_1_list = np.zeros(len(m_1_list))\n",
    "Δ_2_list = np.zeros(len(m_2_list))\n",
    "\n",
    "\n",
    "\n",
    "dm = (m_1_list[0] -  m_2_list[0])/2 \n",
    "\n",
    "for i, (m_1, m_2) in enumerate(zip(m_1_list, m_2_list)):\n",
    "    Δ_1_list[i] = Δ_2_list[i] = (m_1 + dm)  - (m_2 - dm)\n",
    "    \n",
    "# Merger Rate calculations for IMRIPY systems assuming that the DM halos are intact in the merging process.\n",
    "\n",
    "\n",
    "file = np.load('tmofj0.npz')\n",
    "ji_ref_list = file['arr_0']\n",
    "tm_ref_list = file['arr_1']\n",
    "\n",
    "\n",
    "\n",
    "\n",
    "λ_0 = 1\n",
    "\n",
    "def s(λ_0): # S_dec of the binary decouple.\n",
    "    return ((0.03095*λ_0 + 0.3425)*λ_0)\n",
    "    \n",
    "def t(λ_0): \n",
    "    return ((np.sqrt(3/(8*π*G*ρ_eq)))*(((2/3)*(s(λ_0)-2)*np.sqrt(s(λ_0)+1))+(4/3)))\n",
    "    \n",
    "g =  InterpolatedUnivariateSpline(tm_ref_list, ji_ref_list, ext = 2) # j_i = g(t_m)\n",
    "g_prime = g.derivative()\n",
    "\n",
    "\n",
    "\n",
    "\n",
    "def dP_dX(m_1,m_2,Δ_1,Δ_2, X):\n",
    "    \n",
    "    beta = 0.75\n",
    "    gamma  =  0.65\n",
    "    delta = -0.89\n",
    "    a_i_ref = (1e4 * 0.04606)   # in units of pc\n",
    "    m1_ref = 1      # in units of solar mass.\n",
    "    m2_ref = 1e-3   # in units of solar mass.\n",
    "\n",
    "    \n",
    "    def ρ_bar(m):\n",
    "        return ((ρ_eq/2)*(t_eq**(3/2))*((2*G*m)**(3/4))) \n",
    "    \n",
    "    def M_halo(m,λ_0):\n",
    "        return (((16*π)/3)*ρ_bar(m)*((2*G*m*(t(λ_0)**2))**(1/4)))\n",
    "    \n",
    "    def M(m,λ_0):\n",
    "        return (m + M_halo(m,λ_0))\n",
    "    \n",
    "    def M_binary_initial(m_1,m_2, λ_0):\n",
    "        return (m_1 + m_2 + M_halo(m_1,λ_0) + M_halo(m_2,λ_0))\n",
    "      \n",
    "    def f_(m):\n",
    "        return f*P(m)\n",
    "    \n",
    "    def f_b(m_1,m_2):\n",
    "        return  f_(m_1)+f_(m_2)\n",
    "    \n",
    "    def D(λ_0):\n",
    "        return ( 1 + 0.4440 * λ_0)/ np.sqrt(1 + 0.0583 * λ_0)\n",
    "    \n",
    "    \n",
    "    \n",
    "    def j_X(m_1, m_2, Δ_1, Δ_2, X):\n",
    "        return 0.4045 * np.sqrt(f**2 + 1.2005 * (σ_eq**2))  * np.sqrt((m_1 + m_2)/M_binary_initial(m_1,m_2, λ_0)) * D(λ_0) * (X/(f_b(m_1,m_2) * np.sqrt(Δ_1*Δ_2)))\n",
    "    \n",
    "    \n",
    "    f_pbh = 4.3e-3\n",
    "    f = 0.85*f_pbh\n",
    "        \n",
    "          \n",
    "    def P(m): #Powerlaw PBH mass distribution\n",
    "        α = 1.6\n",
    "        M = 1e-4     #in units of M☉\n",
    "        return ((α-1)/M) * ((m/M)**(-α))\n",
    "\n",
    "    def PDF(m):\n",
    "        return (P(m)/m)\n",
    "\n",
    "    I = quad(PDF, 1e-4, np.inf)     # Taking limits of the PBH mass from 5 M☉ to 100 M☉ instead of \n",
    "                                 # 0 to infinity.\n",
    "    \n",
    "    n_T = f*ρ_eq*I[0]            #n_T=f*ρ_eq∫(P(m)/m)*dm \n",
    "   \n",
    "    def x̄(m_1,m_2,Δ_1,Δ_2):\n",
    "        return (((3*(m_1 + m_2))/(8*π*ρ_eq*f_b(m_1,m_2)*np.sqrt(Δ_1*Δ_2)))**(1/3))\n",
    "    \n",
    "   \n",
    "    def λ(m_1,m_2,Δ_1,Δ_2):\n",
    "        return (8*π*ρ_eq*(x̄(m_1,m_2,Δ_1,Δ_2)**3))/(3*(m_1 + m_2))\n",
    "\n",
    "    def a_initial(m_1,m_2,Δ_1,Δ_2, X):  # for x = x_bar \n",
    "        return (0.0977*λ(m_1,m_2,Δ_1,Δ_2) + 0.0057*(λ(m_1,m_2,Δ_1,Δ_2)**2)) * x̄(m_1,m_2,Δ_1,Δ_2) * (X**(1/3))\n",
    "    \n",
    "    \n",
    "    def C(m_1,m_2,Δ_1,Δ_2, X):\n",
    "        return ((a_initial(m_1,m_2,Δ_1,Δ_2, X)/a_i_ref)**(beta)) * ((m_1/ m1_ref)**(gamma)) * ((m_2/m2_ref)**(delta))\n",
    "\n",
    "    \n",
    "    \n",
    "   \n",
    "   \n",
    "    return  np.exp(- X * ((4*π)/3) * (x̄(m_1,m_2,Δ_1,Δ_2)**3) * n_T)\n",
    "    \n",
    "    \n",
    "        \n",
    "    "
   ]
  },
  {
   "cell_type": "code",
   "execution_count": 35,
   "id": "25345fb6-2113-4866-bfd6-ffaa4e57f5e5",
   "metadata": {},
   "outputs": [
    {
     "data": {
      "image/png": "[encoded data removed]",
      "text/plain": [
       "<Figure size 432x288 with 1 Axes>"
      ]
     },
     "metadata": {
      "needs_background": "light"
     },
     "output_type": "display_data"
    }
   ],
   "source": [
    "X=np.geomspace(1e-2, 1e10, 10)\n",
    "\n",
    "X_list = X.tolist()\n",
    "\n",
    "dP_dX_list = np.zeros(len(X_list))\n",
    "\n",
    "\n",
    "for i, (m_1,m_2, Δ_1, Δ_2, X) in enumerate(zip(m_1_list, m_2_list, Δ_1_list, Δ_2_list, X_list)):\n",
    "    dP_dX_list[i] = dP_dX(m_1,m_2,Δ_1,Δ_2, X)\n",
    "        \n",
    "plt.loglog(X_list, dP_dX_list, 'g')\n",
    "plt.xlabel('X')\n",
    "plt.ylabel('$\\mathrm{dP/dX}$')\n",
    "plt.savefig('dP_dX.pdf')\n",
    "plt.show()"
   ]
  },
  {
   "cell_type": "code",
   "execution_count": 36,
   "id": "adf4be13-a29c-46e8-9ee5-62c97f483ff9",
   "metadata": {},
   "outputs": [
    {
     "data": {
      "image/png": "[encoded data removed]",
      "text/plain": [
       "<Figure size 432x288 with 1 Axes>"
      ]
     },
     "metadata": {
      "needs_background": "light"
     },
     "output_type": "display_data"
    }
   ],
   "source": [
    "X=np.geomspace(1e-2, 1e26, 10)\n",
    "\n",
    "X_list = X.tolist()\n",
    "\n",
    "dP_dX_list = np.zeros(len(X_list))\n",
    "\n",
    "\n",
    "for i, (m_1,m_2, Δ_1, Δ_2, X) in enumerate(zip(m_1_list, m_2_list, Δ_1_list, Δ_2_list, X_list)):\n",
    "    dP_dX_list[i] = dP_dX(m_1,m_2,Δ_1,Δ_2, X)\n",
    "        \n",
    "plt.loglog(X_list, dP_dX_list, 'g')\n",
    "plt.xlabel('X')\n",
    "plt.ylabel('$\\mathrm{dP/dX}$')\n",
    "plt.show()"
   ]
  },
  {
   "cell_type": "code",
   "execution_count": 37,
   "id": "7594fd5e-e058-4769-a920-f81473b95b24",
   "metadata": {},
   "outputs": [
    {
     "data": {
      "image/png": "[encoded data removed]",
      "text/plain": [
       "<Figure size 432x288 with 1 Axes>"
      ]
     },
     "metadata": {
      "needs_background": "light"
     },
     "output_type": "display_data"
    }
   ],
   "source": [
    "X=np.geomspace(1e-2, 1e50, 10)\n",
    "\n",
    "X_list = X.tolist()\n",
    "\n",
    "dP_dX_list = np.zeros(len(X_list))\n",
    "\n",
    "\n",
    "for i, (m_1,m_2, Δ_1, Δ_2, X) in enumerate(zip(m_1_list, m_2_list, Δ_1_list, Δ_2_list, X_list)):\n",
    "    dP_dX_list[i] = dP_dX(m_1,m_2,Δ_1,Δ_2, X)\n",
    "        \n",
    "plt.loglog(X_list, dP_dX_list, 'g')\n",
    "plt.xlabel('X')\n",
    "plt.ylabel('$\\mathrm{dP/dX}$')\n",
    "plt.show()"
   ]
  },
  {
   "cell_type": "code",
   "execution_count": 38,
   "id": "1b8b2ffe-7ed3-4871-acca-88d96a84399e",
   "metadata": {},
   "outputs": [
    {
     "data": {
      "image/png": "[encoded data removed]",
      "text/plain": [
       "<Figure size 432x288 with 1 Axes>"
      ]
     },
     "metadata": {
      "needs_background": "light"
     },
     "output_type": "display_data"
    }
   ],
   "source": [
    "X=np.geomspace(1e-2, 1e100, 10)\n",
    "\n",
    "X_list = X.tolist()\n",
    "\n",
    "dP_dX_list = np.zeros(len(X_list))\n",
    "\n",
    "\n",
    "for i, (m_1,m_2, Δ_1, Δ_2, X) in enumerate(zip(m_1_list, m_2_list, Δ_1_list, Δ_2_list, X_list)):\n",
    "    dP_dX_list[i] = dP_dX(m_1,m_2,Δ_1,Δ_2, X)\n",
    "        \n",
    "plt.loglog(X_list, dP_dX_list, 'g')\n",
    "plt.xlabel('X')\n",
    "plt.ylabel('$\\mathrm{dP/dX}$')\n",
    "plt.show()"
   ]
  },
  {
   "cell_type": "code",
   "execution_count": null,
   "id": "08475c0a-5983-4aaa-9b59-07fab262c6b1",
   "metadata": {},
   "outputs": [],
   "source": []
  }
 ],
 "metadata": {
  "kernelspec": {
   "display_name": "Python 3 (ipykernel)",
   "language": "python",
   "name": "python3"
  },
  "language_info": {
   "codemirror_mode": {
    "name": "ipython",
    "version": 3
   },
   "file_extension": ".py",
   "mimetype": "text/x-python",
   "name": "python",
   "nbconvert_exporter": "python",
   "pygments_lexer": "ipython3",
   "version": "3.9.12"
  }
 },
 "nbformat": 4,
 "nbformat_minor": 5
}
